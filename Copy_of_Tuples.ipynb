{
  "nbformat": 4,
  "nbformat_minor": 0,
  "metadata": {
    "colab": {
      "provenance": []
    },
    "kernelspec": {
      "name": "python3",
      "display_name": "Python 3"
    },
    "language_info": {
      "name": "python"
    }
  },
  "cells": [
    {
      "cell_type": "markdown",
      "source": [
        "Python Tuples:\n",
        "*  A tuple is a data type that represents an ordered,immutable sequence of elements.\n",
        "*  Tuples are similar to lists,but the key difference is that tuples cannot be modified once they are operated.\n",
        "*  They are defined using parentheses() and elements are separated by commas.\n",
        "\n",
        "Features of Tuples:\n",
        "\n",
        "1. Tuples are immutable datatype,meaning their elements cannot be changed after they are generated.\n",
        "2. Each element in a tuple has a specific order that will never because tuples are ordered sequences.\n",
        "\n",
        "Creating a Tuple:\n",
        "\n",
        "\n",
        "\n"
      ],
      "metadata": {
        "id": "1Sqpyh9ieeVW"
      }
    },
    {
      "cell_type": "code",
      "source": [
        "empty_tuple=()\n",
        "print(empty_tuple)"
      ],
      "metadata": {
        "colab": {
          "base_uri": "https://localhost:8080/"
        },
        "id": "DYdyaIgbiQvH",
        "outputId": "abb32f6e-fb07-40b7-8b05-d02071aa6be1"
      },
      "execution_count": null,
      "outputs": [
        {
          "output_type": "stream",
          "name": "stdout",
          "text": [
            "()\n"
          ]
        }
      ]
    },
    {
      "cell_type": "code",
      "source": [
        "fruits=(\"apple\", \"banana\", \"orange\")\n",
        "print(fruits)\n",
        "print(type(fruits))\n"
      ],
      "metadata": {
        "colab": {
          "base_uri": "https://localhost:8080/"
        },
        "id": "g2MaOiQcf2hR",
        "outputId": "40e987cd-4d66-42ca-8a60-2d0df45e62df"
      },
      "execution_count": null,
      "outputs": [
        {
          "output_type": "stream",
          "name": "stdout",
          "text": [
            "('apple', 'banana', 'orange')\n",
            "<class 'tuple'>\n"
          ]
        }
      ]
    },
    {
      "cell_type": "code",
      "source": [
        "mixed_tuple=(1,\"apple\",3.14,True)\n",
        "mixed_tuple\n"
      ],
      "metadata": {
        "colab": {
          "base_uri": "https://localhost:8080/"
        },
        "id": "cuMpsRj-hUIs",
        "outputId": "ee291264-cfd8-46f9-a165-f8508d0201ca"
      },
      "execution_count": null,
      "outputs": [
        {
          "output_type": "execute_result",
          "data": {
            "text/plain": [
              "(1, 'apple', 3.14, True)"
            ]
          },
          "metadata": {},
          "execution_count": 17
        }
      ]
    },
    {
      "cell_type": "code",
      "source": [
        "single_element_tuple=(42,)\n",
        "print(type(single_element_tuple))\n"
      ],
      "metadata": {
        "colab": {
          "base_uri": "https://localhost:8080/"
        },
        "id": "cT6gpGJgiE6b",
        "outputId": "5115b6d1-eb58-4d57-ea6d-47b932db45be"
      },
      "execution_count": null,
      "outputs": [
        {
          "output_type": "stream",
          "name": "stdout",
          "text": [
            "<class 'tuple'>\n"
          ]
        }
      ]
    },
    {
      "cell_type": "code",
      "source": [
        "fruits=(\"apple\",\"banana\",\"orange\")\n",
        "print(fruits)"
      ],
      "metadata": {
        "colab": {
          "base_uri": "https://localhost:8080/"
        },
        "id": "O8E0lh8DiNhB",
        "outputId": "751a4f41-b552-4c3d-c06f-c0139ce51383"
      },
      "execution_count": null,
      "outputs": [
        {
          "output_type": "stream",
          "name": "stdout",
          "text": [
            "('apple', 'banana', 'orange')\n"
          ]
        }
      ]
    },
    {
      "cell_type": "markdown",
      "source": [
        "Accessing of Tuples:\n",
        "* Tuples support indexing and slicing,just like lists."
      ],
      "metadata": {
        "id": "cI8RMjG4io3N"
      }
    },
    {
      "cell_type": "code",
      "source": [
        "fruits=(\"apple\",\"banana\",\"orange\")\n",
        "print(fruits[0]) #index\n",
        "print(fruits[0:7]) #slicing\n"
      ],
      "metadata": {
        "colab": {
          "base_uri": "https://localhost:8080/"
        },
        "id": "98a7sRPVi1MM",
        "outputId": "1e8f0b81-1da0-4abe-b81c-be5311082770"
      },
      "execution_count": null,
      "outputs": [
        {
          "output_type": "stream",
          "name": "stdout",
          "text": [
            "apple\n",
            "('apple', 'banana', 'orange')\n"
          ]
        }
      ]
    },
    {
      "cell_type": "code",
      "source": [
        "my_tuple=(\"apple\",\"banana\",\"cherry\")\n",
        "print(my_tuple[0])"
      ],
      "metadata": {
        "colab": {
          "base_uri": "https://localhost:8080/"
        },
        "id": "nD9vrLMyjN78",
        "outputId": "92f6ed65-45e7-48aa-9f84-f3a786749bed"
      },
      "execution_count": null,
      "outputs": [
        {
          "output_type": "stream",
          "name": "stdout",
          "text": [
            "apple\n"
          ]
        }
      ]
    },
    {
      "cell_type": "code",
      "source": [
        "my_tuple=(\"kiwi\",\"grape\",\"mango\")\n",
        "print(my_tuple[-1])"
      ],
      "metadata": {
        "colab": {
          "base_uri": "https://localhost:8080/"
        },
        "id": "C3ypK15yjn79",
        "outputId": "1cfe282e-acf6-46bb-f8b3-4880c37bc237"
      },
      "execution_count": null,
      "outputs": [
        {
          "output_type": "stream",
          "name": "stdout",
          "text": [
            "mango\n"
          ]
        }
      ]
    },
    {
      "cell_type": "code",
      "source": [
        "my_tuple=(\"apple\",\"banana\",\"cherry\",\"orange\",\"kiwi\",\"melon\",\"mango\")\n",
        "print(my_tuple[2:5])"
      ],
      "metadata": {
        "colab": {
          "base_uri": "https://localhost:8080/"
        },
        "id": "sy-fCkYEj1hB",
        "outputId": "25570367-6484-4ca7-f207-6a6c564187ef"
      },
      "execution_count": null,
      "outputs": [
        {
          "output_type": "stream",
          "name": "stdout",
          "text": [
            "('cherry', 'orange', 'kiwi')\n"
          ]
        }
      ]
    },
    {
      "cell_type": "code",
      "source": [
        "my_tuple=(\"apple\",\"banana\",\"cherry\")\n",
        "for fruit in my_tuple:\n",
        " print(fruit)"
      ],
      "metadata": {
        "colab": {
          "base_uri": "https://localhost:8080/"
        },
        "id": "SjOEmFtpkD93",
        "outputId": "660bbf18-618b-43c8-cd08-1ed36e6fca80"
      },
      "execution_count": null,
      "outputs": [
        {
          "output_type": "stream",
          "name": "stdout",
          "text": [
            "apple\n",
            "banana\n",
            "cherry\n"
          ]
        }
      ]
    },
    {
      "cell_type": "markdown",
      "source": [
        "Immutability:\n",
        " Once a tuple is created, we cannot change its elements.\n",
        "\n",
        " Example:"
      ],
      "metadata": {
        "id": "QBrxLF2YkW9o"
      }
    },
    {
      "cell_type": "code",
      "source": [
        "fruits=(\"apple\",\"banana\",\"orange\")\n",
        "#this will raise an error\n",
        "fruits[2]=\"Water\"\n",
        "#print(fruits)\n",
        "fruits"
      ],
      "metadata": {
        "colab": {
          "base_uri": "https://localhost:8080/",
          "height": 211
        },
        "id": "F8miCCFykoa4",
        "outputId": "e2877c91-2e33-429b-84b1-097c1e4606b3"
      },
      "execution_count": null,
      "outputs": [
        {
          "output_type": "error",
          "ename": "TypeError",
          "evalue": "'tuple' object does not support item assignment",
          "traceback": [
            "\u001b[0;31m---------------------------------------------------------------------------\u001b[0m",
            "\u001b[0;31mTypeError\u001b[0m                                 Traceback (most recent call last)",
            "\u001b[0;32m<ipython-input-33-4d9e95b9aead>\u001b[0m in \u001b[0;36m<cell line: 3>\u001b[0;34m()\u001b[0m\n\u001b[1;32m      1\u001b[0m \u001b[0mfruits\u001b[0m\u001b[0;34m=\u001b[0m\u001b[0;34m(\u001b[0m\u001b[0;34m\"apple\"\u001b[0m\u001b[0;34m,\u001b[0m\u001b[0;34m\"banana\"\u001b[0m\u001b[0;34m,\u001b[0m\u001b[0;34m\"orange\"\u001b[0m\u001b[0;34m)\u001b[0m\u001b[0;34m\u001b[0m\u001b[0;34m\u001b[0m\u001b[0m\n\u001b[1;32m      2\u001b[0m \u001b[0;31m#this will raise an error\u001b[0m\u001b[0;34m\u001b[0m\u001b[0;34m\u001b[0m\u001b[0m\n\u001b[0;32m----> 3\u001b[0;31m \u001b[0mfruits\u001b[0m\u001b[0;34m[\u001b[0m\u001b[0;36m2\u001b[0m\u001b[0;34m]\u001b[0m\u001b[0;34m=\u001b[0m\u001b[0;34m\"Water\"\u001b[0m\u001b[0;34m\u001b[0m\u001b[0;34m\u001b[0m\u001b[0m\n\u001b[0m\u001b[1;32m      4\u001b[0m \u001b[0;31m#print(fruits)\u001b[0m\u001b[0;34m\u001b[0m\u001b[0;34m\u001b[0m\u001b[0m\n\u001b[1;32m      5\u001b[0m \u001b[0mfruits\u001b[0m\u001b[0;34m\u001b[0m\u001b[0;34m\u001b[0m\u001b[0m\n",
            "\u001b[0;31mTypeError\u001b[0m: 'tuple' object does not support item assignment"
          ]
        }
      ]
    },
    {
      "cell_type": "markdown",
      "source": [
        "Tuple Operations in python:\n",
        "* There are mainly 9 operations of tuples in python.They are:\n",
        "\n",
        "1)Concatenation:combining two or more sequences into a single one. With tuples, this is done using the + operator.\n",
        "\n",
        "Example:"
      ],
      "metadata": {
        "id": "75tCkBSQk7CV"
      }
    },
    {
      "cell_type": "code",
      "source": [
        "tuple1=(1,2,3)\n",
        "tuple2=('a','b','c')\n",
        "result=tuple1+tuple2\n",
        "print(result)"
      ],
      "metadata": {
        "colab": {
          "base_uri": "https://localhost:8080/"
        },
        "id": "JhOYWkUZmycn",
        "outputId": "34d551d6-1dd8-4020-9be3-45bcb2479db0"
      },
      "execution_count": null,
      "outputs": [
        {
          "output_type": "stream",
          "name": "stdout",
          "text": [
            "(1, 2, 3, 'a', 'b', 'c')\n"
          ]
        }
      ]
    },
    {
      "cell_type": "markdown",
      "source": [
        "2)Repetition:We can create a tuple of multiple same elements from a single element in that tuple.\n",
        "\n",
        "Example:"
      ],
      "metadata": {
        "id": "ptVKXld3nDo2"
      }
    },
    {
      "cell_type": "code",
      "source": [
        "tuple1=(1,2,3)\n",
        "result=tuple1*20\n",
        "print(result)"
      ],
      "metadata": {
        "colab": {
          "base_uri": "https://localhost:8080/"
        },
        "id": "prB9bqdgnLil",
        "outputId": "9bcf7039-6cdb-42bf-c55f-93f44b566042"
      },
      "execution_count": null,
      "outputs": [
        {
          "output_type": "stream",
          "name": "stdout",
          "text": [
            "(1, 2, 3, 1, 2, 3, 1, 2, 3, 1, 2, 3, 1, 2, 3, 1, 2, 3, 1, 2, 3, 1, 2, 3, 1, 2, 3, 1, 2, 3, 1, 2, 3, 1, 2, 3, 1, 2, 3, 1, 2, 3, 1, 2, 3, 1, 2, 3, 1, 2, 3, 1, 2, 3, 1, 2, 3, 1, 2, 3)\n"
          ]
        }
      ]
    },
    {
      "cell_type": "markdown",
      "source": [
        "3)Nesting:A nested tuple in Python means a tuple inside another tuple.\n",
        "\n",
        "Example:"
      ],
      "metadata": {
        "id": "-TWjjXSfnWCN"
      }
    },
    {
      "cell_type": "code",
      "source": [
        "#Code for creating nested tuples\n",
        "tuple1=(0, 1, 2, 3)\n",
        "tuple2=('python','Datascience')\n",
        "tuple3 = (tuple1, tuple2)\n",
        "print(tuple3)\n"
      ],
      "metadata": {
        "colab": {
          "base_uri": "https://localhost:8080/"
        },
        "id": "bA0Dr9Zsnn9G",
        "outputId": "e43da4e8-42da-44a9-f608-0367fdd1f792"
      },
      "execution_count": null,
      "outputs": [
        {
          "output_type": "stream",
          "name": "stdout",
          "text": [
            "((0, 1, 2, 3), ('python', 'Datascience'))\n"
          ]
        }
      ]
    },
    {
      "cell_type": "markdown",
      "source": [
        "4)Slicing:It means dividing a tuple into small tuples using the indexing method.\n",
        "\n",
        "Example:"
      ],
      "metadata": {
        "id": "VZZonEoHn2nX"
      }
    },
    {
      "cell_type": "code",
      "source": [
        "#code to test slicing\n",
        "tuple1=(0 ,1, 2, 3)\n",
        "print(tuple1[1:])\n",
        "print(tuple1[::-1])\n",
        "print(tuple1[2:4])\n"
      ],
      "metadata": {
        "colab": {
          "base_uri": "https://localhost:8080/"
        },
        "id": "_THcq8X-oD6s",
        "outputId": "2c352fe6-6769-48cf-87dd-26fb0327e285"
      },
      "execution_count": null,
      "outputs": [
        {
          "output_type": "stream",
          "name": "stdout",
          "text": [
            "(1, 2, 3)\n",
            "(3, 2, 1, 0)\n",
            "(2, 3)\n"
          ]
        }
      ]
    },
    {
      "cell_type": "markdown",
      "source": [
        "5)Delete:we are deleting a tuple using ‘del’ keyword. The output will be in the form of error because after deleting the tuple, it will give a NameError.\n",
        "\n",
        "Example:"
      ],
      "metadata": {
        "id": "CQM10a8toLgY"
      }
    },
    {
      "cell_type": "code",
      "source": [
        "#Code for deleting a tuple\n",
        "tuple3=(0,1)\n",
        "del tuple3\n",
        "print(tuple3)"
      ],
      "metadata": {
        "colab": {
          "base_uri": "https://localhost:8080/",
          "height": 176
        },
        "id": "R0-3pcnsoWol",
        "outputId": "f682ec1a-0440-4925-c1d7-8d4b110ae5ee"
      },
      "execution_count": null,
      "outputs": [
        {
          "output_type": "error",
          "ename": "NameError",
          "evalue": "name 'tuple3' is not defined",
          "traceback": [
            "\u001b[0;31m---------------------------------------------------------------------------\u001b[0m",
            "\u001b[0;31mNameError\u001b[0m                                 Traceback (most recent call last)",
            "\u001b[0;32m<ipython-input-43-07605b7c5d5f>\u001b[0m in \u001b[0;36m<cell line: 4>\u001b[0;34m()\u001b[0m\n\u001b[1;32m      2\u001b[0m \u001b[0mtuple3\u001b[0m\u001b[0;34m=\u001b[0m\u001b[0;34m(\u001b[0m\u001b[0;36m0\u001b[0m\u001b[0;34m,\u001b[0m\u001b[0;36m1\u001b[0m\u001b[0;34m)\u001b[0m\u001b[0;34m\u001b[0m\u001b[0;34m\u001b[0m\u001b[0m\n\u001b[1;32m      3\u001b[0m \u001b[0;32mdel\u001b[0m \u001b[0mtuple3\u001b[0m\u001b[0;34m\u001b[0m\u001b[0;34m\u001b[0m\u001b[0m\n\u001b[0;32m----> 4\u001b[0;31m \u001b[0mprint\u001b[0m\u001b[0;34m(\u001b[0m\u001b[0mtuple3\u001b[0m\u001b[0;34m)\u001b[0m\u001b[0;34m\u001b[0m\u001b[0;34m\u001b[0m\u001b[0m\n\u001b[0m",
            "\u001b[0;31mNameError\u001b[0m: name 'tuple3' is not defined"
          ]
        }
      ]
    },
    {
      "cell_type": "markdown",
      "source": [
        "6)Finding the lenght of tuple():To find the length of a tuple, we can use Python’s len() function and pass the tuple as the parameter.\n",
        "\n",
        "Example:"
      ],
      "metadata": {
        "id": "makrn6s6pMZ_"
      }
    },
    {
      "cell_type": "code",
      "source": [
        "#Code for printing the length of a tuple\n",
        "tuple2=('python','css')\n",
        "print(len(tuple2))"
      ],
      "metadata": {
        "colab": {
          "base_uri": "https://localhost:8080/"
        },
        "id": "8A1YTmCfpbKA",
        "outputId": "645c8781-e983-4efb-b6c3-89b2941dd5c1"
      },
      "execution_count": null,
      "outputs": [
        {
          "output_type": "stream",
          "name": "stdout",
          "text": [
            "2\n"
          ]
        }
      ]
    },
    {
      "cell_type": "markdown",
      "source": [
        "7)Multiple Data Types With Tuple:\n",
        "Tuples in Python are heterogeneous in nature. This means tuples support elements with multiple datatypes.\n",
        "\n",
        "Example:"
      ],
      "metadata": {
        "id": "nm2XyA-_ptnN"
      }
    },
    {
      "cell_type": "code",
      "source": [
        "#tuple with different datatypes\n",
        "tuple_obj=(\"immutable\",True,23)\n",
        "print(tuple_obj)\n"
      ],
      "metadata": {
        "colab": {
          "base_uri": "https://localhost:8080/"
        },
        "id": "Xu-ROVCIpxU3",
        "outputId": "7f8981b9-0752-4a15-ff57-4b13a5f9e7a0"
      },
      "execution_count": null,
      "outputs": [
        {
          "output_type": "stream",
          "name": "stdout",
          "text": [
            "('immutable', True, 23)\n"
          ]
        }
      ]
    },
    {
      "cell_type": "markdown",
      "source": [
        "8)Converting a List to a Tuple:\n",
        "We can convert a list in Python to a tuple by using the tuple() constructor and passing the list as its parameters.\n",
        "\n",
        "Example:"
      ],
      "metadata": {
        "id": "xmTQGag9p8eK"
      }
    },
    {
      "cell_type": "code",
      "source": [
        "#Code for converting a list and a string into a tuple\n",
        "list1=[0, 1, 2]\n",
        "print(tuple(list1))\n",
        "#string 'python'\n",
        "print(tuple('python'))\n"
      ],
      "metadata": {
        "colab": {
          "base_uri": "https://localhost:8080/"
        },
        "id": "LushfZ8Mp_sk",
        "outputId": "5b7c4913-428a-42ee-8810-6fe0490eeb21"
      },
      "execution_count": null,
      "outputs": [
        {
          "output_type": "stream",
          "name": "stdout",
          "text": [
            "(0, 1, 2)\n",
            "('p', 'y', 't', 'h', 'o', 'n')\n"
          ]
        }
      ]
    },
    {
      "cell_type": "markdown",
      "source": [
        "9)Tuples in a Loop:\n",
        "We can also create a tuple with a single element in it using loops.\n",
        "\n",
        "Example:"
      ],
      "metadata": {
        "id": "m-vIx83nqUAs"
      }
    },
    {
      "cell_type": "code",
      "source": [
        "#python code for creating tuples in a loop\n",
        "tup=('HTML',)\n",
        "#Number of time loop runs\n",
        "n=5\n",
        "for i in range(int(n)):\n",
        "\ttup = (tup,)\n",
        "\tprint(tup)\n"
      ],
      "metadata": {
        "colab": {
          "base_uri": "https://localhost:8080/"
        },
        "id": "xL872O5NqbbV",
        "outputId": "7edafdeb-08e1-4020-92a4-b95611905090"
      },
      "execution_count": null,
      "outputs": [
        {
          "output_type": "stream",
          "name": "stdout",
          "text": [
            "(('HTML',),)\n",
            "((('HTML',),),)\n",
            "(((('HTML',),),),)\n",
            "((((('HTML',),),),),)\n",
            "(((((('HTML',),),),),),)\n"
          ]
        }
      ]
    },
    {
      "cell_type": "markdown",
      "source": [
        "Tuple Methods:\n",
        "*  Tuples have limited methods when compared to lists due to their immutability.\n",
        "\n",
        "\n",
        "1)Count():Returns the number of occurrences of a specified value.\n",
        "\n",
        "Example:"
      ],
      "metadata": {
        "id": "s4S2jxRzrNX6"
      }
    },
    {
      "cell_type": "code",
      "source": [
        "numbers=(1,2,2,3,4,2,4,2,9,4,8,2,9,7,6,7,2)\n",
        "count_of_2=numbers.count(4)\n",
        "print(count_of_2)"
      ],
      "metadata": {
        "colab": {
          "base_uri": "https://localhost:8080/"
        },
        "id": "iLm5pPT_rz1s",
        "outputId": "baca01f9-76b2-463a-9bd8-173134feb3ec"
      },
      "execution_count": null,
      "outputs": [
        {
          "output_type": "stream",
          "name": "stdout",
          "text": [
            "3\n"
          ]
        }
      ]
    },
    {
      "cell_type": "markdown",
      "source": [
        "2)Index():Reeturns the index of the first occurence of a specified value.\n",
        "\n",
        "Example:"
      ],
      "metadata": {
        "id": "ObfiDo6bsJ8Z"
      }
    },
    {
      "cell_type": "code",
      "source": [
        "numbers=(1,2,5,3,4,5,7)\n",
        "index_of_3=numbers.index(7)\n",
        "print(index_of_3)"
      ],
      "metadata": {
        "colab": {
          "base_uri": "https://localhost:8080/"
        },
        "id": "464ZIjXDscMX",
        "outputId": "b49d6ee0-4621-4899-e282-817c8b7fd1d0"
      },
      "execution_count": null,
      "outputs": [
        {
          "output_type": "stream",
          "name": "stdout",
          "text": [
            "6\n"
          ]
        }
      ]
    }
  ]
}