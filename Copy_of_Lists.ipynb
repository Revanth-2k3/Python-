{
  "nbformat": 4,
  "nbformat_minor": 0,
  "metadata": {
    "colab": {
      "provenance": []
    },
    "kernelspec": {
      "name": "python3",
      "display_name": "Python 3"
    },
    "language_info": {
      "name": "python"
    }
  },
  "cells": [
    {
      "cell_type": "markdown",
      "source": [
        "Python Lists:\n",
        " It is commonly used data type that represents an ordered,mutable(modifiable),iterable sequence of elememts.Lists are used to store collection of items and these can be of any data type,including numbers,strings or even other lists.\n",
        " Lists are defined using square brackets[] and elements which are separated by commas.\n",
        "\n",
        " Creation of Lists:"
      ],
      "metadata": {
        "id": "htW0mp0e7HAT"
      }
    },
    {
      "cell_type": "code",
      "source": [
        "my_list = [1, 2, 3, 4, 5]\n",
        "print(my_list)"
      ],
      "metadata": {
        "colab": {
          "base_uri": "https://localhost:8080/"
        },
        "id": "Vp8fvysx77qE",
        "outputId": "efd5b460-f2e1-4863-d200-302aba5b078d"
      },
      "execution_count": null,
      "outputs": [
        {
          "output_type": "stream",
          "name": "stdout",
          "text": [
            "[1, 2, 3, 4, 5]\n"
          ]
        }
      ]
    },
    {
      "cell_type": "code",
      "source": [
        "mixed_data = [10, \"hello\", 3.14, True]\n",
        "print(mixed_data)"
      ],
      "metadata": {
        "colab": {
          "base_uri": "https://localhost:8080/"
        },
        "id": "nINJkCHc8jHE",
        "outputId": "9295e57f-0aaf-4019-84ce-a6dc90e8aa6a"
      },
      "execution_count": null,
      "outputs": [
        {
          "output_type": "stream",
          "name": "stdout",
          "text": [
            "[10, 'hello', 3.14, True]\n"
          ]
        }
      ]
    },
    {
      "cell_type": "code",
      "source": [
        "numbers = list(range(1, 11))\n",
        "print(numbers)"
      ],
      "metadata": {
        "colab": {
          "base_uri": "https://localhost:8080/"
        },
        "id": "J5GlC2GG8n4S",
        "outputId": "4af2ff4a-2c28-48d8-a4dd-7a49cab0b6ce"
      },
      "execution_count": null,
      "outputs": [
        {
          "output_type": "stream",
          "name": "stdout",
          "text": [
            "[1, 2, 3, 4, 5, 6, 7, 8, 9, 10]\n"
          ]
        }
      ]
    },
    {
      "cell_type": "code",
      "source": [
        "fruits = [\"apple\", \"banana\", \"orange\", \"grape\"]\n",
        "print(fruits)"
      ],
      "metadata": {
        "colab": {
          "base_uri": "https://localhost:8080/"
        },
        "id": "Xb35my968tVW",
        "outputId": "6eea1faf-1a4e-4c1e-d65e-e0817964f42d"
      },
      "execution_count": null,
      "outputs": [
        {
          "output_type": "stream",
          "name": "stdout",
          "text": [
            "['apple', 'banana', 'orange', 'grape']\n"
          ]
        }
      ]
    },
    {
      "cell_type": "code",
      "source": [
        "mixed_data = [10, \"hello\", 3.14, True]\n",
        "print(mixed_data)"
      ],
      "metadata": {
        "colab": {
          "base_uri": "https://localhost:8080/"
        },
        "id": "QIgZP6F387He",
        "outputId": "d8da5c9c-b439-4b82-fa67-55eac7edba97"
      },
      "execution_count": null,
      "outputs": [
        {
          "output_type": "stream",
          "name": "stdout",
          "text": [
            "[10, 'hello', 3.14, True]\n"
          ]
        }
      ]
    },
    {
      "cell_type": "markdown",
      "source": [
        "Access List Elements:\n",
        " In python,lists are ordered and each item in a list is associated with a number.The number is known as list index.The index of the first element is 0,second element is 1 etc.Python allows negative indexing for its sequences.The index of -1 refers to the last item,-2 to the second last item and so on.\n",
        "\n",
        " Examples:"
      ],
      "metadata": {
        "id": "qsxrXNzI9rSA"
      }
    },
    {
      "cell_type": "code",
      "source": [
        "languages=[\"python\",\"swift\",\"c++\",\"c\"]\n",
        "#access item at index 0\n",
        "print(languages[0])  #python\n",
        "#access item at index 2\n",
        "print(languages[2]) #c++"
      ],
      "metadata": {
        "colab": {
          "base_uri": "https://localhost:8080/"
        },
        "id": "G1KuLdo-_QuT",
        "outputId": "98030d06-6627-4db8-fff6-a8eef1dac628"
      },
      "execution_count": null,
      "outputs": [
        {
          "output_type": "stream",
          "name": "stdout",
          "text": [
            "python\n",
            "c++\n"
          ]
        }
      ]
    },
    {
      "cell_type": "code",
      "source": [
        "my_list=[10,20,30,40,50]\n",
        "print(my_list[0])\n",
        "print(my_list[2])"
      ],
      "metadata": {
        "colab": {
          "base_uri": "https://localhost:8080/"
        },
        "id": "IftMGNqNARxL",
        "outputId": "6543abc6-7e36-45fd-9721-08e269f1ad59"
      },
      "execution_count": null,
      "outputs": [
        {
          "output_type": "stream",
          "name": "stdout",
          "text": [
            "10\n",
            "30\n"
          ]
        }
      ]
    },
    {
      "cell_type": "code",
      "source": [
        "my_list=['apple','banana','orange','grape']\n",
        "print(my_list[-1])\n",
        "print(my_list[-3])"
      ],
      "metadata": {
        "colab": {
          "base_uri": "https://localhost:8080/"
        },
        "id": "Xv9N9BJ9Auzo",
        "outputId": "2b814dae-3b92-48e7-ac96-61db24694389"
      },
      "execution_count": null,
      "outputs": [
        {
          "output_type": "stream",
          "name": "stdout",
          "text": [
            "grape\n",
            "banana\n"
          ]
        }
      ]
    },
    {
      "cell_type": "markdown",
      "source": [
        "Slicing of a list:\n",
        " In python, it is possible to access a portion of a list using the slicing operator.\n",
        "\n",
        " Examples:"
      ],
      "metadata": {
        "id": "9wAJGQXYBDwM"
      }
    },
    {
      "cell_type": "code",
      "source": [
        "my_list=[1,2,3,4,5,6,7,8,9]\n",
        "sliced_list=my_list[2:5]\n",
        "#Elements from index 2 to 4\n",
        "print(sliced_list)"
      ],
      "metadata": {
        "colab": {
          "base_uri": "https://localhost:8080/"
        },
        "id": "69haSHOeBdXY",
        "outputId": "55904a55-dbd0-418c-d80e-e4589ba3f6c1"
      },
      "execution_count": null,
      "outputs": [
        {
          "output_type": "stream",
          "name": "stdout",
          "text": [
            "[3, 4, 5]\n"
          ]
        }
      ]
    },
    {
      "cell_type": "code",
      "source": [
        "my_list=[10,20,30,40,50]\n",
        "sliced_list=my_list[-3:]\n",
        "#Last three elements\n",
        "print(sliced_list)"
      ],
      "metadata": {
        "colab": {
          "base_uri": "https://localhost:8080/"
        },
        "id": "nqf9J39kBu1_",
        "outputId": "d7256085-5e65-464b-fe1f-c7b0d2af57dd"
      },
      "execution_count": null,
      "outputs": [
        {
          "output_type": "stream",
          "name": "stdout",
          "text": [
            "[30, 40, 50]\n"
          ]
        }
      ]
    },
    {
      "cell_type": "code",
      "source": [
        "my_list=[10,20,30,40,50]\n",
        "reversed_list=my_list[::-1]\n",
        "#Reverse the entire list\n",
        "print(reversed_list)"
      ],
      "metadata": {
        "colab": {
          "base_uri": "https://localhost:8080/"
        },
        "id": "HVdLMF_6CHnG",
        "outputId": "3126593e-c6d3-45ba-d05c-84dca8394a70"
      },
      "execution_count": null,
      "outputs": [
        {
          "output_type": "stream",
          "name": "stdout",
          "text": [
            "[50, 40, 30, 20, 10]\n"
          ]
        }
      ]
    },
    {
      "cell_type": "code",
      "source": [
        "#list slicing in python\n",
        "my_list=['E','t','e','r','n','a','l','t','e','k','y','e','f','y']\n",
        "#items from index 2 to iindex 4\n",
        "print(my_list[2:7]) #n-1\n",
        "#items from index 5 to end\n",
        "print(my_list[:10])\n",
        "#items beginning to end\n",
        "print(my_list[7:])"
      ],
      "metadata": {
        "colab": {
          "base_uri": "https://localhost:8080/"
        },
        "id": "Qd0Y_86zCYlx",
        "outputId": "79e2c1d1-2831-4a50-e8a2-d96d87912df2"
      },
      "execution_count": null,
      "outputs": [
        {
          "output_type": "stream",
          "name": "stdout",
          "text": [
            "['e', 'r', 'n', 'a', 'l']\n",
            "['E', 't', 'e', 'r', 'n', 'a', 'l', 't', 'e', 'k']\n",
            "['t', 'e', 'k', 'y', 'e', 'f', 'y']\n"
          ]
        }
      ]
    },
    {
      "cell_type": "code",
      "source": [
        "my_list=['E','t','e','r','n','g','e','r','n','g','e','r','u','n','a','l','t','e','k','t']\n",
        "print(my_list[-8:-2]) #n-1"
      ],
      "metadata": {
        "colab": {
          "base_uri": "https://localhost:8080/"
        },
        "id": "EVfXKdUKDVFn",
        "outputId": "70f316b0-3652-438a-adcb-cf72e9db2b9e"
      },
      "execution_count": null,
      "outputs": [
        {
          "output_type": "stream",
          "name": "stdout",
          "text": [
            "['u', 'n', 'a', 'l', 't', 'e']\n"
          ]
        }
      ]
    },
    {
      "cell_type": "markdown",
      "source": [
        "List Operations in python:There are mainly 2 operations in it.They are:concatenation and repetition"
      ],
      "metadata": {
        "id": "-M3Te6sOEPSs"
      }
    },
    {
      "cell_type": "markdown",
      "source": [
        "a)Concatenation:Concatenation in Python refers to combining two or more lists into a single list.\n",
        "\n",
        "Examples:"
      ],
      "metadata": {
        "id": "v0AXvSRtFfYu"
      }
    },
    {
      "cell_type": "code",
      "source": [
        "#concatenation\n",
        "a=[1,2,3]\n",
        "b=[1,4,5,6,9]\n",
        "c=a+b\n",
        "print(c)"
      ],
      "metadata": {
        "colab": {
          "base_uri": "https://localhost:8080/"
        },
        "id": "Z4zYxNXiF0wJ",
        "outputId": "b66fc557-bd57-491d-e43a-df8f530ed21a"
      },
      "execution_count": null,
      "outputs": [
        {
          "output_type": "stream",
          "name": "stdout",
          "text": [
            "[1, 2, 3, 1, 4, 5, 6, 9]\n"
          ]
        }
      ]
    },
    {
      "cell_type": "markdown",
      "source": [
        "  Some of the common methods in concatenation are:\n",
        "\n",
        "  1)Using the (+) operator:This is the most straightforward way to concatenate lists.\n",
        "\n",
        "  Example:\n",
        "\n",
        "\n",
        "\n",
        "\n",
        "\n"
      ],
      "metadata": {
        "id": "9klL0Q0gHKQt"
      }
    },
    {
      "cell_type": "code",
      "source": [
        "list1=[1, 2, 3]\n",
        "list2=[4, 5, 6]\n",
        "combined_list=list1+list2\n",
        "print(combined_list)"
      ],
      "metadata": {
        "colab": {
          "base_uri": "https://localhost:8080/"
        },
        "id": "Yi7zwzgtHpyf",
        "outputId": "2fb90de3-4a2c-4cf8-bd31-3137d4ca63b5"
      },
      "execution_count": null,
      "outputs": [
        {
          "output_type": "stream",
          "name": "stdout",
          "text": [
            "[1, 2, 3, 4, 5, 6]\n"
          ]
        }
      ]
    },
    {
      "cell_type": "markdown",
      "source": [
        "2) Using the extend() Method:\n",
        "The extend() method modifies the original list by appending elements from another list.\n",
        "\n",
        "Example:"
      ],
      "metadata": {
        "id": "_zr-ao-EH6ra"
      }
    },
    {
      "cell_type": "code",
      "source": [
        "list1 = [2,3,4]\n",
        "list2 = [5,6,7]\n",
        "list1.extend(list2)\n",
        "print(list1)"
      ],
      "metadata": {
        "colab": {
          "base_uri": "https://localhost:8080/"
        },
        "id": "_tMBre6GICGU",
        "outputId": "275b02cb-14ac-4930-c42c-257646504ff2"
      },
      "execution_count": null,
      "outputs": [
        {
          "output_type": "stream",
          "name": "stdout",
          "text": [
            "[2, 3, 4, 5, 6, 7]\n"
          ]
        }
      ]
    },
    {
      "cell_type": "markdown",
      "source": [
        "3) Using the * Operator (Unpacking):\n",
        "This method unpacks the elements of multiple lists and creates a new list.\n",
        "\n",
        "Example:\n",
        "\n"
      ],
      "metadata": {
        "id": "ezUFDMWhIWTJ"
      }
    },
    {
      "cell_type": "code",
      "source": [
        "list1=[6,7]\n",
        "list2=[8,9]\n",
        "combined_list=[*list1,*list2]\n",
        "print(combined_list)"
      ],
      "metadata": {
        "colab": {
          "base_uri": "https://localhost:8080/"
        },
        "id": "LzQ8s_blIfC3",
        "outputId": "932cb343-1713-4057-e83a-11fac10500d4"
      },
      "execution_count": null,
      "outputs": [
        {
          "output_type": "stream",
          "name": "stdout",
          "text": [
            "[6, 7, 8, 9]\n"
          ]
        }
      ]
    },
    {
      "cell_type": "markdown",
      "source": [
        "4)Using List Comprehension:\n",
        "While not strictly concatenation, list comprehension can be used to create a new list by combining elements from multiple lists based on conditions.\n",
        "\n",
        "Example:"
      ],
      "metadata": {
        "id": "BB5OBIZ8Ir0B"
      }
    },
    {
      "cell_type": "code",
      "source": [
        "list1=[1, 2, 3]\n",
        "list2=['a','b','c']\n",
        "combined_list = [x for pair in zip(list1, list2) for x in pair]\n",
        "print(combined_list)"
      ],
      "metadata": {
        "colab": {
          "base_uri": "https://localhost:8080/"
        },
        "id": "QphLe2miI0TI",
        "outputId": "1aecf6bc-1d61-4422-9848-1f0083fe4d0f"
      },
      "execution_count": null,
      "outputs": [
        {
          "output_type": "stream",
          "name": "stdout",
          "text": [
            "[1, 'a', 2, 'b', 3, 'c']\n"
          ]
        }
      ]
    },
    {
      "cell_type": "markdown",
      "source": [
        "5)Using itertools.chain():\n",
        "From the itertools module, chain() can be used to create an iterator that iterates over the elements of multiple iterables.\n",
        "\n",
        "Example:"
      ],
      "metadata": {
        "id": "UEVb-scNI9Tq"
      }
    },
    {
      "cell_type": "code",
      "source": [
        "from itertools import chain\n",
        "list1=[22,23,24]\n",
        "list2=[25,26,27]\n",
        "combined_list=list(chain(list1, list2))\n",
        "print(combined_list)"
      ],
      "metadata": {
        "colab": {
          "base_uri": "https://localhost:8080/"
        },
        "id": "POpvgUYoJEWf",
        "outputId": "5dbdc0ed-10f0-4219-e0ad-9b254c4a52e9"
      },
      "execution_count": null,
      "outputs": [
        {
          "output_type": "stream",
          "name": "stdout",
          "text": [
            "[22, 23, 24, 25, 26, 27]\n"
          ]
        }
      ]
    },
    {
      "cell_type": "markdown",
      "source": [
        "b)Repetition:Python provides a straightforward way to repeat list elements using the multiplication operator (*).\n",
        "\n",
        "Example:"
      ],
      "metadata": {
        "id": "tq_p4svLJYHT"
      }
    },
    {
      "cell_type": "code",
      "source": [
        "#Repetition\n",
        "a=[3,6,9,12]\n",
        "b=a*7\n",
        "print(b)"
      ],
      "metadata": {
        "colab": {
          "base_uri": "https://localhost:8080/"
        },
        "id": "ravoTf4UJqAC",
        "outputId": "0cf360eb-9ffb-45ad-f1be-7b1c300ae941"
      },
      "execution_count": null,
      "outputs": [
        {
          "output_type": "stream",
          "name": "stdout",
          "text": [
            "[3, 6, 9, 12, 3, 6, 9, 12, 3, 6, 9, 12, 3, 6, 9, 12, 3, 6, 9, 12, 3, 6, 9, 12, 3, 6, 9, 12]\n"
          ]
        }
      ]
    },
    {
      "cell_type": "markdown",
      "source": [
        "Some of the common methods in Repetition are:\n",
        "\n",
        "1)List Comprehension:"
      ],
      "metadata": {
        "id": "sXTg061LJ73I"
      }
    },
    {
      "cell_type": "code",
      "source": [
        "my_list=[11,12,13]\n",
        "repeated_list =[item for item in my_list for _ in range(13)]\n",
        "print(repeated_list)"
      ],
      "metadata": {
        "colab": {
          "base_uri": "https://localhost:8080/"
        },
        "id": "amndEmxFKh--",
        "outputId": "d2f25764-89ba-40e5-dbf9-8ad4535a1918"
      },
      "execution_count": null,
      "outputs": [
        {
          "output_type": "stream",
          "name": "stdout",
          "text": [
            "[11, 11, 11, 11, 11, 11, 11, 11, 11, 11, 11, 11, 11, 12, 12, 12, 12, 12, 12, 12, 12, 12, 12, 12, 12, 12, 13, 13, 13, 13, 13, 13, 13, 13, 13, 13, 13, 13, 13]\n"
          ]
        }
      ]
    },
    {
      "cell_type": "markdown",
      "source": [
        "2)itertools.repeat:"
      ],
      "metadata": {
        "id": "jLrw8MmSK3rb"
      }
    },
    {
      "cell_type": "code",
      "source": [
        "import itertools\n",
        "my_list = [21, 22, 23]\n",
        "repeated_list=list(itertools.chain.from_iterable(itertools.repeat(item,22) for item in my_list))\n",
        "print(repeated_list)"
      ],
      "metadata": {
        "colab": {
          "base_uri": "https://localhost:8080/"
        },
        "id": "9dFJl06KK6-l",
        "outputId": "48eae840-7383-4861-cc19-840cb86967db"
      },
      "execution_count": null,
      "outputs": [
        {
          "output_type": "stream",
          "name": "stdout",
          "text": [
            "[21, 21, 21, 21, 21, 21, 21, 21, 21, 21, 21, 21, 21, 21, 21, 21, 21, 21, 21, 21, 21, 21, 22, 22, 22, 22, 22, 22, 22, 22, 22, 22, 22, 22, 22, 22, 22, 22, 22, 22, 22, 22, 22, 22, 23, 23, 23, 23, 23, 23, 23, 23, 23, 23, 23, 23, 23, 23, 23, 23, 23, 23, 23, 23, 23, 23]\n"
          ]
        }
      ]
    },
    {
      "cell_type": "markdown",
      "source": [
        "Change list items:\n",
        "To change the value of a specific item refer to the index number.\n"
      ],
      "metadata": {
        "id": "JgkG1pZ-LZcG"
      }
    },
    {
      "cell_type": "code",
      "source": [
        "colors=['Red','Black','Green']\n",
        "print('Original List:',colors)\n",
        "#changing the third item to 'Blue'\n",
        "colors[2]='Blue'\n",
        "print('Updated List:', colors)"
      ],
      "metadata": {
        "colab": {
          "base_uri": "https://localhost:8080/"
        },
        "id": "gKQ9xreiLnTZ",
        "outputId": "776454d7-3a4d-44d8-cc2e-fb3ce4c9ff34"
      },
      "execution_count": null,
      "outputs": [
        {
          "output_type": "stream",
          "name": "stdout",
          "text": [
            "Original List: ['Red', 'Black', 'Green']\n",
            "Updated List: ['Red', 'Black', 'Blue']\n"
          ]
        }
      ]
    },
    {
      "cell_type": "code",
      "source": [
        "List=[\"apple\",\"banana\",\"cherry\"]\n",
        "print(List)\n",
        "List[0]=\"pine apple\"\n",
        "print(List)"
      ],
      "metadata": {
        "colab": {
          "base_uri": "https://localhost:8080/"
        },
        "id": "lSun-spoL-MH",
        "outputId": "77b9ccd4-5e79-4f92-cddc-c550a2b8b190"
      },
      "execution_count": null,
      "outputs": [
        {
          "output_type": "stream",
          "name": "stdout",
          "text": [
            "['apple', 'banana', 'cherry']\n",
            "['pine apple', 'banana', 'cherry']\n"
          ]
        }
      ]
    },
    {
      "cell_type": "code",
      "source": [
        "#change a range of item values\n",
        "thislist=[\"apple\",\"banana\",\"cherry\",\"orange\",\"kiwi\",\"mango\"]\n",
        "thislist[1:4]=[\"black currant\",\"watermelon\",\"gt\",\"fdg\"] #1,2,3\n",
        "print(thislist)"
      ],
      "metadata": {
        "colab": {
          "base_uri": "https://localhost:8080/"
        },
        "id": "W_PwAq0CMU4E",
        "outputId": "c858d4a5-cf8c-4049-b094-6030df5d2885"
      },
      "execution_count": null,
      "outputs": [
        {
          "output_type": "stream",
          "name": "stdout",
          "text": [
            "['apple', 'black currant', 'watermelon', 'gt', 'fdg', 'kiwi', 'mango']\n"
          ]
        }
      ]
    },
    {
      "cell_type": "markdown",
      "source": [
        "Python List Methods:\n",
        "Python has many useful list methods that make it really easy to work with lists.They are as follows:\n",
        "\n",
        "\n",
        "\n",
        "\n",
        "\n"
      ],
      "metadata": {
        "id": "ieQ1pTG9Nj1H"
      }
    },
    {
      "cell_type": "markdown",
      "source": [
        "1)append():Adds an element to the end of the list.\n",
        "\n",
        "  Example:"
      ],
      "metadata": {
        "id": "qgrLtXBcN0Px"
      }
    },
    {
      "cell_type": "code",
      "source": [
        "numbers=[1,2,3]\n",
        "numbers.append(5)\n",
        "print(numbers)"
      ],
      "metadata": {
        "colab": {
          "base_uri": "https://localhost:8080/"
        },
        "id": "rNqT-Qx1OQNr",
        "outputId": "a474f997-9351-4fb0-cfe6-1e60f4743389"
      },
      "execution_count": null,
      "outputs": [
        {
          "output_type": "stream",
          "name": "stdout",
          "text": [
            "[1, 2, 3, 5]\n"
          ]
        }
      ]
    },
    {
      "cell_type": "markdown",
      "source": [
        "2)extend():Appends elements from another iterable to the end.\n",
        "\n",
        "Example:"
      ],
      "metadata": {
        "id": "5pA11VbPOiWO"
      }
    },
    {
      "cell_type": "code",
      "source": [
        "numbers=[1,2,3]\n",
        "more_numbers=[4,5,6,8,9,4]\n",
        "numbers.extend(more_numbers)\n",
        "print(numbers)"
      ],
      "metadata": {
        "colab": {
          "base_uri": "https://localhost:8080/"
        },
        "id": "U3iRPbYkOukN",
        "outputId": "4708efb3-3608-4694-9f27-9eda20e9435b"
      },
      "execution_count": null,
      "outputs": [
        {
          "output_type": "stream",
          "name": "stdout",
          "text": [
            "[1, 2, 3, 4, 5, 6, 8, 9, 4]\n"
          ]
        }
      ]
    },
    {
      "cell_type": "markdown",
      "source": [
        "3)insert():Inserts an element at a specified position.\n",
        "\n",
        "Example:"
      ],
      "metadata": {
        "id": "wm8bgWuZO9EI"
      }
    },
    {
      "cell_type": "code",
      "source": [
        "numbers=[1,2,3]\n",
        "numbers.insert(2,9) #1 indicates index and 99 indicates value\n",
        "#numbers.insert(2,9)\n",
        "#numbers.insert(-1,9)\n",
        "print(numbers)"
      ],
      "metadata": {
        "colab": {
          "base_uri": "https://localhost:8080/"
        },
        "id": "z4sBuSOgPuCk",
        "outputId": "b9ab63f9-03b8-4035-fba5-369bf82c226b"
      },
      "execution_count": null,
      "outputs": [
        {
          "output_type": "stream",
          "name": "stdout",
          "text": [
            "[1, 2, 9, 3]\n"
          ]
        }
      ]
    },
    {
      "cell_type": "markdown",
      "source": [
        "4)remove():Removes the first occurance of a value.\n",
        "\n",
        "Example:"
      ],
      "metadata": {
        "id": "-j9WOTTtPw-0"
      }
    },
    {
      "cell_type": "code",
      "source": [
        "numbers=[1,3,6,2,3,2,4,6]\n",
        "numbers.remove(3)\n",
        "print(numbers)"
      ],
      "metadata": {
        "colab": {
          "base_uri": "https://localhost:8080/"
        },
        "id": "WY0flVP7QAJs",
        "outputId": "8d2b81dc-ad1e-4f05-b511-d9c4fb78ff89"
      },
      "execution_count": null,
      "outputs": [
        {
          "output_type": "stream",
          "name": "stdout",
          "text": [
            "[1, 6, 2, 3, 2, 4, 6]\n"
          ]
        }
      ]
    },
    {
      "cell_type": "markdown",
      "source": [
        "5)pop():Removes and returns an element at a specified index.\n",
        "\n",
        "Example:"
      ],
      "metadata": {
        "id": "41YFX6N7QNve"
      }
    },
    {
      "cell_type": "code",
      "source": [
        "numbers=[1,2,3,4,5,7,4,9]\n",
        "popped_element=numbers.pop()\n",
        "print(numbers)\n",
        "print(popped_element)"
      ],
      "metadata": {
        "colab": {
          "base_uri": "https://localhost:8080/"
        },
        "id": "4JFfYy3lQW-V",
        "outputId": "730519ff-00ca-4d9d-bca5-545a98c85fd4"
      },
      "execution_count": null,
      "outputs": [
        {
          "output_type": "stream",
          "name": "stdout",
          "text": [
            "[1, 2, 3, 4, 5, 7, 4]\n",
            "9\n"
          ]
        }
      ]
    },
    {
      "cell_type": "markdown",
      "source": [
        "6)Index():Returns the index of the first occurance of a value.\n",
        "\n",
        "Example:"
      ],
      "metadata": {
        "id": "FVKkI7uuQ3_E"
      }
    },
    {
      "cell_type": "code",
      "source": [
        "numbers=[10,20,30,20,40,30,30,40,50]\n",
        "index=numbers.index(50)\n",
        "print(index)"
      ],
      "metadata": {
        "colab": {
          "base_uri": "https://localhost:8080/"
        },
        "id": "mWrxrykyRBfX",
        "outputId": "2ec11a90-f65d-4908-98d5-a2dd03f64b52"
      },
      "execution_count": null,
      "outputs": [
        {
          "output_type": "stream",
          "name": "stdout",
          "text": [
            "8\n"
          ]
        }
      ]
    },
    {
      "cell_type": "markdown",
      "source": [
        "7)Count():Returns the number of occurences of a vlue.\n",
        "\n",
        "Example:"
      ],
      "metadata": {
        "id": "wV9XOYi2RPdQ"
      }
    },
    {
      "cell_type": "code",
      "source": [
        "numbers=[1,2,3,2,4,2,6,7,9,6,0,2,6,4]\n",
        "count=numbers.count(2)\n",
        "print(count)"
      ],
      "metadata": {
        "colab": {
          "base_uri": "https://localhost:8080/"
        },
        "id": "XuSf5jCPRYyg",
        "outputId": "11158f5c-7cfe-4a83-f0e1-0428b5675bee"
      },
      "execution_count": null,
      "outputs": [
        {
          "output_type": "stream",
          "name": "stdout",
          "text": [
            "4\n"
          ]
        }
      ]
    },
    {
      "cell_type": "markdown",
      "source": [
        "8)Sort():Sorts the list in an ascending order.\n",
        "\n",
        "Example:"
      ],
      "metadata": {
        "id": "rBdohbCTRk42"
      }
    },
    {
      "cell_type": "code",
      "source": [
        "numbers=[1,2,3,2,4,2,6,7,9,6,0,2,6,4]\n",
        "numbers.sort()\n",
        "print(numbers)"
      ],
      "metadata": {
        "colab": {
          "base_uri": "https://localhost:8080/"
        },
        "id": "7-XnTcJ6RwU6",
        "outputId": "dc66d1d2-52aa-4a6a-e013-7dfbd34ab875"
      },
      "execution_count": null,
      "outputs": [
        {
          "output_type": "stream",
          "name": "stdout",
          "text": [
            "[0, 1, 2, 2, 2, 2, 3, 4, 4, 6, 6, 6, 7, 9]\n"
          ]
        }
      ]
    },
    {
      "cell_type": "markdown",
      "source": [
        "9)reverse():Reverses the order of elements in the list.\n",
        "\n",
        "Example:"
      ],
      "metadata": {
        "id": "ZsBZPXg6SAyI"
      }
    },
    {
      "cell_type": "code",
      "source": [
        "numbers=[6,0,2,6,4,8,6,0]\n",
        "numbers.reverse()\n",
        "print(numbers)"
      ],
      "metadata": {
        "colab": {
          "base_uri": "https://localhost:8080/"
        },
        "id": "LzzKUOYTSNX4",
        "outputId": "901086d2-773f-4ccc-d6f0-91766ba50dee"
      },
      "execution_count": null,
      "outputs": [
        {
          "output_type": "stream",
          "name": "stdout",
          "text": [
            "[0, 6, 8, 4, 6, 2, 0, 6]\n"
          ]
        }
      ]
    },
    {
      "cell_type": "markdown",
      "source": [
        "10)clear():The clear() method removes all items from the list.\n",
        "\n",
        "Example:"
      ],
      "metadata": {
        "id": "RfDxAFXaSYFm"
      }
    },
    {
      "cell_type": "code",
      "source": [
        "prime_numbers=[2,3,5,7,9,11]\n",
        "#remove all elements\n",
        "prime_numbers.clear()\n",
        "#Updated prime_numbers List\n",
        "print('List after clear():',prime_numbers)"
      ],
      "metadata": {
        "colab": {
          "base_uri": "https://localhost:8080/"
        },
        "id": "Dp6RTHeLSos7",
        "outputId": "abd7dc1b-471f-4c69-d51a-085dc47ff16b"
      },
      "execution_count": null,
      "outputs": [
        {
          "output_type": "stream",
          "name": "stdout",
          "text": [
            "List after clear(): []\n"
          ]
        }
      ]
    },
    {
      "cell_type": "markdown",
      "source": [
        "11)copy():The copy() method returns a shallow copy of the list.\n",
        "\n",
        "Example:\n",
        "\n"
      ],
      "metadata": {
        "id": "5Q6p9sA_S7uo"
      }
    },
    {
      "cell_type": "code",
      "source": [
        "#mixed list\n",
        "prime_numbers=[2,3,5]\n",
        "#copying a list\n",
        "numbers=prime_numbers.copy()\n",
        "print('Copied List:',numbers)"
      ],
      "metadata": {
        "colab": {
          "base_uri": "https://localhost:8080/"
        },
        "id": "v_GJWU0ITIjE",
        "outputId": "a9789c0d-6333-46a7-cccd-ab66ff625d3a"
      },
      "execution_count": null,
      "outputs": [
        {
          "output_type": "stream",
          "name": "stdout",
          "text": [
            "Copied List: [2, 3, 5]\n"
          ]
        }
      ]
    },
    {
      "cell_type": "markdown",
      "source": [
        "12)min():\n",
        "     calculates the min of all the elements of the list.\n",
        "\n",
        "     Example:"
      ],
      "metadata": {
        "id": "x_k30oGcuJ2K"
      }
    },
    {
      "cell_type": "code",
      "source": [
        "my_list = [(3, 1), (2, 9), (1, 5)]\n",
        "min_tuple = min(my_list)\n",
        "print(min_tuple)"
      ],
      "metadata": {
        "colab": {
          "base_uri": "https://localhost:8080/"
        },
        "id": "DU2W3301uR1E",
        "outputId": "15cd9f94-85a6-4750-b0be-a8bd93d289cd"
      },
      "execution_count": 2,
      "outputs": [
        {
          "output_type": "stream",
          "name": "stdout",
          "text": [
            "(1, 5)\n"
          ]
        }
      ]
    },
    {
      "cell_type": "markdown",
      "source": [
        "13)max():calculates the max of all the elements of the list.\n",
        "\n",
        "Example:"
      ],
      "metadata": {
        "id": "_2je7b6tu3aP"
      }
    },
    {
      "cell_type": "code",
      "source": [
        "tuple_list = [(3, 1), (1, 5), (9, 2)]\n",
        "max_tuple = max(tuple_list, key=lambda x: sum(x))\n",
        "print(max_tuple)"
      ],
      "metadata": {
        "colab": {
          "base_uri": "https://localhost:8080/"
        },
        "id": "hpuTVVLgu6H3",
        "outputId": "2ec42dbd-a5f8-4375-f54c-d3da3c4b569a"
      },
      "execution_count": 3,
      "outputs": [
        {
          "output_type": "stream",
          "name": "stdout",
          "text": [
            "(9, 2)\n"
          ]
        }
      ]
    },
    {
      "cell_type": "markdown",
      "source": [
        "14)len():calculates the total length of the list.\n",
        "\n",
        "\n",
        "Example:"
      ],
      "metadata": {
        "id": "f8fZ1MROvVgG"
      }
    },
    {
      "cell_type": "code",
      "source": [
        "my_tuple=(1, 2, 3, 4, 5)\n",
        "length=len(my_tuple)\n",
        "print(length)"
      ],
      "metadata": {
        "colab": {
          "base_uri": "https://localhost:8080/"
        },
        "id": "3kem7vS1u4j_",
        "outputId": "f65c640d-7de0-4cc9-9c49-4a136272c407"
      },
      "execution_count": 4,
      "outputs": [
        {
          "output_type": "stream",
          "name": "stdout",
          "text": [
            "5\n"
          ]
        }
      ]
    }
  ]
}