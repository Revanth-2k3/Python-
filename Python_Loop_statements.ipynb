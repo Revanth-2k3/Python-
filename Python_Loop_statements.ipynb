{
  "nbformat": 4,
  "nbformat_minor": 0,
  "metadata": {
    "colab": {
      "provenance": []
    },
    "kernelspec": {
      "name": "python3",
      "display_name": "Python 3"
    },
    "language_info": {
      "name": "python"
    }
  },
  "cells": [
    {
      "cell_type": "markdown",
      "source": [
        "**Loop statements:**\n",
        "* Python looping statements are as follows:\n",
        "\n",
        "**1)Python while loop:**\n",
        "* python while loop is used to run a block code until a certain condition is met.\n",
        "* While loop evaluates the condition, if the condition evaluates to true.\n",
        "\n",
        "**SYNTAX:**\n",
        "\n",
        "while condition: #body of while loop\n",
        "\n",
        "**Examples:**"
      ],
      "metadata": {
        "id": "nZ9DyqSJ8gKP"
      }
    },
    {
      "cell_type": "code",
      "source": [
        "# initialize the variable\n",
        "i = 0\n",
        "\n",
        "while i <= 5:\n",
        "    print(i)\n",
        "    i = i + 1"
      ],
      "metadata": {
        "colab": {
          "base_uri": "https://localhost:8080/"
        },
        "id": "i4IYOkixU3OO",
        "outputId": "0a4d4621-4f90-4099-f29d-848ca59537d7"
      },
      "execution_count": 1,
      "outputs": [
        {
          "output_type": "stream",
          "name": "stdout",
          "text": [
            "0\n",
            "1\n",
            "2\n",
            "3\n",
            "4\n",
            "5\n"
          ]
        }
      ]
    },
    {
      "cell_type": "code",
      "source": [
        "text = \"Hello Revanth\"\n",
        "index = 0\n",
        "\n",
        "while index < len(text):\n",
        "    print(text[index])\n",
        "    index += 1"
      ],
      "metadata": {
        "colab": {
          "base_uri": "https://localhost:8080/"
        },
        "id": "HdJHrueAU3I7",
        "outputId": "676331db-2071-4fb9-e3f1-cda84958c0e9"
      },
      "execution_count": 2,
      "outputs": [
        {
          "output_type": "stream",
          "name": "stdout",
          "text": [
            "H\n",
            "e\n",
            "l\n",
            "l\n",
            "o\n",
            " \n",
            "R\n",
            "e\n",
            "v\n",
            "a\n",
            "n\n",
            "t\n",
            "h\n"
          ]
        }
      ]
    },
    {
      "cell_type": "code",
      "source": [
        "word = \"Data science\"\n",
        "num = 0\n",
        "\n",
        "i = 0\n",
        "while i < len(word):\n",
        "    print(word)\n",
        "    num += 1\n",
        "    i += 1"
      ],
      "metadata": {
        "colab": {
          "base_uri": "https://localhost:8080/"
        },
        "id": "ewuOa6S-U29C",
        "outputId": "946773b3-1173-4709-830e-9bfec21c94f1"
      },
      "execution_count": 3,
      "outputs": [
        {
          "output_type": "stream",
          "name": "stdout",
          "text": [
            "Data science\n",
            "Data science\n",
            "Data science\n",
            "Data science\n",
            "Data science\n",
            "Data science\n",
            "Data science\n",
            "Data science\n",
            "Data science\n",
            "Data science\n",
            "Data science\n",
            "Data science\n"
          ]
        }
      ]
    },
    {
      "cell_type": "markdown",
      "source": [
        "**2)Python for loop:**\n",
        "* The for loop is used for iterating over a sequence i.e,either a list,tuple,dictionary,string or range.\n",
        "* The for loop is versatile and widely used for various types of iteration.\n",
        "\n",
        "**SYNTAX:** for val in sequence: #statements\n",
        "\n",
        "**Examples:**"
      ],
      "metadata": {
        "id": "Rf7iC1osVN9R"
      }
    },
    {
      "cell_type": "code",
      "source": [
        "language = 'swift'\n",
        "\n",
        "# iterate over each character in language\n",
        "for x in language:\n",
        "    print(x)"
      ],
      "metadata": {
        "colab": {
          "base_uri": "https://localhost:8080/"
        },
        "id": "AZVPF95uV4tc",
        "outputId": "436aab3a-125e-42c1-fe35-81536ee456ab"
      },
      "execution_count": 4,
      "outputs": [
        {
          "output_type": "stream",
          "name": "stdout",
          "text": [
            "s\n",
            "w\n",
            "i\n",
            "f\n",
            "t\n"
          ]
        }
      ]
    },
    {
      "cell_type": "code",
      "source": [
        "fruits = ['cherry', 'jack fruit', 'papaya']\n",
        "\n",
        "for fruit in fruits:\n",
        "    print(fruit)"
      ],
      "metadata": {
        "colab": {
          "base_uri": "https://localhost:8080/"
        },
        "id": "Sfzy3aMuV_8l",
        "outputId": "23058754-370b-43ab-fb68-ef63e038d67f"
      },
      "execution_count": 5,
      "outputs": [
        {
          "output_type": "stream",
          "name": "stdout",
          "text": [
            "cherry\n",
            "jack fruit\n",
            "papaya\n"
          ]
        }
      ]
    },
    {
      "cell_type": "code",
      "source": [
        "Roll_numbers = {'Revanth': 542, 'Sai kumar': 548, 'Kiran': 557, 'Nikhil': 559}\n",
        "\n",
        "for name, number in Roll_numbers.items():\n",
        "    print(f\"{name}'s roll number is {number}\")"
      ],
      "metadata": {
        "colab": {
          "base_uri": "https://localhost:8080/"
        },
        "id": "E8W1yFdCWIoV",
        "outputId": "f551dcce-77df-4304-ed53-2fbc145e4981"
      },
      "execution_count": 6,
      "outputs": [
        {
          "output_type": "stream",
          "name": "stdout",
          "text": [
            "Revanth's roll number is 542\n",
            "Sai kumar's roll number is 548\n",
            "Kiran's roll number is 557\n",
            "Nikhil's roll number is 559\n"
          ]
        }
      ]
    }
  ]
}