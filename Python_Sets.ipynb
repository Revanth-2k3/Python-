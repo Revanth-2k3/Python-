{
  "nbformat": 4,
  "nbformat_minor": 0,
  "metadata": {
    "colab": {
      "provenance": []
    },
    "kernelspec": {
      "name": "python3",
      "display_name": "Python 3"
    },
    "language_info": {
      "name": "python"
    }
  },
  "cells": [
    {
      "cell_type": "markdown",
      "source": [
        "**PYTHON SETS:**\n",
        "* In python a set is a collection of unique element,and it is defined using curly braces{} and seperated by commas.\n",
        "* Sets are used to store multiple items in a single variable.\n",
        "* Sets are unordered,mutable do not allow duplicate elements.\n",
        "* Sets provide a variety of methods for performing common set operations like union,intersection,difference etc.\n",
        "\n",
        "**Creating Sets:**\n",
        "\n",
        "**Examples:**"
      ],
      "metadata": {
        "id": "4CpbK6P1BkLF"
      }
    },
    {
      "cell_type": "code",
      "source": [
        "#creating an empty set\n",
        "#empty_set=set()\n",
        "#creating a set with elements\n",
        "fruits={'apple','banana','orange'}\n",
        "#converting a list to a set\n",
        "numbers=set([1,2,3,4,5])\n",
        "print(numbers)"
      ],
      "metadata": {
        "colab": {
          "base_uri": "https://localhost:8080/"
        },
        "id": "WHMWvKYoCemh",
        "outputId": "e20622d1-c04d-4277-923a-63520fa623de"
      },
      "execution_count": 1,
      "outputs": [
        {
          "output_type": "stream",
          "name": "stdout",
          "text": [
            "{1, 2, 3, 4, 5}\n"
          ]
        }
      ]
    },
    {
      "cell_type": "code",
      "source": [
        "print(type(fruits))"
      ],
      "metadata": {
        "colab": {
          "base_uri": "https://localhost:8080/"
        },
        "id": "9cW_pIPWDEzF",
        "outputId": "7736ea43-c48e-4997-be8b-772689ec461c"
      },
      "execution_count": 2,
      "outputs": [
        {
          "output_type": "stream",
          "name": "stdout",
          "text": [
            "<class 'set'>\n"
          ]
        }
      ]
    },
    {
      "cell_type": "code",
      "source": [
        "#duplicate items in a set\n",
        "numbers={9,9,56,2,4,68,56,2,68,78,73,32,9,5,7,2,7,78,56}\n",
        "print(numbers)"
      ],
      "metadata": {
        "colab": {
          "base_uri": "https://localhost:8080/"
        },
        "id": "Bs7rD61ADMbe",
        "outputId": "d2f78e83-79a0-4520-a077-8638a2a5c4e7"
      },
      "execution_count": 4,
      "outputs": [
        {
          "output_type": "stream",
          "name": "stdout",
          "text": [
            "{32, 2, 4, 5, 68, 7, 9, 73, 78, 56}\n"
          ]
        }
      ]
    },
    {
      "cell_type": "markdown",
      "source": [
        "**Add and Update set items in python:**\n",
        "* Sets are mutable.Sice,they are unordered,indexing has no meaning.\n",
        "* We cannot access or change an element of a set using indexing or slicing.\n",
        "* Set datatype does not support it.\n",
        "\n",
        "**1) Add items to a set in python:**\n",
        "* In python,we use the add() method to add an item to set.\n",
        "\n",
        "**Examples:**"
      ],
      "metadata": {
        "id": "LLNfB7ZIDmyJ"
      }
    },
    {
      "cell_type": "code",
      "source": [
        "numbers={21,67,45,34,54,12,67,87,90}\n",
        "#print('Initial set:',numbers)\n",
        "#using add() method\n",
        "numbers.add(65)\n",
        "print('Updated set:',numbers)"
      ],
      "metadata": {
        "colab": {
          "base_uri": "https://localhost:8080/"
        },
        "id": "5TE4-42OFJC9",
        "outputId": "92161c5e-1933-4b2c-887c-0c79cf6aa1fd"
      },
      "execution_count": 5,
      "outputs": [
        {
          "output_type": "stream",
          "name": "stdout",
          "text": [
            "Updated set: {65, 34, 67, 12, 45, 21, 54, 87, 90}\n"
          ]
        }
      ]
    },
    {
      "cell_type": "code",
      "source": [
        "numbers={9,5,7,2,7,78,56,89,67,56,45,34,23,32,78}\n",
        "print('Initial set:',numbers)\n",
        "#using add() method\n",
        "numbers.add(50)\n",
        "print('updated set:',numbers)"
      ],
      "metadata": {
        "colab": {
          "base_uri": "https://localhost:8080/"
        },
        "id": "U0fe3gn-FrRd",
        "outputId": "df503939-f57c-423c-f229-c76d5e862079"
      },
      "execution_count": 7,
      "outputs": [
        {
          "output_type": "stream",
          "name": "stdout",
          "text": [
            "Initial set: {32, 2, 67, 34, 5, 7, 9, 45, 78, 23, 56, 89}\n",
            "updated set: {32, 2, 67, 34, 5, 7, 9, 45, 78, 50, 23, 56, 89}\n"
          ]
        }
      ]
    },
    {
      "cell_type": "markdown",
      "source": [
        "**2)Update Python Set:**\n",
        "* The update() method is used to update the set with items other collection types(list,tuples,sets etc)."
      ],
      "metadata": {
        "id": "fL8k9oTeGY-0"
      }
    },
    {
      "cell_type": "code",
      "source": [
        "companies={'microsoft','technologies'}\n",
        "tech_companies=['apple','google','apple']\n",
        "update_companies=companies.update(tech_companies)\n",
        "print(companies)"
      ],
      "metadata": {
        "colab": {
          "base_uri": "https://localhost:8080/"
        },
        "id": "Sq_TkqvOGveF",
        "outputId": "e56777c0-8d43-46d6-d16f-9aac728e1156"
      },
      "execution_count": 8,
      "outputs": [
        {
          "output_type": "stream",
          "name": "stdout",
          "text": [
            "{'technologies', 'apple', 'google', 'microsoft'}\n"
          ]
        }
      ]
    },
    {
      "cell_type": "code",
      "source": [
        "companies={'microsoft','technologies'}\n",
        "tech_companies=['apple','google','apple','mon','sky','apple','technologies']\n",
        "update_companies=companies.update(tech_companies)\n",
        "print(companies)"
      ],
      "metadata": {
        "colab": {
          "base_uri": "https://localhost:8080/"
        },
        "id": "WI-uwSuKHObZ",
        "outputId": "fbc9e828-f7e9-4b6e-c5cf-629d343898b9"
      },
      "execution_count": 9,
      "outputs": [
        {
          "output_type": "stream",
          "name": "stdout",
          "text": [
            "{'mon', 'sky', 'apple', 'technologies', 'google', 'microsoft'}\n"
          ]
        }
      ]
    },
    {
      "cell_type": "markdown",
      "source": [
        "**3)Remove an element from a set:**\n",
        "* We use the discard() method to remove the specified element from a set.\n",
        "\n",
        "**Example:**"
      ],
      "metadata": {
        "id": "Z0qPtb15H12h"
      }
    },
    {
      "cell_type": "code",
      "source": [
        "languages={'swift','java','python'}\n",
        "languages.remove('java')\n",
        "languages.discard('python')\n",
        "print(languages)\n",
        "print(languages)\n"
      ],
      "metadata": {
        "colab": {
          "base_uri": "https://localhost:8080/"
        },
        "id": "exNI34GMIVbG",
        "outputId": "23c2fbb5-639b-4ccb-ae93-eb32278f10cc"
      },
      "execution_count": 12,
      "outputs": [
        {
          "output_type": "stream",
          "name": "stdout",
          "text": [
            "{'swift'}\n",
            "{'swift'}\n"
          ]
        }
      ]
    },
    {
      "cell_type": "markdown",
      "source": [
        "* some of the other methods in python sets are:"
      ],
      "metadata": {
        "id": "y8wD5G41Rpsh"
      }
    },
    {
      "cell_type": "markdown",
      "source": [
        "**clear():** It Removes all elements from the set.\n",
        "\n",
        "**Example:**"
      ],
      "metadata": {
        "id": "q3iwX_NrRgLF"
      }
    },
    {
      "cell_type": "code",
      "source": [
        "fruits={'sapota','jack fruit','papaya'}\n",
        "fruits.clear()\n",
        "print(fruits)"
      ],
      "metadata": {
        "colab": {
          "base_uri": "https://localhost:8080/"
        },
        "id": "ihkGHq-lR0vp",
        "outputId": "c11b6b35-3d74-43b2-b865-72ab06f179de"
      },
      "execution_count": 21,
      "outputs": [
        {
          "output_type": "stream",
          "name": "stdout",
          "text": [
            "set()\n"
          ]
        }
      ]
    },
    {
      "cell_type": "markdown",
      "source": [
        "**copy():** It returns a shallow copy of the set.   \n",
        "\n",
        "**Example:**"
      ],
      "metadata": {
        "id": "Orgz_0EvSGlF"
      }
    },
    {
      "cell_type": "code",
      "source": [
        "languages={'c','c++','java'}\n",
        "languages2=languages.copy()\n",
        "print(languages2)"
      ],
      "metadata": {
        "colab": {
          "base_uri": "https://localhost:8080/"
        },
        "id": "Hax3IttTSP3o",
        "outputId": "66b6c7f8-f4c1-477f-e4de-cfd93d2b0b33"
      },
      "execution_count": 22,
      "outputs": [
        {
          "output_type": "stream",
          "name": "stdout",
          "text": [
            "{'c++', 'java', 'c'}\n"
          ]
        }
      ]
    },
    {
      "cell_type": "markdown",
      "source": [
        "**frozenset():** It Return an immutable frozenset object.\n",
        "\n",
        "**Example:**"
      ],
      "metadata": {
        "id": "hPEBWa3kSlKI"
      }
    },
    {
      "cell_type": "code",
      "source": [
        "toys=frozenset(['bike','car','borewell'])\n",
        "print('bus'in toys)\n",
        "print('car'in toys)"
      ],
      "metadata": {
        "colab": {
          "base_uri": "https://localhost:8080/"
        },
        "id": "NKj6lsKTS1ho",
        "outputId": "975d6173-472a-43dd-e83f-10a0da5cfa12"
      },
      "execution_count": 23,
      "outputs": [
        {
          "output_type": "stream",
          "name": "stdout",
          "text": [
            "False\n",
            "True\n"
          ]
        }
      ]
    },
    {
      "cell_type": "markdown",
      "source": [
        "**isdisjoint():** It Checks whether the sets are disjoint or not.\n",
        "\n",
        "**Example:**"
      ],
      "metadata": {
        "id": "ApEDjaoETLJ_"
      }
    },
    {
      "cell_type": "code",
      "source": [
        "A={4,6,8,9}\n",
        "B={1,2,3}\n",
        "C={1,4,5,7}\n",
        "print(A.isdisjoint(B))\n",
        "print(A.isdisjoint(C))"
      ],
      "metadata": {
        "colab": {
          "base_uri": "https://localhost:8080/"
        },
        "id": "82n7NZ3QTacf",
        "outputId": "19264267-d0f0-4420-db46-910b033a8feb"
      },
      "execution_count": 24,
      "outputs": [
        {
          "output_type": "stream",
          "name": "stdout",
          "text": [
            "True\n",
            "False\n"
          ]
        }
      ]
    },
    {
      "cell_type": "markdown",
      "source": [
        "**issubset():** Returns True if all elements of a set A are present in another set B.\n",
        "\n",
        "**Example:**"
      ],
      "metadata": {
        "id": "5k1UUsDPTfsj"
      }
    },
    {
      "cell_type": "code",
      "source": [
        "A={1,2,3,4,5,6}\n",
        "B={1,2,3}\n",
        "C={1,4,5,7}\n",
        "print(B.issubset(A))\n",
        "print(C.issubset(A))"
      ],
      "metadata": {
        "colab": {
          "base_uri": "https://localhost:8080/"
        },
        "id": "rSdAxsqxTwjU",
        "outputId": "772a9780-7450-4b13-aac4-89f84836fa94"
      },
      "execution_count": 25,
      "outputs": [
        {
          "output_type": "stream",
          "name": "stdout",
          "text": [
            "True\n",
            "False\n"
          ]
        }
      ]
    },
    {
      "cell_type": "markdown",
      "source": [
        "**issuperset():** It returns True if all elements of a set A occupies set B.\n",
        "\n",
        "**Example:**"
      ],
      "metadata": {
        "id": "ukshJi4VT1cx"
      }
    },
    {
      "cell_type": "code",
      "source": [
        "A={1,2,3,4,5,6}\n",
        "B={1,2,3}\n",
        "C={1,4,5,7}\n",
        "print(A.issuperset(B))\n",
        "print(C.issuperset(A))"
      ],
      "metadata": {
        "colab": {
          "base_uri": "https://localhost:8080/"
        },
        "id": "2YQpY8fpUCkO",
        "outputId": "3192d5eb-4399-4016-9eb4-c312fbc1cc11"
      },
      "execution_count": 26,
      "outputs": [
        {
          "output_type": "stream",
          "name": "stdout",
          "text": [
            "True\n",
            "False\n"
          ]
        }
      ]
    },
    {
      "cell_type": "markdown",
      "source": [
        "**pop():** It returns and removes a random element from the set.\n",
        "\n",
        "**Example:**"
      ],
      "metadata": {
        "id": "KiFExEiUUIBM"
      }
    },
    {
      "cell_type": "code",
      "source": [
        "A={1,2,3,4,5,6}\n",
        "print(A.pop())"
      ],
      "metadata": {
        "colab": {
          "base_uri": "https://localhost:8080/"
        },
        "id": "zlWNN5WuUWfg",
        "outputId": "4a128be8-5d05-413b-d8c7-1dc6925ad144"
      },
      "execution_count": 27,
      "outputs": [
        {
          "output_type": "stream",
          "name": "stdout",
          "text": [
            "1\n"
          ]
        }
      ]
    },
    {
      "cell_type": "markdown",
      "source": [
        "**Python set operations:**\n",
        "* Python set provides different built-in methods to perform mathematical set operations like union,intersection,subtraction,symmetric difference.\n",
        "\n",
        "**1)Union of two sets:**\n",
        "* The union of two sets A and B include all the elements of set A and B.\n",
        "* Combines elements from two sets, removing duplicates.\n",
        "\n",
        "**Example:**"
      ],
      "metadata": {
        "id": "xwhsCjgtJRwD"
      }
    },
    {
      "cell_type": "code",
      "source": [
        "A={2,6,8}\n",
        "B={3,5,7}\n",
        "#using |\n",
        "print(A|B)\n",
        "#using union()\n",
        "print(A.union(B))"
      ],
      "metadata": {
        "colab": {
          "base_uri": "https://localhost:8080/"
        },
        "id": "Gyy3cGWmJ_Ou",
        "outputId": "b403303d-4ce3-4683-d628-696e75a8ec2a"
      },
      "execution_count": 16,
      "outputs": [
        {
          "output_type": "stream",
          "name": "stdout",
          "text": [
            "{2, 3, 5, 6, 7, 8}\n",
            "{2, 3, 5, 6, 7, 8}\n"
          ]
        }
      ]
    },
    {
      "cell_type": "markdown",
      "source": [
        "**2)Set Intersection:**\n",
        "* The intersection of two sets A and B include the common elements between sets A and B.\n",
        "* Returns common elements between two sets.\n",
        "\n",
        "**Example:**"
      ],
      "metadata": {
        "id": "G2NZaRHiMCa6"
      }
    },
    {
      "cell_type": "code",
      "source": [
        "A={9,8,7,6,5,4}\n",
        "B={2,3,4,5,6,7}\n",
        "#using &\n",
        "print(A&B)\n",
        "#using intersection()\n",
        "print(A.intersection(B))"
      ],
      "metadata": {
        "colab": {
          "base_uri": "https://localhost:8080/"
        },
        "id": "U4Qu0B7lMst1",
        "outputId": "006ac4cb-87f2-4b8a-be6c-c16e95ef80c4"
      },
      "execution_count": 17,
      "outputs": [
        {
          "output_type": "stream",
          "name": "stdout",
          "text": [
            "{4, 5, 6, 7}\n",
            "{4, 5, 6, 7}\n"
          ]
        }
      ]
    },
    {
      "cell_type": "markdown",
      "source": [
        "**3)Difference betweeen two sets:**\n",
        "* The difference between two ses A and B include elements of set A that are not present on set B.\n",
        "* Returns elements that are in the first set but not in the second.\n",
        "\n",
        "**Example:**"
      ],
      "metadata": {
        "id": "MQXV721_M6Bj"
      }
    },
    {
      "cell_type": "code",
      "source": [
        "A={2,3,5,7,11,13,17}\n",
        "B={2,4,6,8}\n",
        "#using -\n",
        "print(A-B)\n",
        "print(B-A)\n",
        "#using difference()\n",
        "print(A.difference(B))\n",
        "print(B.difference(A))"
      ],
      "metadata": {
        "colab": {
          "base_uri": "https://localhost:8080/"
        },
        "id": "vjfPy00TPOBT",
        "outputId": "fe451d64-4cd6-4424-e7b8-5411312c4fc2"
      },
      "execution_count": 18,
      "outputs": [
        {
          "output_type": "stream",
          "name": "stdout",
          "text": [
            "{3, 5, 7, 11, 13, 17}\n",
            "{8, 4, 6}\n",
            "{3, 5, 7, 11, 13, 17}\n",
            "{8, 4, 6}\n"
          ]
        }
      ]
    },
    {
      "cell_type": "markdown",
      "source": [
        "**4)Set Symmetric difference:**\n",
        "* The symmetric difference between two sets a and b includes all  elements of A and B without the common elements.\n",
        "* Returns elements that are in either of the sets,but not in both.\n",
        "\n",
        "**Example:**"
      ],
      "metadata": {
        "id": "TvD8o_rWPZ_G"
      }
    },
    {
      "cell_type": "code",
      "source": [
        "A={5,7,8,9,6,4,3}\n",
        "B={2,4,5,6,7}\n",
        "#using A^B\n",
        "print(A^B)\n",
        "#using symmetric_difference()\n",
        "print(A.symmetric_difference(B))"
      ],
      "metadata": {
        "colab": {
          "base_uri": "https://localhost:8080/"
        },
        "id": "q2Wzhk6WQBid",
        "outputId": "ddc0ad15-ec14-458b-e8e1-4dc267d56a1d"
      },
      "execution_count": 19,
      "outputs": [
        {
          "output_type": "stream",
          "name": "stdout",
          "text": [
            "{2, 3, 8, 9}\n",
            "{2, 3, 8, 9}\n"
          ]
        }
      ]
    }
  ]
}