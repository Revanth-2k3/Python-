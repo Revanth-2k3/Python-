{
  "nbformat": 4,
  "nbformat_minor": 0,
  "metadata": {
    "colab": {
      "provenance": []
    },
    "kernelspec": {
      "name": "python3",
      "display_name": "Python 3"
    },
    "language_info": {
      "name": "python"
    }
  },
  "cells": [
    {
      "cell_type": "markdown",
      "source": [
        "**Conditional statements:**\n",
        "* In python, conditional statements are used to control the flow of a program based on certain conditions.\n",
        "* i.e, the control flow of the Python program will be decided based on the outcome of the condition.\n",
        "* The if,else and elif(else if) keywords are used for creating conditional structures.\n",
        "\n",
        "**Examples:**"
      ],
      "metadata": {
        "id": "RS0ImJ3AelF0"
      }
    },
    {
      "cell_type": "code",
      "source": [
        "a = 100\n",
        "b = 200\n",
        "\n",
        "if b > a:\n",
        "  print(\"b is greater than a\")\n"
      ],
      "metadata": {
        "colab": {
          "base_uri": "https://localhost:8080/"
        },
        "id": "zzG2o7FAf8IO",
        "outputId": "21316950-0728-40cd-b344-18b8b89ac3a6"
      },
      "execution_count": 1,
      "outputs": [
        {
          "output_type": "stream",
          "name": "stdout",
          "text": [
            "b is greater than a\n"
          ]
        }
      ]
    },
    {
      "cell_type": "code",
      "source": [
        "a = 33\n",
        "b = 33\n",
        "if b > a:\n",
        "  print(\"b is greater than a\")\n",
        "elif a == b:\n",
        "  print(\"a and b are equal\")"
      ],
      "metadata": {
        "colab": {
          "base_uri": "https://localhost:8080/"
        },
        "id": "lAAymvijhCSw",
        "outputId": "19514729-8a89-45a4-c7c0-f198359eb6cd"
      },
      "execution_count": 7,
      "outputs": [
        {
          "output_type": "stream",
          "name": "stdout",
          "text": [
            "a and b are equal\n"
          ]
        }
      ]
    },
    {
      "cell_type": "code",
      "source": [
        "a = 200\n",
        "b = 300\n",
        "if b > a:\n",
        "  print(\"b is greater than a\")\n",
        "elif a == b:\n",
        "  print(\"a and b are equal\")\n",
        "else:\n",
        "  print(\"a is greater than b\")"
      ],
      "metadata": {
        "colab": {
          "base_uri": "https://localhost:8080/"
        },
        "id": "5X-XfLomhFOO",
        "outputId": "e871f1a8-f4ff-46d6-d0e4-ea5cdf9104ab"
      },
      "execution_count": 8,
      "outputs": [
        {
          "output_type": "stream",
          "name": "stdout",
          "text": [
            "b is greater than a\n"
          ]
        }
      ]
    },
    {
      "cell_type": "markdown",
      "source": [
        "**1)Python if statement:**\n",
        "* An if statement executes a block of code only if the specified condition is met.\n",
        "\n",
        "**SYNTAX:**\n",
        "\n",
        "if condition: #body of if statement\n",
        "\n",
        "Here, if the condition of the statement is:\n",
        "\n",
        "True-the body of the if statement executes\n",
        "\n",
        "False-the body of the if statement is skipped from execution.\n",
        "\n",
        "**Examples:**"
      ],
      "metadata": {
        "id": "58rEPQIoelMZ"
      }
    },
    {
      "cell_type": "code",
      "source": [
        "x = 288\n",
        "y = 144\n",
        "if x > y:\n",
        "  print(\"x is greater than y\")"
      ],
      "metadata": {
        "colab": {
          "base_uri": "https://localhost:8080/"
        },
        "id": "VcWRMEIfkCBr",
        "outputId": "bd6de368-a570-4d37-c421-5d9fc82d2050"
      },
      "execution_count": 16,
      "outputs": [
        {
          "output_type": "stream",
          "name": "stdout",
          "text": [
            "x is greater than y\n"
          ]
        }
      ]
    },
    {
      "cell_type": "code",
      "source": [
        "number = int(input('Enter a number: '))\n",
        "\n",
        "# check if number is greater than 0\n",
        "if number > 0:\n",
        "    print(f'{number} is a positive number.')\n",
        "\n",
        "print('A statement outside the if statement.')"
      ],
      "metadata": {
        "colab": {
          "base_uri": "https://localhost:8080/"
        },
        "id": "LMKyLPkukCiN",
        "outputId": "40da321d-9661-434e-e32b-0cc974f064fa"
      },
      "execution_count": 17,
      "outputs": [
        {
          "output_type": "stream",
          "name": "stdout",
          "text": [
            "Enter a number: 34\n",
            "34 is a positive number.\n",
            "A statement outside the if statement.\n"
          ]
        }
      ]
    },
    {
      "cell_type": "code",
      "source": [
        "a = int (input(\"Enter a \"));\n",
        "b = int (input(\"Enter b \"));\n",
        "c = int (input(\"Enter c \"));\n",
        "if a>b and a>c:\n",
        "    print (\"From the above three numbers a is largest\");\n",
        "if b>a and b>c:\n",
        "    print (\"From the above three numbers b is largest\");\n",
        "if c>a and c>b:\n",
        "    print (\"From the above three numbers c is largest\");"
      ],
      "metadata": {
        "colab": {
          "base_uri": "https://localhost:8080/"
        },
        "id": "N7ki6XfCkCae",
        "outputId": "956d7b89-5f30-45e8-877b-9feaa10c5320"
      },
      "execution_count": 19,
      "outputs": [
        {
          "output_type": "stream",
          "name": "stdout",
          "text": [
            "Enter a 100\n",
            "Enter b 105\n",
            "Enter c 200\n",
            "From the above three numbers c is largest\n"
          ]
        }
      ]
    },
    {
      "cell_type": "markdown",
      "source": [
        "**2)Python else statement:**\n",
        "* An if statement can have an optional else clause.\n",
        "* The else statement executes if the condition in the if statement evaluates to false.\n",
        "\n",
        "**SYNTAX:**\n",
        "            \n",
        "            if condition: #body of if statement\n",
        "            \n",
        "            else: #body of else statement\n",
        "\n",
        "* Here,if the condition inside the statement evaluates to\n",
        "\n",
        " True-the body of if executes and the body of else is skipped.\n",
        "\n",
        " False-the body of else executes and the body of if is skipped.\n",
        "\n",
        " **Examples:**"
      ],
      "metadata": {
        "id": "WqhpmlfJelRc"
      }
    },
    {
      "cell_type": "code",
      "source": [
        "number=0\n",
        "if number>0:\n",
        "  print('positive number')\n",
        "else:\n",
        "  print('negative number')\n",
        "#print('this statement always executes)"
      ],
      "metadata": {
        "colab": {
          "base_uri": "https://localhost:8080/"
        },
        "id": "Q_G1VONdnaXF",
        "outputId": "99ad1b0c-1430-4fdb-a047-fffac978875f"
      },
      "execution_count": 20,
      "outputs": [
        {
          "output_type": "stream",
          "name": "stdout",
          "text": [
            "negative number\n"
          ]
        }
      ]
    },
    {
      "cell_type": "code",
      "source": [
        "# check whether a person is eligible to vote or not.\n",
        "age = int (input(\"Enter your age: \"))\n",
        "if age>=18:\n",
        "    print(\"You are eligible to vote !!\");\n",
        "else:\n",
        "    print(\"Sorry! you have to wait !!\");"
      ],
      "metadata": {
        "colab": {
          "base_uri": "https://localhost:8080/"
        },
        "id": "5ZXUDvngnapO",
        "outputId": "b801422d-b393-4614-f57e-61708a59ebb6"
      },
      "execution_count": 21,
      "outputs": [
        {
          "output_type": "stream",
          "name": "stdout",
          "text": [
            "Enter your age: 32\n",
            "You are eligible to vote !!\n"
          ]
        }
      ]
    },
    {
      "cell_type": "code",
      "source": [
        "# check whether a number is even or not.\n",
        "num = int(input(\"enter the number:\"))\n",
        "if num%2 == 0:\n",
        "    print(\"The Given number is an even number\")\n",
        "else:\n",
        "    print(\"The Given Number is an odd number\")"
      ],
      "metadata": {
        "colab": {
          "base_uri": "https://localhost:8080/"
        },
        "id": "GYbnUHjAnacJ",
        "outputId": "6d939615-54d0-4e76-bbad-a2ea1a14afc0"
      },
      "execution_count": 22,
      "outputs": [
        {
          "output_type": "stream",
          "name": "stdout",
          "text": [
            "enter the number:24\n",
            "The Given number is an even number\n"
          ]
        }
      ]
    },
    {
      "cell_type": "markdown",
      "source": [
        "**3)Python elif condition:**\n",
        "* The if...else statement is used to execute a block of code among two alternatives.\n",
        "* However, if we need to make a choice between more than two alternatives, we use the if...elif...else statement.\n",
        "\n",
        "**SYNTAX:**\n",
        "\n",
        "if condition1:\n",
        "    # code block 1\n",
        "\n",
        "elif condition2:\n",
        "    # code block 2\n",
        "\n",
        "else:\n",
        "    # code block 3\n",
        "\n",
        "**Examples:**    \n"
      ],
      "metadata": {
        "id": "1qu2PIIzelYj"
      }
    },
    {
      "cell_type": "code",
      "source": [
        "number=80\n",
        "if number>0:\n",
        "  print(\"positive number\")\n",
        "elif number<0:\n",
        "  print('negative number')\n",
        "else:\n",
        "  print('zero')\n",
        "#print ('this statement is always executed')"
      ],
      "metadata": {
        "colab": {
          "base_uri": "https://localhost:8080/"
        },
        "id": "MSR1ndh6p15v",
        "outputId": "3cef019a-9f5c-4d7b-f8bc-8e2a77bad3bc"
      },
      "execution_count": 23,
      "outputs": [
        {
          "output_type": "stream",
          "name": "stdout",
          "text": [
            "positive number\n"
          ]
        }
      ]
    },
    {
      "cell_type": "code",
      "source": [
        "marks=int(input(\"enter your marks:\"))"
      ],
      "metadata": {
        "colab": {
          "base_uri": "https://localhost:8080/"
        },
        "id": "dqsG-mypp3Ps",
        "outputId": "23825fbf-2acd-473d-ad35-ce55780fd89b"
      },
      "execution_count": 24,
      "outputs": [
        {
          "name": "stdout",
          "output_type": "stream",
          "text": [
            "enter your marks:70\n"
          ]
        }
      ]
    },
    {
      "cell_type": "code",
      "source": [
        "if marks>=90:\n",
        "   print(\"grade A\")\n",
        "elif marks<=89 and marks>=80:\n",
        "     print(\"grade B\")\n",
        "elif marks<=79 and marks>=70:\n",
        "     print(\"grade c\")\n",
        "elif marks<=69 and marks>=60:\n",
        "     print(\"grade D\")\n",
        "elif marks<=59 and marks>=50:\n",
        "     print(\"grade E\")\n",
        "else:\n",
        "     print(\"failed\")"
      ],
      "metadata": {
        "colab": {
          "base_uri": "https://localhost:8080/"
        },
        "id": "-EFo_zV7p3HR",
        "outputId": "d39d8615-cbff-41bf-aa11-0d8bd6dd930c"
      },
      "execution_count": 26,
      "outputs": [
        {
          "output_type": "stream",
          "name": "stdout",
          "text": [
            "grade c\n"
          ]
        }
      ]
    },
    {
      "cell_type": "code",
      "source": [
        "numbers=int(input(\"enter your lucky number:\"))\n",
        "if numbers>0:\n",
        "   print(\"positive lucky number\")\n",
        "elif numbers<0:\n",
        "   print(\"negative lucky number\")\n",
        "else :\n",
        "   print(\"zero lucky number\")"
      ],
      "metadata": {
        "colab": {
          "base_uri": "https://localhost:8080/"
        },
        "id": "TLu8XsQpsdXz",
        "outputId": "40177b9b-a2da-45f8-970a-a1db74d481a4"
      },
      "execution_count": 28,
      "outputs": [
        {
          "output_type": "stream",
          "name": "stdout",
          "text": [
            "enter your lucky number:7\n",
            "positive lucky number\n"
          ]
        }
      ]
    },
    {
      "cell_type": "markdown",
      "source": [
        "**4)Python Nested if Statements:**\n",
        "* It is possible to include an if statement inside another if statement.\n",
        "\n",
        "**Example:**"
      ],
      "metadata": {
        "id": "BhwF7tYltn2V"
      }
    },
    {
      "cell_type": "code",
      "source": [
        "number = 5\n",
        "\n",
        "# outer if statement\n",
        "if number >= 0:\n",
        "    # inner if statement\n",
        "    if number == 0:\n",
        "      print('Number is 0')\n",
        "\n",
        "    # inner else statement\n",
        "    else:\n",
        "        print('Number is positive')\n",
        "\n",
        "# outer else statement\n",
        "else:\n",
        "    print('Number is negative')"
      ],
      "metadata": {
        "id": "2vq-b13EuQOX",
        "outputId": "e45919b1-811a-4a00-bf8c-64c7c981b431",
        "colab": {
          "base_uri": "https://localhost:8080/"
        }
      },
      "execution_count": 29,
      "outputs": [
        {
          "output_type": "stream",
          "name": "stdout",
          "text": [
            "Number is positive\n"
          ]
        }
      ]
    }
  ]
}