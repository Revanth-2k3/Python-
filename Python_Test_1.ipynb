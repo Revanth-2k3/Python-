{
  "nbformat": 4,
  "nbformat_minor": 0,
  "metadata": {
    "colab": {
      "provenance": []
    },
    "kernelspec": {
      "name": "python3",
      "display_name": "Python 3"
    },
    "language_info": {
      "name": "python"
    }
  },
  "cells": [
    {
      "cell_type": "markdown",
      "source": [
        "1)Write a Python program to check if a string is a palindrome"
      ],
      "metadata": {
        "id": "5B6Kck2C1-ZI"
      }
    },
    {
      "cell_type": "code",
      "source": [
        "#palindrome or not\n",
        "def ispalindrome(s):\n",
        "    return s==s[::-1]\n",
        "#driver code\n",
        "s=\"AMMA\"\n",
        "ans=ispalindrome(s)\n",
        "if ans:\n",
        "    print(\"yes,it is a palindrome\")\n",
        "else:\n",
        "    print(\"it is not a palindrome\")"
      ],
      "metadata": {
        "colab": {
          "base_uri": "https://localhost:8080/"
        },
        "id": "He2BytrK2M-q",
        "outputId": "951e81ba-9a8d-4323-9cf7-77b22ec7a789"
      },
      "execution_count": null,
      "outputs": [
        {
          "output_type": "stream",
          "name": "stdout",
          "text": [
            "yes,it is a palindrome\n"
          ]
        }
      ]
    },
    {
      "cell_type": "markdown",
      "source": [
        "2)Write a Python program to find the factorial of a number."
      ],
      "metadata": {
        "id": "2yYY1NRh2nVM"
      }
    },
    {
      "cell_type": "code",
      "source": [
        "num = 6\n",
        "# Initialize the factorial variable to 1\n",
        "factorial = 1\n",
        "\n",
        "# Calculate the factorial using a for loop\n",
        "for i in range(1, num + 1):\n",
        "    factorial *= i\n",
        "\n",
        "# Output: The factorial of the number\n",
        "print(f\"The factorial of {num} is {factorial}\")\n"
      ],
      "metadata": {
        "colab": {
          "base_uri": "https://localhost:8080/"
        },
        "id": "wdsu68sd2Yjt",
        "outputId": "3cf2e9f5-33b9-42eb-cb93-79768fa4c79f"
      },
      "execution_count": null,
      "outputs": [
        {
          "output_type": "stream",
          "name": "stdout",
          "text": [
            "The factorial of 6 is 720\n"
          ]
        }
      ]
    },
    {
      "cell_type": "markdown",
      "source": [
        "3)Write a Python program to find the largest element in a list."
      ],
      "metadata": {
        "id": "rFdB32l83s0C"
      }
    },
    {
      "cell_type": "code",
      "source": [
        "my_list=[34,56,87,98,45]\n",
        "largest_number=max(my_list)\n",
        "print(largest_number)"
      ],
      "metadata": {
        "colab": {
          "base_uri": "https://localhost:8080/"
        },
        "id": "CbquIuXn301c",
        "outputId": "f7139aaa-ee1f-401e-e171-438ce8ebce11"
      },
      "execution_count": null,
      "outputs": [
        {
          "output_type": "stream",
          "name": "stdout",
          "text": [
            "98\n"
          ]
        }
      ]
    },
    {
      "cell_type": "markdown",
      "source": [
        "4)Write a Python program to reverse a string."
      ],
      "metadata": {
        "id": "LfHvZCQn37XB"
      }
    },
    {
      "cell_type": "code",
      "source": [
        "# reverse a string\n",
        "string=input((\"enter your string:\"))\n",
        "a=string[::-1]\n",
        "print(a)"
      ],
      "metadata": {
        "colab": {
          "base_uri": "https://localhost:8080/"
        },
        "id": "-rZzc1PR4Cza",
        "outputId": "fff8f0d4-7e1f-447e-f642-7fb11a490284"
      },
      "execution_count": null,
      "outputs": [
        {
          "output_type": "stream",
          "name": "stdout",
          "text": [
            "enter your string:revanth\n",
            "htnaver\n"
          ]
        }
      ]
    },
    {
      "cell_type": "markdown",
      "source": [
        "5)Write a Python program to count the frequency of each element in a list."
      ],
      "metadata": {
        "id": "keF82S9l4IkD"
      }
    },
    {
      "cell_type": "code",
      "source": [
        "def count_frequency(my_list):\n",
        "    frequency = {}\n",
        "    for item in my_list:\n",
        "        if item in frequency:\n",
        "            frequency[item] += 1\n",
        "        else:\n",
        "            frequency[item] = 1\n",
        "    return frequency\n",
        "my_list = ['revanth','sai kumar','kiran raj','nikhil','revanth','sai kumar','kiran raj']\n",
        "print(count_frequency(my_list))"
      ],
      "metadata": {
        "colab": {
          "base_uri": "https://localhost:8080/"
        },
        "id": "fWvxF8Yo4TYt",
        "outputId": "adbba9d6-71f4-40be-8aa0-0703b6c0266d"
      },
      "execution_count": 3,
      "outputs": [
        {
          "output_type": "stream",
          "name": "stdout",
          "text": [
            "{'revanth': 2, 'sai kumar': 2, 'kiran raj': 2, 'nikhil': 1}\n"
          ]
        }
      ]
    },
    {
      "cell_type": "markdown",
      "source": [
        "6)Write a Python program to check if a number is prime."
      ],
      "metadata": {
        "id": "b_pO0K1R4lFQ"
      }
    },
    {
      "cell_type": "code",
      "source": [
        "def check(a):\n",
        "    c=0\n",
        "    for i in range(2,a):\n",
        "        if(a%i==0):\n",
        "            c+=1\n",
        "            break\n",
        "    if(c>=1):\n",
        "        print(a,\"is not a Prime Number\")\n",
        "    else:\n",
        "        print(a,\"is a Prime Number\")\n",
        "a=int(input(\"Enter a Number: \"))\n",
        "check(a)"
      ],
      "metadata": {
        "colab": {
          "base_uri": "https://localhost:8080/"
        },
        "id": "QgwR3Tzu4oyH",
        "outputId": "a79b7f8b-c594-469b-97bb-a7917c4af9fd"
      },
      "execution_count": null,
      "outputs": [
        {
          "output_type": "stream",
          "name": "stdout",
          "text": [
            "Enter a Number: 73\n",
            "73 is a Prime Number\n"
          ]
        }
      ]
    },
    {
      "cell_type": "markdown",
      "source": [
        "7)Write a Python program to find the common elements between two lists."
      ],
      "metadata": {
        "id": "aOFzeEke4v5J"
      }
    },
    {
      "cell_type": "code",
      "source": [
        "A={1,2,3,4,5,6,7,8}\n",
        "B={2,4,6,8,9}\n",
        "print('Intersection &: ',A & B)\n",
        "print('Intersection using intersection():',A.intersection(B))"
      ],
      "metadata": {
        "colab": {
          "base_uri": "https://localhost:8080/"
        },
        "id": "BkbQlXcV4zOU",
        "outputId": "f1425624-f886-4bbc-9f64-8373ebaced55"
      },
      "execution_count": null,
      "outputs": [
        {
          "output_type": "stream",
          "name": "stdout",
          "text": [
            "Intersection &:  {8, 2, 4, 6}\n",
            "Intersection using intersection(): {8, 2, 4, 6}\n"
          ]
        }
      ]
    },
    {
      "cell_type": "markdown",
      "source": [
        "8)Write a Python program to find the second largest number in a list."
      ],
      "metadata": {
        "id": "6KMyg1UP47R6"
      }
    },
    {
      "cell_type": "code",
      "source": [
        "def find_second_largest(lst):\n",
        "    if len(lst) < 2:\n",
        "        return None  # Not enough elements to find the second largest\n",
        "    first, second = float('-inf'), float('-inf')\n",
        "    for number in lst:\n",
        "        if number > first:\n",
        "            first, second = number, first\n",
        "        elif first > number > second:\n",
        "            second = number\n",
        "    return second\n",
        "my_list = [10, 20, 4, 45, 99]\n",
        "print(f\"The second largest number is {find_second_largest(my_list)}\")\n"
      ],
      "metadata": {
        "colab": {
          "base_uri": "https://localhost:8080/"
        },
        "id": "eqpf_P6s4-88",
        "outputId": "84a0efba-0fad-46ae-ddaa-708f7b6ebd94"
      },
      "execution_count": null,
      "outputs": [
        {
          "output_type": "stream",
          "name": "stdout",
          "text": [
            "The second largest number is 45\n"
          ]
        }
      ]
    },
    {
      "cell_type": "markdown",
      "source": [
        "9)Write a Python program to remove duplicates from a list."
      ],
      "metadata": {
        "id": "pBYPL-bQ5YYz"
      }
    },
    {
      "cell_type": "code",
      "source": [
        "#duplicate from list\n",
        "a=input()\n",
        "b=list(dict.fromkeys(a))\n",
        "print(b)"
      ],
      "metadata": {
        "colab": {
          "base_uri": "https://localhost:8080/"
        },
        "id": "Ph7bdOgA5dLI",
        "outputId": "76eba44f-b192-46f6-8f24-b975fb6f98bb"
      },
      "execution_count": null,
      "outputs": [
        {
          "output_type": "stream",
          "name": "stdout",
          "text": [
            "jashwanth\n",
            "['j', 'a', 's', 'h', 'w', 'n', 't']\n"
          ]
        }
      ]
    },
    {
      "cell_type": "markdown",
      "source": [
        "10)Write a python program to Counting Vowels in Word."
      ],
      "metadata": {
        "id": "phg7BTPy5o4w"
      }
    },
    {
      "cell_type": "code",
      "source": [
        "def count_vowels(word):\n",
        "    vowels = \"aeiouAEIOU\"\n",
        "    count = 0\n",
        "    for char in word:\n",
        "        if char in vowels:\n",
        "            count += 1\n",
        "    return count\n",
        "word = \"Hello\"\n",
        "print(f\"The number of vowels in '{word}' is {count_vowels(word)}\")"
      ],
      "metadata": {
        "colab": {
          "base_uri": "https://localhost:8080/"
        },
        "id": "RLSGsrq-5r9v",
        "outputId": "92d27a62-fc04-4b12-8902-87fb78a5c389"
      },
      "execution_count": null,
      "outputs": [
        {
          "output_type": "stream",
          "name": "stdout",
          "text": [
            "The number of vowels in 'Hello' is 2\n"
          ]
        }
      ]
    },
    {
      "cell_type": "markdown",
      "source": [
        "11)Write a python Program to Count the Number of Occurrences of a Character in a String."
      ],
      "metadata": {
        "id": "hFmEYCPH6F3m"
      }
    },
    {
      "cell_type": "code",
      "source": [
        "def count_occurrences(string, char):\n",
        "    count = 0\n",
        "    for c in string:\n",
        "        if c == char:\n",
        "            count += 1\n",
        "    return count\n",
        "string = \"Hello World\"\n",
        "char = \"o\"\n",
        "print(f\"The character '{char}' occurs {count_occurrences(string, char)} times in the string '{string}'.\")"
      ],
      "metadata": {
        "colab": {
          "base_uri": "https://localhost:8080/"
        },
        "id": "luKZ8-Mr6KVU",
        "outputId": "5a7debc1-25c9-4382-ae88-e3615266a5f8"
      },
      "execution_count": null,
      "outputs": [
        {
          "output_type": "stream",
          "name": "stdout",
          "text": [
            "The character 'o' occurs 2 times in the string 'Hello World'.\n"
          ]
        }
      ]
    },
    {
      "cell_type": "markdown",
      "source": [
        "12)Write a python program to Find the Maximum Number in a List."
      ],
      "metadata": {
        "id": "Sf-dkiM66dL_"
      }
    },
    {
      "cell_type": "code",
      "source": [
        "def find_maximum(lst):\n",
        "    return max(lst)\n",
        "my_list=[23,45,67,89,56]\n",
        "print(f\"The maximum number in the list is {find_maximum(my_list)}\")"
      ],
      "metadata": {
        "colab": {
          "base_uri": "https://localhost:8080/"
        },
        "id": "whW-Gzpf6jBQ",
        "outputId": "ecd318bf-1ecd-4a7e-d92d-f206f85d2293"
      },
      "execution_count": null,
      "outputs": [
        {
          "output_type": "stream",
          "name": "stdout",
          "text": [
            "The maximum number in the list is 89\n"
          ]
        }
      ]
    },
    {
      "cell_type": "markdown",
      "source": [
        "13)Write a python program to Find the Minimum Number in a List.\n"
      ],
      "metadata": {
        "id": "qBCWECNy8Lqa"
      }
    },
    {
      "cell_type": "code",
      "source": [
        "def find_minimum(lst):\n",
        "    return min(lst)\n",
        "my_list=[98,87,76,34,12]\n",
        "print(f\"The minimum number in the list is {find_minimum(my_list)}\")"
      ],
      "metadata": {
        "colab": {
          "base_uri": "https://localhost:8080/"
        },
        "id": "vTClC3Co8OwV",
        "outputId": "add5bb66-cac3-47fe-8a14-2d65b3f09f1a"
      },
      "execution_count": null,
      "outputs": [
        {
          "output_type": "stream",
          "name": "stdout",
          "text": [
            "The minimum number in the list is 12\n"
          ]
        }
      ]
    },
    {
      "cell_type": "markdown",
      "source": [
        "14)write a Python Program to find smallest number among three.\n"
      ],
      "metadata": {
        "id": "EE4kTSRt8mN_"
      }
    },
    {
      "cell_type": "code",
      "source": [
        "digit1=input()\n",
        "digit2=input()\n",
        "digit3=input()\n",
        "if(digit1<=digit2) and (digit2<=digit3):\n",
        "    smallest=digit1\n",
        "elif(digit2<=digit1) and (digit2<=digit3):\n",
        "    smallest=digit2\n",
        "else:\n",
        "    smallest=digit3\n",
        "print(\"The smallest digit is\",smallest)"
      ],
      "metadata": {
        "colab": {
          "base_uri": "https://localhost:8080/"
        },
        "id": "emsfnN1C8sze",
        "outputId": "bb066acb-c4b6-4b30-e36b-0a2f8ac87189"
      },
      "execution_count": null,
      "outputs": [
        {
          "output_type": "stream",
          "name": "stdout",
          "text": [
            "78\n",
            "93\n",
            "21\n",
            "The smallest digit is 21\n"
          ]
        }
      ]
    },
    {
      "cell_type": "markdown",
      "source": [
        "15)Write a Python Program to calculate the square of a given number."
      ],
      "metadata": {
        "id": "80_qMft383H0"
      }
    },
    {
      "cell_type": "code",
      "source": [
        "a=8\n",
        "b=2\n",
        "print(a**b)"
      ],
      "metadata": {
        "colab": {
          "base_uri": "https://localhost:8080/"
        },
        "id": "btwfhRYE86dH",
        "outputId": "5f7edbe2-3d1c-47c8-a672-08568406becf"
      },
      "execution_count": null,
      "outputs": [
        {
          "output_type": "stream",
          "name": "stdout",
          "text": [
            "64\n"
          ]
        }
      ]
    },
    {
      "cell_type": "markdown",
      "source": [
        "16)Write a Python program to calculate LCM of given two numbers.\n"
      ],
      "metadata": {
        "id": "4WmeVDY98_kc"
      }
    },
    {
      "cell_type": "code",
      "source": [
        "def compute_lcm(x, y):\n",
        "    # Choose the greater number\n",
        "    if x > y:\n",
        "        greater = x\n",
        "    else:\n",
        "        greater = y\n",
        "    while True:\n",
        "        if (greater % x == 0) and (greater % y == 0):\n",
        "            lcm = greater\n",
        "            break\n",
        "        greater += 1\n",
        "    return lcm\n",
        "num1 = 54\n",
        "num2 = 24\n",
        "print(f\"The LCM of {num1} and {num2} is {compute_lcm(num1, num2)}\")"
      ],
      "metadata": {
        "colab": {
          "base_uri": "https://localhost:8080/"
        },
        "id": "E7wRlwAf9Dl2",
        "outputId": "5cfbe236-d023-4621-8e4c-74e99af26ed8"
      },
      "execution_count": null,
      "outputs": [
        {
          "output_type": "stream",
          "name": "stdout",
          "text": [
            "The LCM of 54 and 24 is 216\n"
          ]
        }
      ]
    },
    {
      "cell_type": "markdown",
      "source": [
        "17)Write a Python program to copy one string to another string."
      ],
      "metadata": {
        "id": "OT71BF8t9rYf"
      }
    },
    {
      "cell_type": "code",
      "source": [
        "original_string = \"Hello, World!\"\n",
        "copied_string = original_string[:]\n",
        "print(f\"Original String: {original_string}\")\n",
        "print(f\"Copied String: {copied_string}\")"
      ],
      "metadata": {
        "colab": {
          "base_uri": "https://localhost:8080/"
        },
        "id": "abL034GC9v5C",
        "outputId": "c9677a24-97ce-42f1-fcd6-b5d1065ca338"
      },
      "execution_count": null,
      "outputs": [
        {
          "output_type": "stream",
          "name": "stdout",
          "text": [
            "Original String: Hello, World!\n",
            "Copied String: Hello, World!\n"
          ]
        }
      ]
    },
    {
      "cell_type": "markdown",
      "source": [
        "18)Write a Python Program to sort characters of string in ascending order."
      ],
      "metadata": {
        "id": "48BvLWXh-BMK"
      }
    },
    {
      "cell_type": "code",
      "source": [
        "def sort_string(s):\n",
        "    return ''.join(sorted(s))\n",
        "string = \"python\"\n",
        "sorted_string = sort_string(string)\n",
        "print(f\"The sorted string is: {sorted_string}\")"
      ],
      "metadata": {
        "colab": {
          "base_uri": "https://localhost:8080/"
        },
        "id": "tRxKdlh2-GiW",
        "outputId": "a19f9ffa-d546-4664-f37a-dc1b65ba193b"
      },
      "execution_count": null,
      "outputs": [
        {
          "output_type": "stream",
          "name": "stdout",
          "text": [
            "The sorted string is: hnopty\n"
          ]
        }
      ]
    },
    {
      "cell_type": "markdown",
      "source": [
        "19)Write a Python Program to sort characters of string in descending order."
      ],
      "metadata": {
        "id": "25xMuGCJ-jgF"
      }
    },
    {
      "cell_type": "code",
      "source": [
        "def sort_string_desc(s):\n",
        "    return ''.join(sorted(s, reverse=True))\n",
        "string = \"data science\"\n",
        "sorted_string = sort_string_desc(string)\n",
        "print(f\"The sorted string in descending order is: {sorted_string}\")"
      ],
      "metadata": {
        "colab": {
          "base_uri": "https://localhost:8080/"
        },
        "id": "SdrPbG7u-ikV",
        "outputId": "d9782db6-b935-40b1-fe42-554f50ff9ebf"
      },
      "execution_count": null,
      "outputs": [
        {
          "output_type": "stream",
          "name": "stdout",
          "text": [
            "The sorted string in descending order is: tsnieedccaa \n"
          ]
        }
      ]
    },
    {
      "cell_type": "markdown",
      "source": [
        "20)Write a program in Python to swap two numbers without using third variable?"
      ],
      "metadata": {
        "id": "NPk8rn-t-v4h"
      }
    },
    {
      "cell_type": "code",
      "source": [
        "def swap_numbers(a, b):\n",
        "    a = a + b\n",
        "    b = a - b\n",
        "    a = a - b\n",
        "    return a, b\n",
        "x = 51\n",
        "y = 10\n",
        "x, y = swap_numbers(x, y)\n",
        "print(f\"After swapping: x = {x}, y = {y}\")\n"
      ],
      "metadata": {
        "colab": {
          "base_uri": "https://localhost:8080/"
        },
        "id": "iS6gtkn2-2mN",
        "outputId": "1d0f92e5-1372-41bb-8f68-6d87ea87ac9b"
      },
      "execution_count": null,
      "outputs": [
        {
          "output_type": "stream",
          "name": "stdout",
          "text": [
            "After swapping: x = 10, y = 51\n"
          ]
        }
      ]
    },
    {
      "cell_type": "markdown",
      "source": [
        "21)Write a python program to find the fibonacci series of a number."
      ],
      "metadata": {
        "id": "3bm7ONtKZmcC"
      }
    },
    {
      "cell_type": "code",
      "source": [
        "def fibinocci(n):\n",
        "    n1,n2=0,1\n",
        "    sum=0\n",
        "    if n<0:\n",
        "        print(\"Please enter positive number.\")\n",
        "    else:\n",
        "        print(\"fibinocci series:\")\n",
        "        for i in range(0,n):\n",
        "            print(sum,end=' ')\n",
        "            n1=n2\n",
        "            n2=sum\n",
        "            sum=n1+n2\n",
        "n=int(input())\n",
        "fibinocci(n)"
      ],
      "metadata": {
        "colab": {
          "base_uri": "https://localhost:8080/"
        },
        "id": "_F_jhUvvajZi",
        "outputId": "810377ed-8fd8-4a59-a66e-98b258301147"
      },
      "execution_count": 4,
      "outputs": [
        {
          "output_type": "stream",
          "name": "stdout",
          "text": [
            "23\n",
            "fibinocci series:\n",
            "0 1 1 2 3 5 8 13 21 34 55 89 144 233 377 610 987 1597 2584 4181 6765 10946 17711 "
          ]
        }
      ]
    },
    {
      "cell_type": "markdown",
      "source": [
        "22)Write a python program to find the paranthesis count present in a string."
      ],
      "metadata": {
        "id": "t1_v5aNqazTP"
      }
    },
    {
      "cell_type": "code",
      "source": [
        "def count_parentheses(s):\n",
        "    open_parens = s.count('(')\n",
        "    close_parens = s.count(')')\n",
        "    return open_parens, close_parens\n",
        "input_string = \"((Welcome) (Revanth))\"\n",
        "open_count, close_count = count_parentheses(input_string)\n",
        "print(f\"Number of opening parentheses: {open_count}\")\n",
        "print(f\"Number of closing parentheses: {close_count}\")"
      ],
      "metadata": {
        "colab": {
          "base_uri": "https://localhost:8080/"
        },
        "id": "poJ6VmknbEQk",
        "outputId": "7d9536f8-fb20-4092-a769-2d3d9a452820"
      },
      "execution_count": 5,
      "outputs": [
        {
          "output_type": "stream",
          "name": "stdout",
          "text": [
            "Number of opening parentheses: 3\n",
            "Number of closing parentheses: 3\n"
          ]
        }
      ]
    },
    {
      "cell_type": "markdown",
      "source": [
        "23)Write a python program to find the non-repeating element in a string."
      ],
      "metadata": {
        "id": "FS6n6HAcbVKA"
      }
    },
    {
      "cell_type": "code",
      "source": [
        "def non_repeating(s):\n",
        "    flag = 0\n",
        "    for i in s:\n",
        "        if s.count(i) == 1:\n",
        "            print(\"First non-repeating character is :\", i)\n",
        "            flag = 1\n",
        "            break\n",
        "    if flag == 0:\n",
        "        print(\"No non-repeating character\")\n",
        "s=input()\n",
        "non_repeating(s)"
      ],
      "metadata": {
        "colab": {
          "base_uri": "https://localhost:8080/"
        },
        "id": "ONsTQTBWbf_l",
        "outputId": "836b812f-934b-463d-a8a3-8acf80831df9"
      },
      "execution_count": 8,
      "outputs": [
        {
          "output_type": "stream",
          "name": "stdout",
          "text": [
            "revanth reddy\n",
            "First non-repeating character is : v\n"
          ]
        }
      ]
    }
  ]
}