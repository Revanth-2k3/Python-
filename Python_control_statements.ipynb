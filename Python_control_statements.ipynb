{
  "nbformat": 4,
  "nbformat_minor": 0,
  "metadata": {
    "colab": {
      "provenance": []
    },
    "kernelspec": {
      "name": "python3",
      "display_name": "Python 3"
    },
    "language_info": {
      "name": "python"
    }
  },
  "cells": [
    {
      "cell_type": "markdown",
      "source": [
        "**Control statements in python:**\n",
        "* In python, pass,break and continue are control flow statements used within loops.\n",
        "* They provide ways to control the execution of a loop or to handle certain situations.\n",
        "\n",
        "**1)Pass statement():**\n",
        "* The pass statement is a no operation statement.\n",
        "* It is a placeholder where syntactically some code is required,but no action needs to be taken.\n",
        "\n",
        "**Examples:**"
      ],
      "metadata": {
        "id": "78R-2ZFoW0dc"
      }
    },
    {
      "cell_type": "code",
      "source": [
        "for i in range(10):\n",
        "    if i == 6:\n",
        "        pass\n",
        "    else:\n",
        "        print(i)"
      ],
      "metadata": {
        "colab": {
          "base_uri": "https://localhost:8080/"
        },
        "id": "djS64NQ1XxoF",
        "outputId": "232a03c8-733c-43e2-d9e7-824d1d37417d"
      },
      "execution_count": 2,
      "outputs": [
        {
          "output_type": "stream",
          "name": "stdout",
          "text": [
            "0\n",
            "1\n",
            "2\n",
            "3\n",
            "4\n",
            "5\n",
            "7\n",
            "8\n",
            "9\n"
          ]
        }
      ]
    },
    {
      "cell_type": "code",
      "source": [
        "for letter in 'Revanth':\n",
        "    pass\n",
        "print('Last Letter :', letter)"
      ],
      "metadata": {
        "colab": {
          "base_uri": "https://localhost:8080/"
        },
        "id": "w9Nym6y6Z-18",
        "outputId": "307cc4a4-5a01-4956-8bab-942a55807ba0"
      },
      "execution_count": 5,
      "outputs": [
        {
          "output_type": "stream",
          "name": "stdout",
          "text": [
            "Last Letter : h\n"
          ]
        }
      ]
    },
    {
      "cell_type": "markdown",
      "source": [
        "**2)break statement():**\n",
        "* The break statement is used to exit a loop prematurely.\n",
        "* When a break statement is encountered,the loop terminates immediately,the control is transferred to the statement immediately following the loop.\n",
        "\n",
        "**Examples:**"
      ],
      "metadata": {
        "id": "dD5aLH6sYOQo"
      }
    },
    {
      "cell_type": "code",
      "source": [
        "for letter in 'datascience':\n",
        "\n",
        "    # break the loop as soon it sees 'e'\n",
        "    # or 's'\n",
        "    if letter == 'e' or letter == 's':\n",
        "        break\n",
        "print('Current Letter :', letter)"
      ],
      "metadata": {
        "colab": {
          "base_uri": "https://localhost:8080/"
        },
        "id": "coQ-fz8saik_",
        "outputId": "d78db56e-5cdf-472f-877a-71498ca28581"
      },
      "execution_count": 6,
      "outputs": [
        {
          "output_type": "stream",
          "name": "stdout",
          "text": [
            "Current Letter : s\n"
          ]
        }
      ]
    },
    {
      "cell_type": "code",
      "source": [
        "for i in range(20):\n",
        "    if i==7:\n",
        "      pass\n",
        "    elif i==17:\n",
        "      break\n",
        "    else:\n",
        "      print(i)"
      ],
      "metadata": {
        "colab": {
          "base_uri": "https://localhost:8080/"
        },
        "id": "gpSZ82JpYt1b",
        "outputId": "c46f2771-0af2-4bec-afa0-7d7e6d4eb2fa"
      },
      "execution_count": 3,
      "outputs": [
        {
          "output_type": "stream",
          "name": "stdout",
          "text": [
            "0\n",
            "1\n",
            "2\n",
            "3\n",
            "4\n",
            "5\n",
            "6\n",
            "8\n",
            "9\n",
            "10\n",
            "11\n",
            "12\n",
            "13\n",
            "14\n",
            "15\n",
            "16\n"
          ]
        }
      ]
    },
    {
      "cell_type": "markdown",
      "source": [
        "**3)Continue:**\n",
        "* The continue statement is used to skip the rest of the code inside a loop for the current iteration and move to the next iteration.\n",
        "\n",
        "**Example:**"
      ],
      "metadata": {
        "id": "EynJFehkZMXC"
      }
    },
    {
      "cell_type": "code",
      "source": [
        "# Prints all letters except 'e' and 's'\n",
        "for letter in 'Engineering courses':\n",
        "\tif letter == 'e' or letter == 's':\n",
        "\t\tcontinue\n",
        "\tprint('Current Letter :', letter)\n"
      ],
      "metadata": {
        "colab": {
          "base_uri": "https://localhost:8080/"
        },
        "id": "IcETauzOa5jW",
        "outputId": "661df2ac-79ac-4a0e-8fac-608355ac7bc2"
      },
      "execution_count": 7,
      "outputs": [
        {
          "output_type": "stream",
          "name": "stdout",
          "text": [
            "Current Letter : E\n",
            "Current Letter : n\n",
            "Current Letter : g\n",
            "Current Letter : i\n",
            "Current Letter : n\n",
            "Current Letter : r\n",
            "Current Letter : i\n",
            "Current Letter : n\n",
            "Current Letter : g\n",
            "Current Letter :  \n",
            "Current Letter : c\n",
            "Current Letter : o\n",
            "Current Letter : u\n",
            "Current Letter : r\n"
          ]
        }
      ]
    },
    {
      "cell_type": "code",
      "source": [
        "for i in range(10):\n",
        "    if i == 7:\n",
        "        continue\n",
        "    else:\n",
        "        print(i)"
      ],
      "metadata": {
        "colab": {
          "base_uri": "https://localhost:8080/"
        },
        "id": "soASsSPFZgQa",
        "outputId": "02e462e9-fe51-4efd-c335-a8da7a89842a"
      },
      "execution_count": 4,
      "outputs": [
        {
          "output_type": "stream",
          "name": "stdout",
          "text": [
            "0\n",
            "1\n",
            "2\n",
            "3\n",
            "4\n",
            "5\n",
            "6\n",
            "8\n",
            "9\n"
          ]
        }
      ]
    }
  ]
}