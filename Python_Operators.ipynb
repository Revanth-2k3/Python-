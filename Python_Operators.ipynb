{
  "nbformat": 4,
  "nbformat_minor": 0,
  "metadata": {
    "colab": {
      "provenance": []
    },
    "kernelspec": {
      "name": "python3",
      "display_name": "Python 3"
    },
    "language_info": {
      "name": "python"
    }
  },
  "cells": [
    {
      "cell_type": "markdown",
      "source": [
        "#Python Operators:\n",
        " Python Operators are used to perfom operations on variables and values.\n",
        "\n",
        "\n",
        "Examples:"
      ],
      "metadata": {
        "id": "R5tEoSjzuRHY"
      }
    },
    {
      "cell_type": "code",
      "source": [
        "print(5+5)"
      ],
      "metadata": {
        "colab": {
          "base_uri": "https://localhost:8080/"
        },
        "id": "GIwSHViWsBvu",
        "outputId": "62395401-749b-468e-8478-4d754255e897"
      },
      "execution_count": null,
      "outputs": [
        {
          "output_type": "stream",
          "name": "stdout",
          "text": [
            "10\n"
          ]
        }
      ]
    },
    {
      "cell_type": "code",
      "source": [
        "print(15+25)"
      ],
      "metadata": {
        "colab": {
          "base_uri": "https://localhost:8080/"
        },
        "id": "_490QQMasScw",
        "outputId": "49384a0f-2913-455a-edfe-fd5d44093385"
      },
      "execution_count": null,
      "outputs": [
        {
          "output_type": "stream",
          "name": "stdout",
          "text": [
            "40\n"
          ]
        }
      ]
    },
    {
      "cell_type": "code",
      "source": [
        "print(15+16) #31"
      ],
      "metadata": {
        "colab": {
          "base_uri": "https://localhost:8080/"
        },
        "id": "ex-u6gSJs3NH",
        "outputId": "c4723a60-b6e8-43c6-b279-25754679a9b2"
      },
      "execution_count": null,
      "outputs": [
        {
          "output_type": "stream",
          "name": "stdout",
          "text": [
            "31\n"
          ]
        }
      ]
    },
    {
      "cell_type": "code",
      "source": [
        "print(45+35) #80"
      ],
      "metadata": {
        "colab": {
          "base_uri": "https://localhost:8080/"
        },
        "id": "NxqFJQMws_X_",
        "outputId": "730ee17c-d9f6-4ffe-a4e1-337212145ced"
      },
      "execution_count": null,
      "outputs": [
        {
          "output_type": "stream",
          "name": "stdout",
          "text": [
            "80\n"
          ]
        }
      ]
    },
    {
      "cell_type": "code",
      "source": [
        "n=5+5\n",
        "print(n)"
      ],
      "metadata": {
        "colab": {
          "base_uri": "https://localhost:8080/"
        },
        "id": "XXFpVeXWtLcv",
        "outputId": "42743d82-bf6f-4ce9-aa84-6af302e50a68"
      },
      "execution_count": null,
      "outputs": [
        {
          "output_type": "stream",
          "name": "stdout",
          "text": [
            "10\n"
          ]
        }
      ]
    },
    {
      "cell_type": "markdown",
      "source": [
        "Types of Operators:\n",
        " There are mainly 7 types of operators in python. They are:\n",
        " 1)Arithmetic Operators\n",
        " 2)Assignment Operators\n",
        " 3)Comparision Operators\n",
        " 4)Logical Operators\n",
        " 5)Identity Operators\n",
        " 6)Membership Operators\n",
        " 7)Bitwise Operators"
      ],
      "metadata": {
        "id": "aEsDKMzVtc11"
      }
    },
    {
      "cell_type": "markdown",
      "source": [
        "1)Arithmetic Operators:Arithmetic operators are used with numeric values to perform common mathematical operations like addition,subtraction,multiplication,division etc."
      ],
      "metadata": {
        "id": "nbQDmW0CvBMV"
      }
    },
    {
      "cell_type": "markdown",
      "source": [
        "Examples:"
      ],
      "metadata": {
        "id": "v2kpq6VRv-hE"
      }
    },
    {
      "cell_type": "code",
      "source": [
        "x=10\n",
        "y=5\n",
        "print(x + y)\n",
        "print(x - y)\n",
        "print(x * y)\n",
        "print(x / y)\n",
        "print(x // y)\n",
        "print(x % y)\n",
        "print(x ** y)"
      ],
      "metadata": {
        "colab": {
          "base_uri": "https://localhost:8080/"
        },
        "id": "ZJgEBGXZv7iq",
        "outputId": "d042f790-72e3-4a77-f5ab-47a322cd74e7"
      },
      "execution_count": null,
      "outputs": [
        {
          "output_type": "stream",
          "name": "stdout",
          "text": [
            "15\n",
            "5\n",
            "50\n",
            "2.0\n",
            "2\n",
            "0\n",
            "100000\n"
          ]
        }
      ]
    },
    {
      "cell_type": "code",
      "source": [
        "x=15\n",
        "y=3\n",
        "print(x + y)\n",
        "print(x - y)\n",
        "print(x * y)\n",
        "print(x / y)\n",
        "print(x // y)\n",
        "print(x % y)\n",
        "print(x ** y)"
      ],
      "metadata": {
        "colab": {
          "base_uri": "https://localhost:8080/"
        },
        "id": "W6ul0gunwV_6",
        "outputId": "6d450c29-4673-4219-e9bc-53bb3acf556e"
      },
      "execution_count": null,
      "outputs": [
        {
          "output_type": "stream",
          "name": "stdout",
          "text": [
            "18\n",
            "12\n",
            "45\n",
            "5.0\n",
            "5\n",
            "0\n",
            "3375\n"
          ]
        }
      ]
    },
    {
      "cell_type": "code",
      "source": [
        "x=200\n",
        "y=25\n",
        "print(x + y)\n",
        "print(x - y)\n",
        "print(x * y)\n",
        "print(x / y)\n",
        "print(x // y)\n",
        "print(x % y)\n",
        "print(x ** y)"
      ],
      "metadata": {
        "colab": {
          "base_uri": "https://localhost:8080/"
        },
        "id": "jF_gmFM_wen9",
        "outputId": "8b65dacb-b9c4-488c-ec85-afb45146f161"
      },
      "execution_count": null,
      "outputs": [
        {
          "output_type": "stream",
          "name": "stdout",
          "text": [
            "225\n",
            "175\n",
            "5000\n",
            "8.0\n",
            "8\n",
            "0\n",
            "3355443200000000000000000000000000000000000000000000000000\n"
          ]
        }
      ]
    },
    {
      "cell_type": "code",
      "source": [
        "a = 16\n",
        "b = 4\n",
        "#addition\n",
        "print('Sum:',a+b)\n",
        "#subtraction\n",
        "print('Subtraction:',a-b)\n",
        "#multiplication\n",
        "print('Multiplication:',a*b)\n",
        "#division\n",
        "print('Division:',a/b)\n",
        "#floor division\n",
        "print('Floor Division:',a//b)\n",
        "#modulo\n",
        "print('Modulo:',a%b)\n",
        "# a to the power b\n",
        "print('Power:',a**b)"
      ],
      "metadata": {
        "colab": {
          "base_uri": "https://localhost:8080/"
        },
        "id": "IwG6fAU3xRze",
        "outputId": "42c1746f-e0a1-41a9-956c-475dc065af80"
      },
      "execution_count": null,
      "outputs": [
        {
          "output_type": "stream",
          "name": "stdout",
          "text": [
            "Sum: 20\n",
            "Subtraction: 12\n",
            "Multiplication: 64\n",
            "Division: 4.0\n",
            "Floor Division: 4\n",
            "Modulo: 0\n",
            "Power: 65536\n"
          ]
        }
      ]
    },
    {
      "cell_type": "code",
      "source": [
        "a = 45\n",
        "b = 15\n",
        "#addition\n",
        "print('Sum:',a + b)\n",
        "#subtraction\n",
        "print('Subtraction:',a - b)\n",
        "#multiplication\n",
        "print('Multiplication:',a*b)\n",
        "#division\n",
        "print('Division: ',a/b)\n",
        "#floor division\n",
        "print('Floor Division:',a//b)\n",
        "#modulo\n",
        "print('Modulo:',a%b)\n",
        "# a to the power b\n",
        "print ('Power:',a**b)"
      ],
      "metadata": {
        "colab": {
          "base_uri": "https://localhost:8080/"
        },
        "id": "c8BQh_obxjjN",
        "outputId": "c2af4135-ce03-4774-b961-b15103f46688"
      },
      "execution_count": null,
      "outputs": [
        {
          "output_type": "stream",
          "name": "stdout",
          "text": [
            "Sum: 60\n",
            "Subtraction: 30\n",
            "Multiplication: 675\n",
            "Division:  3.0\n",
            "Floor Division: 3\n",
            "Modulo: 0\n",
            "Power: 6283298708943145751953125\n"
          ]
        }
      ]
    },
    {
      "cell_type": "markdown",
      "source": [
        "a)Addition Operator(+):In Python, + is the addition operator.It is used to add 2 values."
      ],
      "metadata": {
        "id": "z88QZNvTG3zC"
      }
    },
    {
      "cell_type": "code",
      "source": [
        "a=10\n",
        "b=30\n",
        "#addition\n",
        "c=a+b\n",
        "print(c)"
      ],
      "metadata": {
        "colab": {
          "base_uri": "https://localhost:8080/"
        },
        "id": "PhPnHanUG23W",
        "outputId": "1ff06a74-de19-442c-f26f-c71ed115e2da"
      },
      "execution_count": null,
      "outputs": [
        {
          "output_type": "stream",
          "name": "stdout",
          "text": [
            "40\n"
          ]
        }
      ]
    },
    {
      "cell_type": "code",
      "source": [
        "val1=28\n",
        "val2=35\n",
        "#using the addition operator\n",
        "res=val1+val2\n",
        "print(res)\n"
      ],
      "metadata": {
        "colab": {
          "base_uri": "https://localhost:8080/"
        },
        "id": "zQLcPNnAL3jC",
        "outputId": "bc4060cf-702d-4011-aef6-f2b24e659e82"
      },
      "execution_count": null,
      "outputs": [
        {
          "output_type": "stream",
          "name": "stdout",
          "text": [
            "63\n"
          ]
        }
      ]
    },
    {
      "cell_type": "code",
      "source": [
        "x=50\n",
        "y=63\n",
        "print(x+y)"
      ],
      "metadata": {
        "colab": {
          "base_uri": "https://localhost:8080/"
        },
        "id": "5i1lJ7I_MZVE",
        "outputId": "ec7d2049-5851-49ae-917c-c5ad605c21a6"
      },
      "execution_count": null,
      "outputs": [
        {
          "output_type": "stream",
          "name": "stdout",
          "text": [
            "113\n"
          ]
        }
      ]
    },
    {
      "cell_type": "code",
      "source": [
        "x,y=98,63\n",
        "print(x+y)"
      ],
      "metadata": {
        "colab": {
          "base_uri": "https://localhost:8080/"
        },
        "id": "v_pXPMAkNEkV",
        "outputId": "d9842c02-7798-49b2-c9d9-5b6aa34f0621"
      },
      "execution_count": null,
      "outputs": [
        {
          "output_type": "stream",
          "name": "stdout",
          "text": [
            "161\n"
          ]
        }
      ]
    },
    {
      "cell_type": "code",
      "source": [
        "a=89\n",
        "b=65\n",
        "print(a+b) #154"
      ],
      "metadata": {
        "colab": {
          "base_uri": "https://localhost:8080/"
        },
        "id": "72IxBD-fNP6K",
        "outputId": "8aed7770-1569-4f53-8dea-9d7cfc8a6fc4"
      },
      "execution_count": null,
      "outputs": [
        {
          "output_type": "stream",
          "name": "stdout",
          "text": [
            "154\n"
          ]
        }
      ]
    },
    {
      "cell_type": "markdown",
      "source": [
        "b)Subtraction Operator(-):It is used to subtract the second value from the first value."
      ],
      "metadata": {
        "id": "rQ0D-gk4OqaE"
      }
    },
    {
      "cell_type": "code",
      "source": [
        "a=60\n",
        "b=30\n",
        "#Subtraction\n",
        "c=a-b\n",
        "print(c)"
      ],
      "metadata": {
        "colab": {
          "base_uri": "https://localhost:8080/"
        },
        "id": "cZzwBqOCPKVn",
        "outputId": "353198c7-32c2-4850-bef0-e0145bc1f05c"
      },
      "execution_count": null,
      "outputs": [
        {
          "output_type": "stream",
          "name": "stdout",
          "text": [
            "30\n"
          ]
        }
      ]
    },
    {
      "cell_type": "code",
      "source": [
        "x=98\n",
        "y=76\n",
        "print(x-y)"
      ],
      "metadata": {
        "colab": {
          "base_uri": "https://localhost:8080/"
        },
        "id": "GzK954lxPccd",
        "outputId": "f12c715c-2a99-4f93-a5d5-a1dcf6f053da"
      },
      "execution_count": null,
      "outputs": [
        {
          "output_type": "stream",
          "name": "stdout",
          "text": [
            "22\n"
          ]
        }
      ]
    },
    {
      "cell_type": "code",
      "source": [
        "val1=88\n",
        "val2=75\n",
        "#using the Subtraction operator\n",
        "res=val1-val2\n",
        "print(res)"
      ],
      "metadata": {
        "colab": {
          "base_uri": "https://localhost:8080/"
        },
        "id": "XGDsjjRnPrgL",
        "outputId": "65b9461f-fa8c-4274-c65b-6594b92125f0"
      },
      "execution_count": null,
      "outputs": [
        {
          "output_type": "stream",
          "name": "stdout",
          "text": [
            "13\n"
          ]
        }
      ]
    },
    {
      "cell_type": "code",
      "source": [
        "x,y=144,56\n",
        "print(x-y)"
      ],
      "metadata": {
        "colab": {
          "base_uri": "https://localhost:8080/"
        },
        "id": "2CbNyy42QCPj",
        "outputId": "443a1158-2547-4eba-a7b9-f6c3b14ebf54"
      },
      "execution_count": null,
      "outputs": [
        {
          "output_type": "stream",
          "name": "stdout",
          "text": [
            "88\n"
          ]
        }
      ]
    },
    {
      "cell_type": "code",
      "source": [
        "num1=10\n",
        "num2=5\n",
        "result=num1-num2\n",
        "print(\"Subtraction using the Minus Operator:\", result)"
      ],
      "metadata": {
        "colab": {
          "base_uri": "https://localhost:8080/"
        },
        "id": "z12w9afDQH2c",
        "outputId": "59864176-2070-48b5-dd24-bb0e7c68cdd8"
      },
      "execution_count": null,
      "outputs": [
        {
          "output_type": "stream",
          "name": "stdout",
          "text": [
            "Subtraction using the Minus Operator: 5\n"
          ]
        }
      ]
    },
    {
      "cell_type": "markdown",
      "source": [
        "c)Multiplication Operator(*):It is used to find the product of 2 values."
      ],
      "metadata": {
        "id": "jqf9NOw3RT7G"
      }
    },
    {
      "cell_type": "code",
      "source": [
        "a=23\n",
        "b=46\n",
        "#Multiplication\n",
        "c=a*b\n",
        "print(c)"
      ],
      "metadata": {
        "colab": {
          "base_uri": "https://localhost:8080/"
        },
        "id": "XcRIi9L-RhqQ",
        "outputId": "4810a556-d95e-4391-bad9-25ffbb733ec3"
      },
      "execution_count": null,
      "outputs": [
        {
          "output_type": "stream",
          "name": "stdout",
          "text": [
            "1058\n"
          ]
        }
      ]
    },
    {
      "cell_type": "code",
      "source": [
        "x,y=57,57\n",
        "print(x*y)"
      ],
      "metadata": {
        "colab": {
          "base_uri": "https://localhost:8080/"
        },
        "id": "HMAtIgoDRw9j",
        "outputId": "b02961d3-dd82-492f-a29b-e0999ad02261"
      },
      "execution_count": null,
      "outputs": [
        {
          "output_type": "stream",
          "name": "stdout",
          "text": [
            "3249\n"
          ]
        }
      ]
    },
    {
      "cell_type": "code",
      "source": [
        "#Multiplying integers\n",
        "num1=51\n",
        "num2=30\n",
        "result=num1*num2\n",
        "print(result)"
      ],
      "metadata": {
        "colab": {
          "base_uri": "https://localhost:8080/"
        },
        "id": "6Cmj0zjpR9dz",
        "outputId": "79efd8bb-55f9-4580-f474-7602a997e457"
      },
      "execution_count": null,
      "outputs": [
        {
          "output_type": "stream",
          "name": "stdout",
          "text": [
            "1530\n"
          ]
        }
      ]
    },
    {
      "cell_type": "code",
      "source": [
        "#Multiplying floating-point numbers\n",
        "num3=2.5\n",
        "num4=1.2\n",
        "result=num3*num4\n",
        "print(result)"
      ],
      "metadata": {
        "colab": {
          "base_uri": "https://localhost:8080/"
        },
        "id": "t9joQHISR90a",
        "outputId": "230e9e69-eb52-463f-de55-193159bf776d"
      },
      "execution_count": null,
      "outputs": [
        {
          "output_type": "stream",
          "name": "stdout",
          "text": [
            "3.0\n"
          ]
        }
      ]
    },
    {
      "cell_type": "code",
      "source": [
        "val1=48\n",
        "val2=97\n",
        "#using the multiplication operator\n",
        "res=val1*val2\n",
        "print(res)"
      ],
      "metadata": {
        "colab": {
          "base_uri": "https://localhost:8080/"
        },
        "id": "gLtMpCVaR-Nq",
        "outputId": "28605f46-c5eb-4fff-a199-b42e2b6ef271"
      },
      "execution_count": null,
      "outputs": [
        {
          "output_type": "stream",
          "name": "stdout",
          "text": [
            "4656\n"
          ]
        }
      ]
    },
    {
      "cell_type": "markdown",
      "source": [
        "d)Division Operator(/):It is used to find the quotient when the first operand is divided by the second."
      ],
      "metadata": {
        "id": "z5WrvNnhTDXy"
      }
    },
    {
      "cell_type": "code",
      "source": [
        "a=34\n",
        "b=17\n",
        "#division\n",
        "c=a/b #returns the quotient\n",
        "print(c)\n"
      ],
      "metadata": {
        "colab": {
          "base_uri": "https://localhost:8080/"
        },
        "id": "nn8qHGRGTVV1",
        "outputId": "263ecad3-38f6-4e55-b07f-84808ac4f6b5"
      },
      "execution_count": null,
      "outputs": [
        {
          "output_type": "stream",
          "name": "stdout",
          "text": [
            "2.0\n"
          ]
        }
      ]
    },
    {
      "cell_type": "code",
      "source": [
        "x=48\n",
        "print(x/3)"
      ],
      "metadata": {
        "colab": {
          "base_uri": "https://localhost:8080/"
        },
        "id": "hJOvOc7fTp0r",
        "outputId": "e847229a-2d5a-4d4f-a930-a9ca6ef17f00"
      },
      "execution_count": null,
      "outputs": [
        {
          "output_type": "stream",
          "name": "stdout",
          "text": [
            "16.0\n"
          ]
        }
      ]
    },
    {
      "cell_type": "code",
      "source": [
        "val1=30\n",
        "val2=25\n",
        "#using the division operator\n",
        "res=val1/val2\n",
        "print(res)\n"
      ],
      "metadata": {
        "colab": {
          "base_uri": "https://localhost:8080/"
        },
        "id": "epjJ8c3BUBH-",
        "outputId": "02bc310b-189a-443d-b99c-3619a1ad4e40"
      },
      "execution_count": null,
      "outputs": [
        {
          "output_type": "stream",
          "name": "stdout",
          "text": [
            "1.2\n"
          ]
        }
      ]
    },
    {
      "cell_type": "code",
      "source": [
        "a=108\n",
        "b=36\n",
        "result=a/b\n",
        "print(result)"
      ],
      "metadata": {
        "colab": {
          "base_uri": "https://localhost:8080/"
        },
        "id": "49yC3CcQUA6f",
        "outputId": "c8e90fee-7b8a-4dbf-9f8f-d6315555b193"
      },
      "execution_count": null,
      "outputs": [
        {
          "output_type": "stream",
          "name": "stdout",
          "text": [
            "3.0\n"
          ]
        }
      ]
    },
    {
      "cell_type": "code",
      "source": [
        "num1=2.5\n",
        "num2=1.2\n",
        "print(num1/num2)"
      ],
      "metadata": {
        "colab": {
          "base_uri": "https://localhost:8080/"
        },
        "id": "TeFQN80hUAN-",
        "outputId": "8e605d9d-f891-4ccc-b768-1d691bbdaef7"
      },
      "execution_count": null,
      "outputs": [
        {
          "output_type": "stream",
          "name": "stdout",
          "text": [
            "2.0833333333333335\n"
          ]
        }
      ]
    },
    {
      "cell_type": "markdown",
      "source": [
        "e)Float division(//):It is used to find the floor of the quotient when the first operand is divided by the second."
      ],
      "metadata": {
        "id": "hwCLmU3QS4vv"
      }
    },
    {
      "cell_type": "code",
      "source": [
        "a=45\n",
        "b=16\n",
        "#float division\n",
        "c=a//b\n",
        "print(c)"
      ],
      "metadata": {
        "colab": {
          "base_uri": "https://localhost:8080/"
        },
        "id": "6T6H2opZVbNM",
        "outputId": "43befe42-5156-4912-cca9-646446d59835"
      },
      "execution_count": null,
      "outputs": [
        {
          "output_type": "stream",
          "name": "stdout",
          "text": [
            "2\n"
          ]
        }
      ]
    },
    {
      "cell_type": "code",
      "source": [
        "print(51//5)\n",
        "print(119//2)\n",
        "print(-101//2)\n",
        "print(201//2)\n"
      ],
      "metadata": {
        "colab": {
          "base_uri": "https://localhost:8080/"
        },
        "id": "q1qXl3niVciU",
        "outputId": "984cc60a-7306-4377-82ec-d9056309956b"
      },
      "execution_count": null,
      "outputs": [
        {
          "output_type": "stream",
          "name": "stdout",
          "text": [
            "10\n",
            "59\n",
            "-51\n",
            "100\n"
          ]
        }
      ]
    },
    {
      "cell_type": "code",
      "source": [
        "#Positive numbers\n",
        "num1=17\n",
        "num2=5\n",
        "result=num1//num2\n",
        "print(result)"
      ],
      "metadata": {
        "colab": {
          "base_uri": "https://localhost:8080/"
        },
        "id": "PrCVfQKaVcXH",
        "outputId": "1b36633c-81e1-45e6-ab10-92238e2409cb"
      },
      "execution_count": null,
      "outputs": [
        {
          "output_type": "stream",
          "name": "stdout",
          "text": [
            "3\n"
          ]
        }
      ]
    },
    {
      "cell_type": "code",
      "source": [
        "#Negative numbers\n",
        "val1=-87\n",
        "val2=7\n",
        "result=val1//val2\n",
        "print(result)"
      ],
      "metadata": {
        "colab": {
          "base_uri": "https://localhost:8080/"
        },
        "id": "RQ9CrAWTVcKx",
        "outputId": "979203b2-04d8-4b52-fa8d-add7c6939222"
      },
      "execution_count": null,
      "outputs": [
        {
          "output_type": "stream",
          "name": "stdout",
          "text": [
            "-13\n"
          ]
        }
      ]
    },
    {
      "cell_type": "code",
      "source": [
        "#Floating-point numbers\n",
        "A=27.5\n",
        "B=3.2\n",
        "result=A//B\n",
        "print(result)"
      ],
      "metadata": {
        "colab": {
          "base_uri": "https://localhost:8080/"
        },
        "id": "AfxwCbk1Vb8R",
        "outputId": "7494cdca-ce3b-437b-cb8a-fbc3d6dd3c61"
      },
      "execution_count": null,
      "outputs": [
        {
          "output_type": "stream",
          "name": "stdout",
          "text": [
            "8.0\n"
          ]
        }
      ]
    },
    {
      "cell_type": "markdown",
      "source": [
        "f)Exponentiation:It is used to raise the first operand to the power of the second.\n",
        "\n",
        "\n"
      ],
      "metadata": {
        "id": "FTFrPXFbZVfh"
      }
    },
    {
      "cell_type": "code",
      "source": [
        "base=2\n",
        "exponent=3\n",
        "result=base**exponent\n",
        "print(result)"
      ],
      "metadata": {
        "colab": {
          "base_uri": "https://localhost:8080/"
        },
        "id": "V1jguh3FZW0Z",
        "outputId": "9adadb47-51f8-43cb-9026-0d4416f6c485"
      },
      "execution_count": null,
      "outputs": [
        {
          "output_type": "stream",
          "name": "stdout",
          "text": [
            "8\n"
          ]
        }
      ]
    },
    {
      "cell_type": "code",
      "source": [
        "#Exponentiation\n",
        "x=89\n",
        "y=5\n",
        "z=x**y\n",
        "print(z)"
      ],
      "metadata": {
        "colab": {
          "base_uri": "https://localhost:8080/"
        },
        "id": "oNdzm20-ZX10",
        "outputId": "7d1ab8c7-5e1a-4118-eeb6-b90c64089b2f"
      },
      "execution_count": null,
      "outputs": [
        {
          "output_type": "stream",
          "name": "stdout",
          "text": [
            "5584059449\n"
          ]
        }
      ]
    },
    {
      "cell_type": "code",
      "source": [
        "x=24;y=13\n",
        "print(x**y)"
      ],
      "metadata": {
        "colab": {
          "base_uri": "https://localhost:8080/"
        },
        "id": "R1ywB1oyZXqc",
        "outputId": "e2996069-c3aa-44b1-b240-3c925dbabafd"
      },
      "execution_count": null,
      "outputs": [
        {
          "output_type": "stream",
          "name": "stdout",
          "text": [
            "876488338465357824\n"
          ]
        }
      ]
    },
    {
      "cell_type": "code",
      "source": [
        "print(11**5)"
      ],
      "metadata": {
        "colab": {
          "base_uri": "https://localhost:8080/"
        },
        "id": "ZBuH9Y8oZXfJ",
        "outputId": "326a7859-5574-49ce-9ba5-9b161ecb1e25"
      },
      "execution_count": null,
      "outputs": [
        {
          "output_type": "stream",
          "name": "stdout",
          "text": [
            "161051\n"
          ]
        }
      ]
    },
    {
      "cell_type": "code",
      "source": [
        "num1=12\n",
        "num2=6\n",
        "print(num1**num2)"
      ],
      "metadata": {
        "colab": {
          "base_uri": "https://localhost:8080/"
        },
        "id": "AblhciYUZXTA",
        "outputId": "80acb9f7-1220-489e-c680-4a33d7ed0dba"
      },
      "execution_count": null,
      "outputs": [
        {
          "output_type": "stream",
          "name": "stdout",
          "text": [
            "2985984\n"
          ]
        }
      ]
    },
    {
      "cell_type": "markdown",
      "source": [
        "g)Modulus:It is used to find the remainder when the first operand is divided by the second."
      ],
      "metadata": {
        "id": "E0-I3heodT3I"
      }
    },
    {
      "cell_type": "code",
      "source": [
        "number=17\n",
        "divisor=5\n",
        "remainder=number%divisor\n",
        "print(remainder)"
      ],
      "metadata": {
        "colab": {
          "base_uri": "https://localhost:8080/"
        },
        "id": "Ix0mXY2cdusZ",
        "outputId": "a73149e2-1d4e-4515-bef9-956fb8f33f28"
      },
      "execution_count": null,
      "outputs": [
        {
          "output_type": "stream",
          "name": "stdout",
          "text": [
            "2\n"
          ]
        }
      ]
    },
    {
      "cell_type": "code",
      "source": [
        "num1=30\n",
        "num2=29\n",
        "#using the modulus operator\n",
        "res=num1%num2\n",
        "print(res)"
      ],
      "metadata": {
        "colab": {
          "base_uri": "https://localhost:8080/"
        },
        "id": "jvx7fHuJdvyD",
        "outputId": "20365df4-e3a8-4f67-88cc-fc40f74bbb2a"
      },
      "execution_count": null,
      "outputs": [
        {
          "output_type": "stream",
          "name": "stdout",
          "text": [
            "1\n"
          ]
        }
      ]
    },
    {
      "cell_type": "code",
      "source": [
        "x=114;y=57\n",
        "print(x%y)"
      ],
      "metadata": {
        "colab": {
          "base_uri": "https://localhost:8080/"
        },
        "id": "vQWOLLr8dvny",
        "outputId": "6192b610-7e12-4076-8918-e419eda99213"
      },
      "execution_count": null,
      "outputs": [
        {
          "output_type": "stream",
          "name": "stdout",
          "text": [
            "0\n"
          ]
        }
      ]
    },
    {
      "cell_type": "code",
      "source": [
        "print(5%2)"
      ],
      "metadata": {
        "colab": {
          "base_uri": "https://localhost:8080/"
        },
        "id": "8zuLc7Ewdvcb",
        "outputId": "fbd875f9-d06a-43a1-ac85-27d39303e926"
      },
      "execution_count": null,
      "outputs": [
        {
          "output_type": "stream",
          "name": "stdout",
          "text": [
            "1\n"
          ]
        }
      ]
    },
    {
      "cell_type": "code",
      "source": [
        "x=56\n",
        "y=6\n",
        "print(x%y)"
      ],
      "metadata": {
        "colab": {
          "base_uri": "https://localhost:8080/"
        },
        "id": "n9FEFm-hdvQE",
        "outputId": "c0857f85-19b4-4fcc-be6f-0601d10b6ac4"
      },
      "execution_count": null,
      "outputs": [
        {
          "output_type": "stream",
          "name": "stdout",
          "text": [
            "2\n"
          ]
        }
      ]
    },
    {
      "cell_type": "markdown",
      "source": [
        "2)Assignment Operators(=):\n",
        " Assignment operators are used to assign values to variables.\n"
      ],
      "metadata": {
        "id": "NkR_qfqD02dn"
      }
    },
    {
      "cell_type": "markdown",
      "source": [
        "Examples:"
      ],
      "metadata": {
        "id": "lQ8A8gG91Q1E"
      }
    },
    {
      "cell_type": "code",
      "source": [
        "#Assigning values using\n",
        "#Assignment Operator\n",
        "a=53\n",
        "b=85\n",
        "c=a+b\n",
        "#Output\n",
        "print(c)\n",
        "\n"
      ],
      "metadata": {
        "colab": {
          "base_uri": "https://localhost:8080/"
        },
        "id": "wAPGKjpA1LA-",
        "outputId": "c5ea8891-b93b-43e1-e62f-762ea9cb80ac"
      },
      "execution_count": null,
      "outputs": [
        {
          "output_type": "stream",
          "name": "stdout",
          "text": [
            "138\n"
          ]
        }
      ]
    },
    {
      "cell_type": "code",
      "source": [
        "x=50\n",
        "y=36\n",
        "#Addition assignment\n",
        "x+=y\n",
        "#Equivalent to x=x+y\n",
        "print(x)\n",
        "\n",
        "#Subtraction assignment\n",
        "x-=y\n",
        "#Equivalent to x=x-y\n",
        "print(x)\n",
        "\n",
        "#Multiplication assignment\n",
        "x*=y\n",
        "#Equivalent to x=x*y\n",
        "print(x)\n",
        "\n",
        "#Division assignment\n",
        "x/=y\n",
        "#Equivalent to x=x/y\n",
        "print(x)\n",
        "\n",
        "#Floor division assignment\n",
        "x//=y\n",
        "#Equivalent to x=x//y\n",
        "print(x)\n",
        "\n",
        "#Modulus assignment\n",
        "x%=y\n",
        "#Equivalent to x=x% y\n",
        "print(x)\n",
        "\n",
        "#Exponentiation assignment\n",
        "x**=y\n",
        "#Equivalent to x=x**y\n",
        "print(x)"
      ],
      "metadata": {
        "colab": {
          "base_uri": "https://localhost:8080/"
        },
        "id": "Ot1FiUhVgWoj",
        "outputId": "d776996c-5b53-44f4-8ed8-76498b586a15"
      },
      "execution_count": null,
      "outputs": [
        {
          "output_type": "stream",
          "name": "stdout",
          "text": [
            "86\n",
            "50\n",
            "1800\n",
            "50.0\n",
            "1.0\n",
            "1.0\n",
            "1.0\n"
          ]
        }
      ]
    },
    {
      "cell_type": "code",
      "source": [
        "x = 105\n",
        "print(\"x=\",x)"
      ],
      "metadata": {
        "colab": {
          "base_uri": "https://localhost:8080/"
        },
        "id": "jC5azmcGgWct",
        "outputId": "531e1e25-fcaa-41ab-baa6-0990f811a2d5"
      },
      "execution_count": null,
      "outputs": [
        {
          "output_type": "stream",
          "name": "stdout",
          "text": [
            "x= 105\n"
          ]
        }
      ]
    },
    {
      "cell_type": "code",
      "source": [
        "x=25.56\n",
        "print(x)"
      ],
      "metadata": {
        "colab": {
          "base_uri": "https://localhost:8080/"
        },
        "id": "IcL7lOwjgWP5",
        "outputId": "e82bce6c-52ee-4257-df55-5d6e1e9ea138"
      },
      "execution_count": null,
      "outputs": [
        {
          "output_type": "stream",
          "name": "stdout",
          "text": [
            "25.56\n"
          ]
        }
      ]
    },
    {
      "cell_type": "code",
      "source": [
        "#Assigning multiple variables in one line\n",
        "a,b,c=19,22,33\n",
        "print(a)\n",
        "print(b)\n",
        "print(c)"
      ],
      "metadata": {
        "colab": {
          "base_uri": "https://localhost:8080/"
        },
        "id": "Z4wU2EX5gWBx",
        "outputId": "62254072-18ac-4b15-ac23-f184df58a4ad"
      },
      "execution_count": null,
      "outputs": [
        {
          "output_type": "stream",
          "name": "stdout",
          "text": [
            "19\n",
            "22\n",
            "33\n"
          ]
        }
      ]
    },
    {
      "cell_type": "markdown",
      "source": [
        "a)Addition Assignment Operator(+=):It is used to add the right-hand side operand with the left-hand side operand and then assigning the result to the left operand."
      ],
      "metadata": {
        "id": "oZhYQGidkbU6"
      }
    },
    {
      "cell_type": "markdown",
      "source": [
        "Examples:"
      ],
      "metadata": {
        "id": "z4WGQrRqlPva"
      }
    },
    {
      "cell_type": "code",
      "source": [
        "x=525\n",
        "x+=35\n",
        "#Equivalent to x=x+35\n",
        "print(x)"
      ],
      "metadata": {
        "colab": {
          "base_uri": "https://localhost:8080/"
        },
        "id": "Zv6m6E-YlTqZ",
        "outputId": "32f64276-114b-43e9-e441-4c8d2a48651e"
      },
      "execution_count": null,
      "outputs": [
        {
          "output_type": "stream",
          "name": "stdout",
          "text": [
            "560\n"
          ]
        }
      ]
    },
    {
      "cell_type": "code",
      "source": [
        "x=58\n",
        "x+=93\n",
        "print(x)\n"
      ],
      "metadata": {
        "colab": {
          "base_uri": "https://localhost:8080/"
        },
        "id": "QEAshzZelUt4",
        "outputId": "5f12a11f-5817-4d27-8e43-ebc7e23f588f"
      },
      "execution_count": null,
      "outputs": [
        {
          "output_type": "stream",
          "name": "stdout",
          "text": [
            "151\n"
          ]
        }
      ]
    },
    {
      "cell_type": "code",
      "source": [
        "#assign 10 to a\n",
        "a=104\n",
        "#assign 5 to b\n",
        "b=59\n",
        "#assign the sum of a and b to a\n",
        "a+=b #a=a+b\n",
        "print(a)"
      ],
      "metadata": {
        "colab": {
          "base_uri": "https://localhost:8080/"
        },
        "id": "_XKjqsZ1lUhx",
        "outputId": "8fb70361-45f7-4e45-da46-220172a1a782"
      },
      "execution_count": null,
      "outputs": [
        {
          "output_type": "stream",
          "name": "stdout",
          "text": [
            "163\n"
          ]
        }
      ]
    },
    {
      "cell_type": "code",
      "source": [
        "count=100\n",
        "count+=110\n",
        "#Equivalent to count=count+1\n",
        "print(count)"
      ],
      "metadata": {
        "colab": {
          "base_uri": "https://localhost:8080/"
        },
        "id": "zHNoe5ChlUV8",
        "outputId": "423b5bfb-07be-4b52-b9dc-c279b5f66d2a"
      },
      "execution_count": null,
      "outputs": [
        {
          "output_type": "stream",
          "name": "stdout",
          "text": [
            "210\n"
          ]
        }
      ]
    },
    {
      "cell_type": "code",
      "source": [
        "balance=108\n",
        "deposit=150\n",
        "balance+=deposit\n",
        "#Equivalent to balance=balance+deposit\n",
        "print(balance)"
      ],
      "metadata": {
        "colab": {
          "base_uri": "https://localhost:8080/"
        },
        "id": "idlHot8elOSI",
        "outputId": "a78b91de-4e03-4f25-a2b0-696a97430e9d"
      },
      "execution_count": null,
      "outputs": [
        {
          "output_type": "stream",
          "name": "stdout",
          "text": [
            "258\n"
          ]
        }
      ]
    },
    {
      "cell_type": "markdown",
      "source": [
        "b)Subtraction Assignment Operator(-=):It is used to subtract the right-hand side operand from the left-hand side operand and then assigning the result to the left-hand side operand.\n",
        "\n",
        "Examples:\n"
      ],
      "metadata": {
        "id": "3YP9eujcqZvH"
      }
    },
    {
      "cell_type": "code",
      "source": [
        "x=105\n",
        "y=38\n",
        "x-=y\n",
        "#Equivalent to x=x-y\n",
        "print(x)"
      ],
      "metadata": {
        "colab": {
          "base_uri": "https://localhost:8080/"
        },
        "id": "VepSV4bRqynv",
        "outputId": "0bbd21c4-353e-42f4-c78e-c64eadd31fae"
      },
      "execution_count": null,
      "outputs": [
        {
          "output_type": "stream",
          "name": "stdout",
          "text": [
            "67\n"
          ]
        }
      ]
    },
    {
      "cell_type": "code",
      "source": [
        "#assign 89 to a\n",
        "a=89\n",
        "#assign 78 to b\n",
        "b=78\n",
        "#assign the sum of a and b to a\n",
        "a-=b #a=a-b\n",
        "print(a)"
      ],
      "metadata": {
        "colab": {
          "base_uri": "https://localhost:8080/"
        },
        "id": "0doGs0k_qzej",
        "outputId": "76b8803e-96b6-472a-f3e4-1224f920dc7e"
      },
      "execution_count": null,
      "outputs": [
        {
          "output_type": "stream",
          "name": "stdout",
          "text": [
            "11\n"
          ]
        }
      ]
    },
    {
      "cell_type": "code",
      "source": [
        "x=67\n",
        "y=7\n",
        "x-=y\n",
        "print(x)"
      ],
      "metadata": {
        "colab": {
          "base_uri": "https://localhost:8080/"
        },
        "id": "fZmDYfdwqzVD",
        "outputId": "09c29c11-cb78-47f6-ee6c-99038b8e8474"
      },
      "execution_count": null,
      "outputs": [
        {
          "output_type": "stream",
          "name": "stdout",
          "text": [
            "60\n"
          ]
        }
      ]
    },
    {
      "cell_type": "code",
      "source": [
        "price=100\n",
        "discount=20\n",
        "price-=discount\n",
        "print(price)"
      ],
      "metadata": {
        "colab": {
          "base_uri": "https://localhost:8080/"
        },
        "id": "pp95LmNrqzL0",
        "outputId": "1298181c-ad5d-4180-ef8d-4fa9c9e4af06"
      },
      "execution_count": null,
      "outputs": [
        {
          "output_type": "stream",
          "name": "stdout",
          "text": [
            "80\n"
          ]
        }
      ]
    },
    {
      "cell_type": "code",
      "source": [
        "a=39\n",
        "b=15\n",
        "#a=a-b\n",
        "a-=b\n",
        "#Output\n",
        "print(a)"
      ],
      "metadata": {
        "colab": {
          "base_uri": "https://localhost:8080/"
        },
        "id": "6y4ZMiH2qy_0",
        "outputId": "de58edcd-6852-4861-b74a-8b7da9f1ca36"
      },
      "execution_count": null,
      "outputs": [
        {
          "output_type": "stream",
          "name": "stdout",
          "text": [
            "24\n"
          ]
        }
      ]
    },
    {
      "cell_type": "markdown",
      "source": [
        "C)Multiplication Assignment Operator(*=):It is used to multiply the right-hand side operand with the left-hand side operand and then assigning the result to the left-hand side operand.\n",
        "\n",
        "Examples:\n",
        "\n"
      ],
      "metadata": {
        "id": "Unjt9eentaaH"
      }
    },
    {
      "cell_type": "code",
      "source": [
        "x=57\n",
        "x*=63\n",
        "print(x)"
      ],
      "metadata": {
        "colab": {
          "base_uri": "https://localhost:8080/"
        },
        "id": "lGPSYCl9truY",
        "outputId": "8bf8d7be-961e-4124-aaab-19692c22f518"
      },
      "execution_count": null,
      "outputs": [
        {
          "output_type": "stream",
          "name": "stdout",
          "text": [
            "3591\n"
          ]
        }
      ]
    },
    {
      "cell_type": "code",
      "source": [
        "A=89\n",
        "A*=27\n",
        "#Equivalent to A=A*2\n",
        "print(A)"
      ],
      "metadata": {
        "colab": {
          "base_uri": "https://localhost:8080/"
        },
        "id": "AMNnefrNtsuz",
        "outputId": "8f5ced33-8889-4ab9-db02-6db8cfd3211c"
      },
      "execution_count": null,
      "outputs": [
        {
          "output_type": "stream",
          "name": "stdout",
          "text": [
            "2403\n"
          ]
        }
      ]
    },
    {
      "cell_type": "code",
      "source": [
        "length=5.8\n",
        "width =9.3\n",
        "area=length\n",
        "area*=width\n",
        "#Calculate area by multiplying length with width\n",
        "print(area)"
      ],
      "metadata": {
        "colab": {
          "base_uri": "https://localhost:8080/"
        },
        "id": "lsS9DXoetsky",
        "outputId": "9285ce8b-8176-4449-b922-4379c1c44481"
      },
      "execution_count": null,
      "outputs": [
        {
          "output_type": "stream",
          "name": "stdout",
          "text": [
            "53.940000000000005\n"
          ]
        }
      ]
    },
    {
      "cell_type": "code",
      "source": [
        "a=95\n",
        "b=15\n",
        "#a=a*b\n",
        "a*=b\n",
        "#Output\n",
        "print(a)"
      ],
      "metadata": {
        "colab": {
          "base_uri": "https://localhost:8080/"
        },
        "id": "Oysv-yxptsa4",
        "outputId": "1641da58-9cc4-4c02-fb4e-fc7179a8675d"
      },
      "execution_count": null,
      "outputs": [
        {
          "output_type": "stream",
          "name": "stdout",
          "text": [
            "1425\n"
          ]
        }
      ]
    },
    {
      "cell_type": "code",
      "source": [
        "number=10\n",
        "number*=20\n",
        "#Double the value of number\n",
        "print(number)"
      ],
      "metadata": {
        "colab": {
          "base_uri": "https://localhost:8080/"
        },
        "id": "FU9Wrsi1tsPK",
        "outputId": "aabbeeed-cc56-4288-bc3b-6e4be9e6abb9"
      },
      "execution_count": null,
      "outputs": [
        {
          "output_type": "stream",
          "name": "stdout",
          "text": [
            "200\n"
          ]
        }
      ]
    },
    {
      "cell_type": "markdown",
      "source": [
        "d)Division Assignment Operator(/=):It is used to divide the left-hand side operand with the right-hand side operand and then assigning the result to the left operand.\n",
        "\n",
        "Examples:"
      ],
      "metadata": {
        "id": "Ot_MFdsbwJF3"
      }
    },
    {
      "cell_type": "code",
      "source": [
        "x=100\n",
        "x/=4\n",
        "#Equivalent to x=x/4\n",
        "print(x)\n"
      ],
      "metadata": {
        "colab": {
          "base_uri": "https://localhost:8080/"
        },
        "id": "lSBVaYdCwrYw",
        "outputId": "5bac8e5a-f62c-47a7-c1dd-e1221f236f04"
      },
      "execution_count": null,
      "outputs": [
        {
          "output_type": "stream",
          "name": "stdout",
          "text": [
            "25.0\n"
          ]
        }
      ]
    },
    {
      "cell_type": "code",
      "source": [
        "y=15.5\n",
        "y/=2\n",
        "#Equivalent to y=y/2\n",
        "print(y)"
      ],
      "metadata": {
        "colab": {
          "base_uri": "https://localhost:8080/"
        },
        "id": "v1zRgEtlwsPs",
        "outputId": "7dd88d2f-4a9f-46a8-ef25-dac7c0ae6150"
      },
      "execution_count": null,
      "outputs": [
        {
          "output_type": "stream",
          "name": "stdout",
          "text": [
            "7.75\n"
          ]
        }
      ]
    },
    {
      "cell_type": "code",
      "source": [
        "num=1000\n",
        "divisor=20\n",
        "num/=divisor\n",
        "#Equivalent to num=num/divisor\n",
        "print(num)"
      ],
      "metadata": {
        "colab": {
          "base_uri": "https://localhost:8080/"
        },
        "id": "IFixx_RnwsEw",
        "outputId": "4349b5e0-8183-4df6-ff37-84bb8e699ab7"
      },
      "execution_count": null,
      "outputs": [
        {
          "output_type": "stream",
          "name": "stdout",
          "text": [
            "50.0\n"
          ]
        }
      ]
    },
    {
      "cell_type": "code",
      "source": [
        "x=50\n",
        "x/=35\n",
        "print(x)\n"
      ],
      "metadata": {
        "colab": {
          "base_uri": "https://localhost:8080/"
        },
        "id": "_OZ-20sgwr5S",
        "outputId": "83caaa98-d2cb-4425-fad6-020d606f52fd"
      },
      "execution_count": null,
      "outputs": [
        {
          "output_type": "stream",
          "name": "stdout",
          "text": [
            "1.4285714285714286\n"
          ]
        }
      ]
    },
    {
      "cell_type": "code",
      "source": [
        "z=-48\n",
        "z/=15\n",
        "#Equivalent to z=z/5\n",
        "print(z)"
      ],
      "metadata": {
        "colab": {
          "base_uri": "https://localhost:8080/"
        },
        "id": "-xmpyb0fwpCO",
        "outputId": "3a24398e-9237-41b9-e2ec-dc2aace0266d"
      },
      "execution_count": null,
      "outputs": [
        {
          "output_type": "stream",
          "name": "stdout",
          "text": [
            "-3.2\n"
          ]
        }
      ]
    },
    {
      "cell_type": "markdown",
      "source": [
        "E)Remainder Assignment Operator(%=):It is used to take the modulus, that is, it first divides the operands and then takes the remainder and assigns it to the left operand.\n",
        "\n",
        "Examples:"
      ],
      "metadata": {
        "id": "uGtHq1eI0BDm"
      }
    },
    {
      "cell_type": "code",
      "source": [
        "number=17\n",
        "divisor=5\n",
        "number %= divisor\n",
        "#Equivalent to number=number % divisor\n",
        "print(number)"
      ],
      "metadata": {
        "colab": {
          "base_uri": "https://localhost:8080/"
        },
        "id": "aogG76nK-wxh",
        "outputId": "6a9b9ec8-76a2-4a64-f7cf-675f3467d13e"
      },
      "execution_count": null,
      "outputs": [
        {
          "output_type": "stream",
          "name": "stdout",
          "text": [
            "2\n"
          ]
        }
      ]
    },
    {
      "cell_type": "code",
      "source": [
        "x=10\n",
        "x %= 3  #Equivalent to x = x % 3\n",
        "print(x)"
      ],
      "metadata": {
        "colab": {
          "base_uri": "https://localhost:8080/"
        },
        "id": "0WWPPGac-xgV",
        "outputId": "34e74416-b3bd-47cf-8060-b7ca3853510c"
      },
      "execution_count": null,
      "outputs": [
        {
          "output_type": "stream",
          "name": "stdout",
          "text": [
            "1\n"
          ]
        }
      ]
    },
    {
      "cell_type": "code",
      "source": [
        "a=3\n",
        "b=5\n",
        "#a = a % b\n",
        "a %= b\n",
        "# Output\n",
        "print(a)"
      ],
      "metadata": {
        "colab": {
          "base_uri": "https://localhost:8080/"
        },
        "id": "Fibf7O2r-yS8",
        "outputId": "fbbf9213-0dc0-4e38-bc88-0532a7155490"
      },
      "execution_count": null,
      "outputs": [
        {
          "output_type": "stream",
          "name": "stdout",
          "text": [
            "3\n"
          ]
        }
      ]
    },
    {
      "cell_type": "code",
      "source": [
        "x = 60\n",
        "x %= 3\n",
        "print(x)"
      ],
      "metadata": {
        "colab": {
          "base_uri": "https://localhost:8080/"
        },
        "id": "7EuNu3yQ-yJN",
        "outputId": "8da53fb0-02b0-44fc-e6f0-43e3cb901beb"
      },
      "execution_count": null,
      "outputs": [
        {
          "output_type": "stream",
          "name": "stdout",
          "text": [
            "0\n"
          ]
        }
      ]
    },
    {
      "cell_type": "code",
      "source": [
        "b = 25.55\n",
        "b %= 4.22\n",
        "#Equivalent to b = b % 4.2\n",
        "print(b)"
      ],
      "metadata": {
        "colab": {
          "base_uri": "https://localhost:8080/"
        },
        "id": "hSRxnm65-x9Y",
        "outputId": "544edccb-650e-4d6d-cc40-52739acd3a3e"
      },
      "execution_count": null,
      "outputs": [
        {
          "output_type": "stream",
          "name": "stdout",
          "text": [
            "0.2300000000000022\n"
          ]
        }
      ]
    },
    {
      "cell_type": "markdown",
      "source": [
        "f)Exponentiation Assignment Operator(**=):It is used to calculate the exponent(raise power) value using operands and then assigning the result to the left operand.\n",
        "\n",
        "Examples:\n"
      ],
      "metadata": {
        "id": "QUfJ4Z1sAh1z"
      }
    },
    {
      "cell_type": "code",
      "source": [
        "a = 75\n",
        "b = 8\n",
        "#a = a ** b\n",
        "a **= b\n",
        "#Output\n",
        "print(a)\n"
      ],
      "metadata": {
        "colab": {
          "base_uri": "https://localhost:8080/"
        },
        "id": "hc6HYXTaBEAX",
        "outputId": "5a619ea3-aab2-41e5-cb9b-9eca8a127ed9"
      },
      "execution_count": null,
      "outputs": [
        {
          "output_type": "stream",
          "name": "stdout",
          "text": [
            "1001129150390625\n"
          ]
        }
      ]
    },
    {
      "cell_type": "code",
      "source": [
        "x = 50\n",
        "x **= 3\n",
        "print(x)\n"
      ],
      "metadata": {
        "colab": {
          "base_uri": "https://localhost:8080/"
        },
        "id": "rjW7GkdEBD1K",
        "outputId": "8a893814-cd43-4b54-ac01-36a261a81ceb"
      },
      "execution_count": null,
      "outputs": [
        {
          "output_type": "stream",
          "name": "stdout",
          "text": [
            "125000\n"
          ]
        }
      ]
    },
    {
      "cell_type": "code",
      "source": [
        "base = 20\n",
        "exponent = 6\n",
        "base **= exponent\n",
        "print(base)"
      ],
      "metadata": {
        "colab": {
          "base_uri": "https://localhost:8080/"
        },
        "id": "onrE4DLOBDrA",
        "outputId": "22651c77-e1b0-4c57-c70d-774f4a5624b3"
      },
      "execution_count": null,
      "outputs": [
        {
          "output_type": "stream",
          "name": "stdout",
          "text": [
            "64000000\n"
          ]
        }
      ]
    },
    {
      "cell_type": "code",
      "source": [
        "z = 10\n",
        "z **=-1  #Equivalent to z = z **-1\n",
        "print(z)"
      ],
      "metadata": {
        "colab": {
          "base_uri": "https://localhost:8080/"
        },
        "id": "wT6TaVSDBDfI",
        "outputId": "121fc542-93dc-429f-c7f7-f179b0cfd5da"
      },
      "execution_count": null,
      "outputs": [
        {
          "output_type": "stream",
          "name": "stdout",
          "text": [
            "0.1\n"
          ]
        }
      ]
    },
    {
      "cell_type": "code",
      "source": [
        "#assign 98 to x\n",
        "x=18\n",
        "#assign 88 to y\n",
        "y=8\n",
        "#assign the sum of x and y to x\n",
        "x**=y #x=x**y\n",
        "print(x)"
      ],
      "metadata": {
        "colab": {
          "base_uri": "https://localhost:8080/"
        },
        "id": "u2WB6GTjAu1C",
        "outputId": "f3734e4f-e0da-41c0-eafc-6dc3299f8eea"
      },
      "execution_count": null,
      "outputs": [
        {
          "output_type": "stream",
          "name": "stdout",
          "text": [
            "11019960576\n"
          ]
        }
      ]
    },
    {
      "cell_type": "markdown",
      "source": [
        "3)Comparision Operators:They are used to compare the values of two operands and returns a boolean result. i.e.,True or False.\n",
        "\n",
        "Examples:"
      ],
      "metadata": {
        "id": "orxJpLg3uaUo"
      }
    },
    {
      "cell_type": "code",
      "source": [
        "#Equal to (==)\n",
        "x=25\n",
        "y=100\n",
        "print(x==y)"
      ],
      "metadata": {
        "colab": {
          "base_uri": "https://localhost:8080/"
        },
        "id": "CiyvzDTQvJmN",
        "outputId": "271611a5-0549-4bfa-e66e-3833295012bc"
      },
      "execution_count": null,
      "outputs": [
        {
          "output_type": "stream",
          "name": "stdout",
          "text": [
            "False\n"
          ]
        }
      ]
    },
    {
      "cell_type": "code",
      "source": [
        "#Not equal to (!=)\n",
        "a=\"hello\"\n",
        "b=\"world\"\n",
        "print(a!=b)"
      ],
      "metadata": {
        "colab": {
          "base_uri": "https://localhost:8080/"
        },
        "id": "Ywz6NlC5vKqk",
        "outputId": "4d4d4258-915b-4dd5-b6b7-38e4d2195eaa"
      },
      "execution_count": null,
      "outputs": [
        {
          "output_type": "stream",
          "name": "stdout",
          "text": [
            "True\n"
          ]
        }
      ]
    },
    {
      "cell_type": "code",
      "source": [
        "#Greater than(>)\n",
        "num1=56\n",
        "num2=84\n",
        "print(num1>num2)"
      ],
      "metadata": {
        "colab": {
          "base_uri": "https://localhost:8080/"
        },
        "id": "0kdcY3BIvKiG",
        "outputId": "7a79f6ab-693e-42f9-db21-32279d95529c"
      },
      "execution_count": null,
      "outputs": [
        {
          "output_type": "stream",
          "name": "stdout",
          "text": [
            "False\n"
          ]
        }
      ]
    },
    {
      "cell_type": "code",
      "source": [
        "#Less than(<)\n",
        "temp1=25\n",
        "temp2=30\n",
        "print(temp1<temp2)"
      ],
      "metadata": {
        "colab": {
          "base_uri": "https://localhost:8080/"
        },
        "id": "y31MTPE_vKYl",
        "outputId": "96974fe2-f83e-4726-b52b-c42c011dbb33"
      },
      "execution_count": null,
      "outputs": [
        {
          "output_type": "stream",
          "name": "stdout",
          "text": [
            "True\n"
          ]
        }
      ]
    },
    {
      "cell_type": "code",
      "source": [
        "print()\n",
        "a=76\n",
        "b=28\n",
        "#equal to operator\n",
        "print(\"a==b\",a==b)\n",
        "#not equal to operator\n",
        "print(\"a!=b\",a!=b)\n",
        "#greater than operator\n",
        "print(\"a>b\",a>b)\n",
        "#less than opeartor\n",
        "print(\"a<b\",a<b)\n",
        "#greater than or equal to operator\n",
        "print(\"a>=b\",a>=b)\n",
        "#less than or equal to operator\n",
        "print(\"a<=b\",a<=b)"
      ],
      "metadata": {
        "colab": {
          "base_uri": "https://localhost:8080/"
        },
        "id": "TfhhdDUFvKEa",
        "outputId": "e1fd1112-9e46-4ebe-83fd-b6919506444e"
      },
      "execution_count": null,
      "outputs": [
        {
          "output_type": "stream",
          "name": "stdout",
          "text": [
            "\n",
            "a==b False\n",
            "a!=b True\n",
            "a>b True\n",
            "a<b False\n",
            "a>=b True\n",
            "a<=b False\n"
          ]
        }
      ]
    },
    {
      "cell_type": "markdown",
      "source": [
        "a)Python Equality Operators(==):\n",
        "  The Equal to Operator is also known as the Equality Operator in Python.\n",
        "  It is used to check for equality.\n",
        "  It returns True if both the operands are equal. i.e.,if both the left and the right operands are equal to each other. Otherwise, it returns False."
      ],
      "metadata": {
        "id": "nzfzYj1jyqTE"
      }
    },
    {
      "cell_type": "markdown",
      "source": [
        "Examples:"
      ],
      "metadata": {
        "id": "-3v68O6TzNta"
      }
    },
    {
      "cell_type": "code",
      "source": [
        "x=78\n",
        "y=78\n",
        "print(x==y)\n"
      ],
      "metadata": {
        "colab": {
          "base_uri": "https://localhost:8080/"
        },
        "id": "YD6NEdduzLRW",
        "outputId": "07ed5989-29ef-42b9-ce20-0f777b34aad5"
      },
      "execution_count": null,
      "outputs": [
        {
          "output_type": "stream",
          "name": "stdout",
          "text": [
            "True\n"
          ]
        }
      ]
    },
    {
      "cell_type": "code",
      "source": [
        "flag1=True\n",
        "flag2=False\n",
        "print(flag1==flag2)"
      ],
      "metadata": {
        "colab": {
          "base_uri": "https://localhost:8080/"
        },
        "id": "BJ3I_xfszMVc",
        "outputId": "7f655c80-9303-4896-f040-73490df8fbe5"
      },
      "execution_count": null,
      "outputs": [
        {
          "output_type": "stream",
          "name": "stdout",
          "text": [
            "False\n"
          ]
        }
      ]
    },
    {
      "cell_type": "code",
      "source": [
        "#Check if two numbers are equal\n",
        "a=20\n",
        "b=20\n",
        "result=(a==b)\n",
        "print(result)"
      ],
      "metadata": {
        "colab": {
          "base_uri": "https://localhost:8080/"
        },
        "id": "PWJA0IxyzMLS",
        "outputId": "e006cf88-c397-4431-be9f-8dd2101dc036"
      },
      "execution_count": null,
      "outputs": [
        {
          "output_type": "stream",
          "name": "stdout",
          "text": [
            "True\n"
          ]
        }
      ]
    },
    {
      "cell_type": "code",
      "source": [
        "x=5\n",
        "y=3\n",
        "print(x==y)\n",
        "#returns False because 5 is not equal to 3"
      ],
      "metadata": {
        "colab": {
          "base_uri": "https://localhost:8080/"
        },
        "id": "OyCrWKGuzL-y",
        "outputId": "4ec333e6-acfd-4e19-daf6-b1689323176f"
      },
      "execution_count": null,
      "outputs": [
        {
          "output_type": "stream",
          "name": "stdout",
          "text": [
            "False\n"
          ]
        }
      ]
    },
    {
      "cell_type": "code",
      "source": [
        "x=34;y=34\n",
        "print(x==y)\n",
        "#returns true because 34 is equal to 34"
      ],
      "metadata": {
        "colab": {
          "base_uri": "https://localhost:8080/"
        },
        "id": "nIOtIJqezL0f",
        "outputId": "218f00a9-0026-4843-a791-4ec03a26e5af"
      },
      "execution_count": null,
      "outputs": [
        {
          "output_type": "stream",
          "name": "stdout",
          "text": [
            "True\n"
          ]
        }
      ]
    },
    {
      "cell_type": "markdown",
      "source": [
        "b)Python Inequality Operators(!=):The Not Equal To Operator returns True if both the operands are not equal and returns False if both the operands are equal.\n",
        "\n",
        "Examples:"
      ],
      "metadata": {
        "id": "MzX9r1-Z08th"
      }
    },
    {
      "cell_type": "code",
      "source": [
        "x=54\n",
        "y=27\n",
        "print(x!=y)"
      ],
      "metadata": {
        "colab": {
          "base_uri": "https://localhost:8080/"
        },
        "id": "gKYZG9El1H58",
        "outputId": "99e5d0e3-f3d5-4d00-c1cc-a849714dee32"
      },
      "execution_count": null,
      "outputs": [
        {
          "output_type": "stream",
          "name": "stdout",
          "text": [
            "True\n"
          ]
        }
      ]
    },
    {
      "cell_type": "code",
      "source": [
        "#Check if two numbers are not equal\n",
        "x=30\n",
        "y=25\n",
        "result=(x!=y)\n",
        "print(result)"
      ],
      "metadata": {
        "colab": {
          "base_uri": "https://localhost:8080/"
        },
        "id": "d_j7P2QO1HwK",
        "outputId": "a8dabed6-aa71-490b-9e96-e50b7c3fb112"
      },
      "execution_count": null,
      "outputs": [
        {
          "output_type": "stream",
          "name": "stdout",
          "text": [
            "True\n"
          ]
        }
      ]
    },
    {
      "cell_type": "code",
      "source": [
        "x=65\n",
        "y=35\n",
        "print(x!=y)\n",
        "#returns true because 65 is not equal to 35"
      ],
      "metadata": {
        "colab": {
          "base_uri": "https://localhost:8080/"
        },
        "id": "Klo01HbF1Hle",
        "outputId": "d6db9e52-5737-4098-f691-f7e2bb14f367"
      },
      "execution_count": null,
      "outputs": [
        {
          "output_type": "stream",
          "name": "stdout",
          "text": [
            "True\n"
          ]
        }
      ]
    },
    {
      "cell_type": "code",
      "source": [
        "#Not equal to (!=)\n",
        "a=\"hey\"\n",
        "b=\"hey\"\n",
        "print(a!=b)"
      ],
      "metadata": {
        "colab": {
          "base_uri": "https://localhost:8080/"
        },
        "id": "a90n4z581GqW",
        "outputId": "86427777-fff6-4471-a4f4-907a40980946"
      },
      "execution_count": null,
      "outputs": [
        {
          "output_type": "stream",
          "name": "stdout",
          "text": [
            "False\n"
          ]
        }
      ]
    },
    {
      "cell_type": "code",
      "source": [
        "a=9\n",
        "b=5\n",
        "c=9\n",
        "#Output\n",
        "print(a!=b)\n",
        "print(a!=c)\n"
      ],
      "metadata": {
        "colab": {
          "base_uri": "https://localhost:8080/"
        },
        "id": "iHGmEamf4Y10",
        "outputId": "7ccfdcba-4690-4131-bcff-0bf83c101901"
      },
      "execution_count": null,
      "outputs": [
        {
          "output_type": "stream",
          "name": "stdout",
          "text": [
            "True\n",
            "False\n"
          ]
        }
      ]
    },
    {
      "cell_type": "markdown",
      "source": [
        "c)Python Greater Than Operator(>):It returns True if the left operand is greater than the right operand otherwise returns False.\n",
        "\n",
        "Examples:"
      ],
      "metadata": {
        "id": "uwJaBOS24DaJ"
      }
    },
    {
      "cell_type": "code",
      "source": [
        "x=36\n",
        "y=35\n",
        "print(x>y)\n",
        "#returns True because 36 is greater than 35"
      ],
      "metadata": {
        "colab": {
          "base_uri": "https://localhost:8080/"
        },
        "id": "QTSmD25l41P4",
        "outputId": "7463d382-a8f8-4e54-84e5-9d100800a72b"
      },
      "execution_count": null,
      "outputs": [
        {
          "output_type": "stream",
          "name": "stdout",
          "text": [
            "True\n"
          ]
        }
      ]
    },
    {
      "cell_type": "code",
      "source": [
        "#Check if one number is greater than the other\n",
        "x=45\n",
        "y=110\n",
        "result=(x>y)\n",
        "print(result)"
      ],
      "metadata": {
        "colab": {
          "base_uri": "https://localhost:8080/"
        },
        "id": "XF2SHEKn42Ot",
        "outputId": "17ae23a0-34bc-4652-8f31-de5c7c744dcd"
      },
      "execution_count": null,
      "outputs": [
        {
          "output_type": "stream",
          "name": "stdout",
          "text": [
            "False\n"
          ]
        }
      ]
    },
    {
      "cell_type": "code",
      "source": [
        "c=204\n",
        "d=188\n",
        "print(c>d)"
      ],
      "metadata": {
        "colab": {
          "base_uri": "https://localhost:8080/"
        },
        "id": "3qjQHGxQ42Ca",
        "outputId": "91d295ed-3631-4dca-e5cf-c76cbb49e09b"
      },
      "execution_count": null,
      "outputs": [
        {
          "output_type": "stream",
          "name": "stdout",
          "text": [
            "True\n"
          ]
        }
      ]
    },
    {
      "cell_type": "code",
      "source": [
        "a=79\n",
        "b=58\n",
        "# Output\n",
        "print(a>b)\n",
        "print(b>a)"
      ],
      "metadata": {
        "colab": {
          "base_uri": "https://localhost:8080/"
        },
        "id": "RKKnTpG34123",
        "outputId": "0b2e1d2a-27f1-40f3-df29-f3ae3eccc79a"
      },
      "execution_count": null,
      "outputs": [
        {
          "output_type": "stream",
          "name": "stdout",
          "text": [
            "True\n",
            "False\n"
          ]
        }
      ]
    },
    {
      "cell_type": "code",
      "source": [
        "num1=25.87\n",
        "num2=20.89\n",
        "result=num1>num2\n",
        "print(result)"
      ],
      "metadata": {
        "colab": {
          "base_uri": "https://localhost:8080/"
        },
        "id": "pOpzD17c41ql",
        "outputId": "ffbe10e8-007c-47a6-d68d-b7cbd51da08c"
      },
      "execution_count": null,
      "outputs": [
        {
          "output_type": "stream",
          "name": "stdout",
          "text": [
            "True\n"
          ]
        }
      ]
    },
    {
      "cell_type": "markdown",
      "source": [
        "Python Less Than Operator(<):It returns True if the left operand is less than the right operand otherwise it returns False.\n",
        "\n",
        "Examples:"
      ],
      "metadata": {
        "id": "0Bk3clcA6amP"
      }
    },
    {
      "cell_type": "code",
      "source": [
        "x=86\n",
        "y=68\n",
        "print(x<y)\n",
        "#returns False because 86 is not less than 68"
      ],
      "metadata": {
        "colab": {
          "base_uri": "https://localhost:8080/"
        },
        "id": "NMh_Mskg6pC6",
        "outputId": "e1b7048c-6bef-4c92-9af4-7f05e722bf28"
      },
      "execution_count": null,
      "outputs": [
        {
          "output_type": "stream",
          "name": "stdout",
          "text": [
            "False\n"
          ]
        }
      ]
    },
    {
      "cell_type": "code",
      "source": [
        "a=96\n",
        "b=85\n",
        "#Output\n",
        "print(a<b)\n",
        "print(b<a)\n"
      ],
      "metadata": {
        "colab": {
          "base_uri": "https://localhost:8080/"
        },
        "id": "dOdUuCwu6qMk",
        "outputId": "e0f2da62-9bd4-42ab-8d6d-8c07be9957c5"
      },
      "execution_count": null,
      "outputs": [
        {
          "output_type": "stream",
          "name": "stdout",
          "text": [
            "False\n",
            "True\n"
          ]
        }
      ]
    },
    {
      "cell_type": "code",
      "source": [
        "x=98\n",
        "y=100\n",
        "print(x<y)"
      ],
      "metadata": {
        "colab": {
          "base_uri": "https://localhost:8080/"
        },
        "id": "lRcrNeFc6qBV",
        "outputId": "9b962e7f-d31a-48c0-b03f-da78954d3e71"
      },
      "execution_count": null,
      "outputs": [
        {
          "output_type": "stream",
          "name": "stdout",
          "text": [
            "True\n"
          ]
        }
      ]
    },
    {
      "cell_type": "code",
      "source": [
        "#Check if one number is less than the other\n",
        "num1=55\n",
        "num2=11\n",
        "result=(num1<num2)\n",
        "print(result)"
      ],
      "metadata": {
        "colab": {
          "base_uri": "https://localhost:8080/"
        },
        "id": "djhm2bdZ6p1Z",
        "outputId": "3ff528b1-24ea-4c4c-ba95-b4161dc6396d"
      },
      "execution_count": null,
      "outputs": [
        {
          "output_type": "stream",
          "name": "stdout",
          "text": [
            "False\n"
          ]
        }
      ]
    },
    {
      "cell_type": "code",
      "source": [
        "#Compare two floating-point numbers\n",
        "x=2.72\n",
        "y=3.75\n",
        "result=x<y\n",
        "print(result)"
      ],
      "metadata": {
        "colab": {
          "base_uri": "https://localhost:8080/"
        },
        "id": "p7SbBnql6pbs",
        "outputId": "8bedf03c-951e-41a3-c148-e5dc587f7bcd"
      },
      "execution_count": null,
      "outputs": [
        {
          "output_type": "stream",
          "name": "stdout",
          "text": [
            "True\n"
          ]
        }
      ]
    },
    {
      "cell_type": "markdown",
      "source": [
        "e)Python Greater than or equal to Operators(>=):It returns True if the left operand is greater than or equal to the right operand, else it will return False.\n",
        "\n",
        "Examples:"
      ],
      "metadata": {
        "id": "K7_IEF1G8Bqz"
      }
    },
    {
      "cell_type": "code",
      "source": [
        "#Compare two integers\n",
        "a=68\n",
        "b=65\n",
        "result= a>=b\n",
        "print(result)"
      ],
      "metadata": {
        "colab": {
          "base_uri": "https://localhost:8080/"
        },
        "id": "z_w_JZP48U2f",
        "outputId": "1eee5cb7-615b-4bc4-d409-0a854d6b5b4f"
      },
      "execution_count": null,
      "outputs": [
        {
          "output_type": "stream",
          "name": "stdout",
          "text": [
            "True\n"
          ]
        }
      ]
    },
    {
      "cell_type": "code",
      "source": [
        "#Compare two floating-point numbers\n",
        "x=4.5\n",
        "y=4.5\n",
        "result= x>=y\n",
        "print(result)"
      ],
      "metadata": {
        "colab": {
          "base_uri": "https://localhost:8080/"
        },
        "id": "yF5nLNjA8Vyg",
        "outputId": "6894319a-798a-41ab-9715-5e59a9800c30"
      },
      "execution_count": null,
      "outputs": [
        {
          "output_type": "stream",
          "name": "stdout",
          "text": [
            "True\n"
          ]
        }
      ]
    },
    {
      "cell_type": "code",
      "source": [
        "a=90\n",
        "b=50\n",
        "c=30\n",
        "#Output\n",
        "print(a>=b)\n",
        "print(a>=c)\n",
        "print(b>=a)"
      ],
      "metadata": {
        "colab": {
          "base_uri": "https://localhost:8080/"
        },
        "id": "Vy8Tgk1B8VW5",
        "outputId": "73f17b0f-f951-45ba-e56a-e83fe7f27611"
      },
      "execution_count": null,
      "outputs": [
        {
          "output_type": "stream",
          "name": "stdout",
          "text": [
            "True\n",
            "True\n",
            "False\n"
          ]
        }
      ]
    },
    {
      "cell_type": "code",
      "source": [
        "x=15\n",
        "y=36\n",
        "print(x>=y)\n",
        "#returns false because fifteen is lesser than 36"
      ],
      "metadata": {
        "colab": {
          "base_uri": "https://localhost:8080/"
        },
        "id": "DC6IZN0U8VDa",
        "outputId": "b877a2cb-52cc-437e-c681-eafe0c41e860"
      },
      "execution_count": null,
      "outputs": [
        {
          "output_type": "stream",
          "name": "stdout",
          "text": [
            "False\n"
          ]
        }
      ]
    },
    {
      "cell_type": "code",
      "source": [
        "a=79\n",
        "b=79\n",
        "print(a>=b)"
      ],
      "metadata": {
        "colab": {
          "base_uri": "https://localhost:8080/"
        },
        "id": "uwIRE5PU8BCI",
        "outputId": "8516ab79-cd08-4902-ab13-72398c3ed472"
      },
      "execution_count": null,
      "outputs": [
        {
          "output_type": "stream",
          "name": "stdout",
          "text": [
            "True\n"
          ]
        }
      ]
    },
    {
      "cell_type": "markdown",
      "source": [
        "f)Python less than or equal to operators(<=):It returns True if the left operand is less than or equal to the right operand.\n",
        "\n",
        "Examples:"
      ],
      "metadata": {
        "id": "RIowqV6f-Nhv"
      }
    },
    {
      "cell_type": "code",
      "source": [
        "c=-25\n",
        "d=-20\n",
        "print(c<=d)"
      ],
      "metadata": {
        "colab": {
          "base_uri": "https://localhost:8080/"
        },
        "id": "RtNluWKj-b2y",
        "outputId": "8f41c893-dcc4-4b16-9860-eae0c040d2d5"
      },
      "execution_count": null,
      "outputs": [
        {
          "output_type": "stream",
          "name": "stdout",
          "text": [
            "True\n"
          ]
        }
      ]
    },
    {
      "cell_type": "code",
      "source": [
        "#Compare two integers\n",
        "x=27\n",
        "y=97\n",
        "result=x<=y\n",
        "print(result)"
      ],
      "metadata": {
        "colab": {
          "base_uri": "https://localhost:8080/"
        },
        "id": "ECo2EafO-c65",
        "outputId": "e7547a9e-511c-41da-bf23-ef8859a2a946"
      },
      "execution_count": null,
      "outputs": [
        {
          "output_type": "stream",
          "name": "stdout",
          "text": [
            "True\n"
          ]
        }
      ]
    },
    {
      "cell_type": "code",
      "source": [
        "a=9\n",
        "b=5\n",
        "c=9\n",
        "#Output\n",
        "print(a<=b)\n",
        "print(a<=c)\n",
        "print(b<=a)"
      ],
      "metadata": {
        "colab": {
          "base_uri": "https://localhost:8080/"
        },
        "id": "VSfQ-dvr-cp-",
        "outputId": "162c692c-e688-4f77-ec95-05d0c969fd56"
      },
      "execution_count": null,
      "outputs": [
        {
          "output_type": "stream",
          "name": "stdout",
          "text": [
            "False\n",
            "True\n",
            "True\n"
          ]
        }
      ]
    },
    {
      "cell_type": "code",
      "source": [
        "x=50\n",
        "y=30\n",
        "print(x<=y)\n",
        "#returns False because 50 is neither less than or equal to 30"
      ],
      "metadata": {
        "colab": {
          "base_uri": "https://localhost:8080/"
        },
        "id": "g7EpxqmU-che",
        "outputId": "58b48439-2a11-4a61-e53f-73031bc2a69b"
      },
      "execution_count": null,
      "outputs": [
        {
          "output_type": "stream",
          "name": "stdout",
          "text": [
            "False\n"
          ]
        }
      ]
    },
    {
      "cell_type": "code",
      "source": [
        "a=46\n",
        "b=56\n",
        "#less than or equal to operator\n",
        "print('a<=b',a<=b)"
      ],
      "metadata": {
        "colab": {
          "base_uri": "https://localhost:8080/"
        },
        "id": "5i-Vt92_-cWa",
        "outputId": "f334a25d-26b7-4ef9-c408-78a429f75bc9"
      },
      "execution_count": null,
      "outputs": [
        {
          "output_type": "stream",
          "name": "stdout",
          "text": [
            "a<=b True\n"
          ]
        }
      ]
    },
    {
      "cell_type": "markdown",
      "source": [
        "4)Logical Opearators:Logical operators are used to check whether an expression is True or False. They are used in decision-making.\n",
        "\n",
        "Examples:"
      ],
      "metadata": {
        "id": "vZf-vhmjAGvh"
      }
    },
    {
      "cell_type": "code",
      "source": [
        "a=52\n",
        "b=6\n",
        "print((a>2) and (b>=6))    # True"
      ],
      "metadata": {
        "colab": {
          "base_uri": "https://localhost:8080/"
        },
        "id": "L83h3RRKAjtO",
        "outputId": "5254efef-882c-42fa-8d71-68780e647fe9"
      },
      "execution_count": null,
      "outputs": [
        {
          "output_type": "stream",
          "name": "stdout",
          "text": [
            "True\n"
          ]
        }
      ]
    },
    {
      "cell_type": "code",
      "source": [
        "temp=25\n",
        "is_sunny=True\n",
        "print(temp>20 and is_sunny)"
      ],
      "metadata": {
        "colab": {
          "base_uri": "https://localhost:8080/"
        },
        "id": "q0Q0jcoUAkq6",
        "outputId": "57849d55-5f24-4dfa-da11-000583999a5c"
      },
      "execution_count": null,
      "outputs": [
        {
          "output_type": "stream",
          "name": "stdout",
          "text": [
            "True\n"
          ]
        }
      ]
    },
    {
      "cell_type": "code",
      "source": [
        "#Check if both conditions are True\n",
        "a=52\n",
        "b=10\n",
        "result=(a<10) and (b>5)\n",
        "print(result)"
      ],
      "metadata": {
        "colab": {
          "base_uri": "https://localhost:8080/"
        },
        "id": "wB7u86UbAke7",
        "outputId": "7d5f9402-d521-496f-dc29-b8b6575c7928"
      },
      "execution_count": null,
      "outputs": [
        {
          "output_type": "stream",
          "name": "stdout",
          "text": [
            "False\n"
          ]
        }
      ]
    },
    {
      "cell_type": "code",
      "source": [
        "#Check if at least one condition is True\n",
        "x=14\n",
        "y=15\n",
        "result=(x>10) or (y>10)\n",
        "print(result)"
      ],
      "metadata": {
        "colab": {
          "base_uri": "https://localhost:8080/"
        },
        "id": "SBBczcrxAkRA",
        "outputId": "2491d413-51b0-4b74-bc0e-2ef75e5968a2"
      },
      "execution_count": null,
      "outputs": [
        {
          "output_type": "stream",
          "name": "stdout",
          "text": [
            "True\n"
          ]
        }
      ]
    },
    {
      "cell_type": "code",
      "source": [
        "x=True\n",
        "y=False\n",
        "print(x and y)"
      ],
      "metadata": {
        "colab": {
          "base_uri": "https://localhost:8080/"
        },
        "id": "E49Ws3LdAkGc",
        "outputId": "99765ea1-85a2-4339-f34f-b4fba35e60f5"
      },
      "execution_count": null,
      "outputs": [
        {
          "output_type": "stream",
          "name": "stdout",
          "text": [
            "False\n"
          ]
        }
      ]
    },
    {
      "cell_type": "markdown",
      "source": [
        "a)Logical AND Operator:It returns True if both the operands are True else it returns False.\n",
        "\n",
        "Examples:"
      ],
      "metadata": {
        "id": "N02MC6SrC5KN"
      }
    },
    {
      "cell_type": "code",
      "source": [
        "x=65\n",
        "y=75\n",
        "result=x>75 and y<65\n",
        "print(result)"
      ],
      "metadata": {
        "colab": {
          "base_uri": "https://localhost:8080/"
        },
        "id": "BZ7jySUjDW5A",
        "outputId": "71953a1d-a4e2-41c0-a184-4f95ab9b890e"
      },
      "execution_count": null,
      "outputs": [
        {
          "output_type": "stream",
          "name": "stdout",
          "text": [
            "False\n"
          ]
        }
      ]
    },
    {
      "cell_type": "code",
      "source": [
        "#Check if both conditions are True\n",
        "a=55\n",
        "b=110\n",
        "result=(a<b) and (b>a)\n",
        "print(result)"
      ],
      "metadata": {
        "colab": {
          "base_uri": "https://localhost:8080/"
        },
        "id": "hFlrtV2YDXwB",
        "outputId": "0aee477b-3a14-4308-dd25-5098353474d0"
      },
      "execution_count": null,
      "outputs": [
        {
          "output_type": "stream",
          "name": "stdout",
          "text": [
            "True\n"
          ]
        }
      ]
    },
    {
      "cell_type": "code",
      "source": [
        "x=5\n",
        "print(x>3 and x<10)\n",
        "#returns True because 5 is greater than 3 AND 5 is less than 10"
      ],
      "metadata": {
        "colab": {
          "base_uri": "https://localhost:8080/"
        },
        "id": "WvKPn0roDXkh",
        "outputId": "b7ad7ec3-584f-464a-db55-930ae8c2bd44"
      },
      "execution_count": null,
      "outputs": [
        {
          "output_type": "stream",
          "name": "stdout",
          "text": [
            "True\n"
          ]
        }
      ]
    },
    {
      "cell_type": "code",
      "source": [
        "#logical AND\n",
        "print(True and True)   # True\n",
        "print(True and False)  # False"
      ],
      "metadata": {
        "colab": {
          "base_uri": "https://localhost:8080/"
        },
        "id": "2OJlTZSsDXYN",
        "outputId": "55697e23-3ca1-4feb-b487-d2c6765eae5e"
      },
      "execution_count": null,
      "outputs": [
        {
          "output_type": "stream",
          "name": "stdout",
          "text": [
            "True\n",
            "False\n"
          ]
        }
      ]
    },
    {
      "cell_type": "code",
      "source": [
        "c=2\n",
        "d=12\n",
        "result=c>5 and d<10\n",
        "print(result)"
      ],
      "metadata": {
        "colab": {
          "base_uri": "https://localhost:8080/"
        },
        "id": "jLnwOVsrDXO6",
        "outputId": "085f4d4c-993e-4441-f9bd-9f2188eaf638"
      },
      "execution_count": null,
      "outputs": [
        {
          "output_type": "stream",
          "name": "stdout",
          "text": [
            "False\n"
          ]
        }
      ]
    },
    {
      "cell_type": "markdown",
      "source": [
        "b)Logical OR Operator:It returns True if either of the operands is True.\n",
        "\n",
        "Examples:\n",
        "\n"
      ],
      "metadata": {
        "id": "BMRXEVzNFF9-"
      }
    },
    {
      "cell_type": "code",
      "source": [
        "#Using OR operator\n",
        "a=34\n",
        "b=17\n",
        "print(a>17 or b<34)"
      ],
      "metadata": {
        "colab": {
          "base_uri": "https://localhost:8080/"
        },
        "id": "OLxyfwg1FgtR",
        "outputId": "8aeb16f9-ec86-4e9e-e348-8e72eed65437"
      },
      "execution_count": null,
      "outputs": [
        {
          "output_type": "stream",
          "name": "stdout",
          "text": [
            "True\n"
          ]
        }
      ]
    },
    {
      "cell_type": "code",
      "source": [
        "num1=10\n",
        "num2=50\n",
        "print(num1>8 or num2<10)"
      ],
      "metadata": {
        "colab": {
          "base_uri": "https://localhost:8080/"
        },
        "id": "44zeHqKsFhnn",
        "outputId": "5e17f61a-adb0-4544-c769-a60ac5f9d0a0"
      },
      "execution_count": null,
      "outputs": [
        {
          "output_type": "stream",
          "name": "stdout",
          "text": [
            "True\n"
          ]
        }
      ]
    },
    {
      "cell_type": "code",
      "source": [
        "c=False\n",
        "d=False\n",
        "print(c or d)"
      ],
      "metadata": {
        "colab": {
          "base_uri": "https://localhost:8080/"
        },
        "id": "vuNiniTwFhfB",
        "outputId": "4d105208-b1e2-4a46-ba87-8cbfc293c02b"
      },
      "execution_count": null,
      "outputs": [
        {
          "output_type": "stream",
          "name": "stdout",
          "text": [
            "False\n"
          ]
        }
      ]
    },
    {
      "cell_type": "code",
      "source": [
        "#logical OR\n",
        "print(True or False) # True"
      ],
      "metadata": {
        "colab": {
          "base_uri": "https://localhost:8080/"
        },
        "id": "pim0VwUGFhUV",
        "outputId": "0009a918-271d-44ce-befe-6cdd16969ce0"
      },
      "execution_count": null,
      "outputs": [
        {
          "output_type": "stream",
          "name": "stdout",
          "text": [
            "True\n"
          ]
        }
      ]
    },
    {
      "cell_type": "code",
      "source": [
        "#Check if at least one condition is True\n",
        "x=4\n",
        "y=15\n",
        "result=(x>10) or (y>10)\n",
        "print(result)"
      ],
      "metadata": {
        "colab": {
          "base_uri": "https://localhost:8080/"
        },
        "id": "zQWwFenpFhJp",
        "outputId": "bdbaeeb1-f584-4fc1-874a-eb2b75cfdc3a"
      },
      "execution_count": null,
      "outputs": [
        {
          "output_type": "stream",
          "name": "stdout",
          "text": [
            "True\n"
          ]
        }
      ]
    },
    {
      "cell_type": "markdown",
      "source": [
        "c)Logical NOT Operator:It works with a single boolean value. If the boolean value is True it returns False and vice-versa.\n",
        "\n",
        "Examples:"
      ],
      "metadata": {
        "id": "hD79R8ZRGqq4"
      }
    },
    {
      "cell_type": "code",
      "source": [
        "#Using NOT operator\n",
        "is_raining= True\n",
        "print(not is_raining)"
      ],
      "metadata": {
        "colab": {
          "base_uri": "https://localhost:8080/"
        },
        "id": "WoO9S_O7G5Kn",
        "outputId": "18b20769-86bf-4532-a115-410a9e1ecd24"
      },
      "execution_count": null,
      "outputs": [
        {
          "output_type": "stream",
          "name": "stdout",
          "text": [
            "False\n"
          ]
        }
      ]
    },
    {
      "cell_type": "code",
      "source": [
        "a=51\n",
        "b=10\n",
        "print(not(a>b))"
      ],
      "metadata": {
        "colab": {
          "base_uri": "https://localhost:8080/"
        },
        "id": "9zBHDzHKG5zR",
        "outputId": "8689a64f-803f-40c6-f0b3-c335e2bbb421"
      },
      "execution_count": null,
      "outputs": [
        {
          "output_type": "stream",
          "name": "stdout",
          "text": [
            "False\n"
          ]
        }
      ]
    },
    {
      "cell_type": "code",
      "source": [
        "#Negate the result of a condition\n",
        "z=20\n",
        "result=not(z<15)\n",
        "print(result)"
      ],
      "metadata": {
        "colab": {
          "base_uri": "https://localhost:8080/"
        },
        "id": "NAEjl8jIG5s9",
        "outputId": "87eef086-0ee9-4577-f02c-d9cf294107bf"
      },
      "execution_count": null,
      "outputs": [
        {
          "output_type": "stream",
          "name": "stdout",
          "text": [
            "True\n"
          ]
        }
      ]
    },
    {
      "cell_type": "code",
      "source": [
        "x=5\n",
        "print(not(x>3 and x<10))\n",
        "#returns False because not is used to reverse the result"
      ],
      "metadata": {
        "colab": {
          "base_uri": "https://localhost:8080/"
        },
        "id": "FC7Mtcb8G5mY",
        "outputId": "f114a602-f4d9-4400-bc61-11880479c31c"
      },
      "execution_count": null,
      "outputs": [
        {
          "output_type": "stream",
          "name": "stdout",
          "text": [
            "False\n"
          ]
        }
      ]
    },
    {
      "cell_type": "code",
      "source": [
        "c=True\n",
        "d=False\n",
        "print(not(c and d))"
      ],
      "metadata": {
        "colab": {
          "base_uri": "https://localhost:8080/"
        },
        "id": "xtR-EbzMG5fW",
        "outputId": "0541777a-3924-4d4d-867d-46e9eb9014ec"
      },
      "execution_count": null,
      "outputs": [
        {
          "output_type": "stream",
          "name": "stdout",
          "text": [
            "True\n"
          ]
        }
      ]
    },
    {
      "cell_type": "markdown",
      "source": [
        "5)Identity Operators:Identity operators are used to compare the objects, not if they are equal, but if they are actually the same object, with the same memory location.\n",
        "\n",
        "Examples:"
      ],
      "metadata": {
        "id": "vLXcOggII3Gw"
      }
    },
    {
      "cell_type": "code",
      "source": [
        "x=110\n",
        "y=110\n",
        "print(x is y)"
      ],
      "metadata": {
        "colab": {
          "base_uri": "https://localhost:8080/"
        },
        "id": "NQRKXN0jJPCR",
        "outputId": "3764ba10-8bab-44d7-8a08-e79c1250888d"
      },
      "execution_count": null,
      "outputs": [
        {
          "output_type": "stream",
          "name": "stdout",
          "text": [
            "True\n"
          ]
        }
      ]
    },
    {
      "cell_type": "code",
      "source": [
        "#Check if a variable is not None\n",
        "x=None\n",
        "y=5\n",
        "result=x is not y\n",
        "print(result)"
      ],
      "metadata": {
        "colab": {
          "base_uri": "https://localhost:8080/"
        },
        "id": "Lj2HTpkAJP4c",
        "outputId": "148eeaed-9917-4a24-e358-61480c68367e"
      },
      "execution_count": null,
      "outputs": [
        {
          "output_type": "stream",
          "name": "stdout",
          "text": [
            "True\n"
          ]
        }
      ]
    },
    {
      "cell_type": "code",
      "source": [
        "#Check if a variable is True\n",
        "flag=True\n",
        "result=flag is True\n",
        "print(result)"
      ],
      "metadata": {
        "colab": {
          "base_uri": "https://localhost:8080/"
        },
        "id": "aWFn9TAaJPxR",
        "outputId": "f98392b6-363b-4472-f9ae-f0771f5dcef3"
      },
      "execution_count": null,
      "outputs": [
        {
          "output_type": "stream",
          "name": "stdout",
          "text": [
            "True\n"
          ]
        }
      ]
    },
    {
      "cell_type": "code",
      "source": [
        "x=\"hello\"\n",
        "y=\"hello\"\n",
        "print(x is not y)\n"
      ],
      "metadata": {
        "colab": {
          "base_uri": "https://localhost:8080/"
        },
        "id": "-BN6AMYkJPmE",
        "outputId": "82d4d832-2a38-4fe3-a860-6efc0ba26085"
      },
      "execution_count": null,
      "outputs": [
        {
          "output_type": "stream",
          "name": "stdout",
          "text": [
            "False\n"
          ]
        }
      ]
    },
    {
      "cell_type": "code",
      "source": [
        "x1 = 5\n",
        "y1 = 5\n",
        "x2 = 'Hello'\n",
        "y2 = 'Hello'\n",
        "x3 = [1,2,3]\n",
        "y3 = [1,2,3]\n",
        "print(x1 is not y1)  #prints False\n",
        "print(x2 is y2)  #prints True\n",
        "print(x3 is y3)  #prints False"
      ],
      "metadata": {
        "colab": {
          "base_uri": "https://localhost:8080/"
        },
        "id": "mCq3yKBtJPcU",
        "outputId": "1a4c154e-006e-4390-e41b-5dca28686dd2"
      },
      "execution_count": null,
      "outputs": [
        {
          "output_type": "stream",
          "name": "stdout",
          "text": [
            "False\n",
            "True\n",
            "False\n"
          ]
        }
      ]
    },
    {
      "cell_type": "markdown",
      "source": [
        "a)is operator:It evaluates to True if the variables on either side of the operator point to the same object in the memory and false otherwise.\n",
        "\n",
        "Examples:"
      ],
      "metadata": {
        "id": "hMP5EBBOLX4L"
      }
    },
    {
      "cell_type": "code",
      "source": [
        "x=None\n",
        "y=None\n",
        "print(x is y)"
      ],
      "metadata": {
        "colab": {
          "base_uri": "https://localhost:8080/"
        },
        "id": "gACJoVv3Lycj",
        "outputId": "c847dca8-83fb-4d6b-f357-a6f314acb341"
      },
      "execution_count": null,
      "outputs": [
        {
          "output_type": "stream",
          "name": "stdout",
          "text": [
            "True\n"
          ]
        }
      ]
    },
    {
      "cell_type": "code",
      "source": [
        "#Check if two integer variables point to the same object\n",
        "a=345\n",
        "b=445\n",
        "result=a is b\n",
        "print(result)"
      ],
      "metadata": {
        "colab": {
          "base_uri": "https://localhost:8080/"
        },
        "id": "sgmbiJuELzmI",
        "outputId": "2d52b8bd-cbfb-4fd3-8b35-92d0b86e223a"
      },
      "execution_count": null,
      "outputs": [
        {
          "output_type": "stream",
          "name": "stdout",
          "text": [
            "False\n"
          ]
        }
      ]
    },
    {
      "cell_type": "code",
      "source": [
        "#Check if a variable is None\n",
        "z=None\n",
        "result=z is None\n",
        "print(result)"
      ],
      "metadata": {
        "colab": {
          "base_uri": "https://localhost:8080/"
        },
        "id": "ySExwxQhLzcG",
        "outputId": "f065fd76-d127-4399-e1ed-634f937009b7"
      },
      "execution_count": null,
      "outputs": [
        {
          "output_type": "stream",
          "name": "stdout",
          "text": [
            "True\n"
          ]
        }
      ]
    },
    {
      "cell_type": "code",
      "source": [
        "A='Hello'\n",
        "B='Hello'\n",
        "C=[1,2,3]\n",
        "D=[1,2,3]\n",
        "print(A is B) # prints True\n",
        "print(C is D) # prints False"
      ],
      "metadata": {
        "colab": {
          "base_uri": "https://localhost:8080/"
        },
        "id": "dsPSgSRELzRT",
        "outputId": "fcdae5ed-8b94-43c6-98ee-1af147d07c60"
      },
      "execution_count": null,
      "outputs": [
        {
          "output_type": "stream",
          "name": "stdout",
          "text": [
            "True\n",
            "False\n"
          ]
        }
      ]
    },
    {
      "cell_type": "code",
      "source": [
        "x = [\"apple\", \"banana\"]\n",
        "y = [\"apple\", \"banana\"]\n",
        "z = x\n",
        "print(x is z)\n",
        "print(x is y)\n",
        "print(x == y)"
      ],
      "metadata": {
        "colab": {
          "base_uri": "https://localhost:8080/"
        },
        "id": "fUmXk0TgLzEi",
        "outputId": "7709826c-cd93-41a5-8882-64b902046d34"
      },
      "execution_count": null,
      "outputs": [
        {
          "output_type": "stream",
          "name": "stdout",
          "text": [
            "True\n",
            "False\n",
            "True\n"
          ]
        }
      ]
    },
    {
      "cell_type": "markdown",
      "source": [
        "b)is not operator:It evaluates True if both variables on the either side of the operator are not the same object in the memory location otherwise it evaluates False.\n",
        "\n",
        "Examples:"
      ],
      "metadata": {
        "id": "xvkvVRnWN3ra"
      }
    },
    {
      "cell_type": "code",
      "source": [
        "x=100\n",
        "y=200\n",
        "print(x is not y)"
      ],
      "metadata": {
        "colab": {
          "base_uri": "https://localhost:8080/"
        },
        "id": "vrVdPyeQOL37",
        "outputId": "e6118a9b-eb69-4281-c65f-4ac413753813"
      },
      "execution_count": null,
      "outputs": [
        {
          "output_type": "stream",
          "name": "stdout",
          "text": [
            "True\n"
          ]
        }
      ]
    },
    {
      "cell_type": "code",
      "source": [
        "#Check if two integer variables do not point to the same object\n",
        "a=200\n",
        "b=2000\n",
        "result=a is not b\n",
        "print(result)"
      ],
      "metadata": {
        "colab": {
          "base_uri": "https://localhost:8080/"
        },
        "id": "QGw0lD9VOMx3",
        "outputId": "8d2c110e-e489-4472-98cc-11d8aaa4978e"
      },
      "execution_count": null,
      "outputs": [
        {
          "output_type": "stream",
          "name": "stdout",
          "text": [
            "True\n"
          ]
        }
      ]
    },
    {
      "cell_type": "code",
      "source": [
        "x1=58\n",
        "y1=58\n",
        "print(x1 is not y1) #prints False"
      ],
      "metadata": {
        "colab": {
          "base_uri": "https://localhost:8080/"
        },
        "id": "qaNjA11NOMn_",
        "outputId": "6d28a5cf-88d9-4697-ddd0-3448782b8976"
      },
      "execution_count": null,
      "outputs": [
        {
          "output_type": "stream",
          "name": "stdout",
          "text": [
            "False\n"
          ]
        }
      ]
    },
    {
      "cell_type": "code",
      "source": [
        "list3=[4, 5, 6]\n",
        "list4=list3\n",
        "print(list3 is not list4)"
      ],
      "metadata": {
        "colab": {
          "base_uri": "https://localhost:8080/"
        },
        "id": "Ub4HjbVLOMew",
        "outputId": "ebca9039-2a5a-43e1-899f-a0a86406236f"
      },
      "execution_count": null,
      "outputs": [
        {
          "output_type": "stream",
          "name": "stdout",
          "text": [
            "False\n"
          ]
        }
      ]
    },
    {
      "cell_type": "code",
      "source": [
        "x1=50;y1=56\n",
        "x2='hai';y2='hai'\n",
        "print(x1 is y1)\n",
        "print(x2 is y2)"
      ],
      "metadata": {
        "colab": {
          "base_uri": "https://localhost:8080/"
        },
        "id": "TfS-RktvOMTK",
        "outputId": "88fc7d1c-77c0-4b34-cfe0-e5ddec3af0d9"
      },
      "execution_count": null,
      "outputs": [
        {
          "output_type": "stream",
          "name": "stdout",
          "text": [
            "False\n",
            "True\n"
          ]
        }
      ]
    },
    {
      "cell_type": "markdown",
      "source": [
        "6)Membership Operators:Python membership operators test for the membership of an object in a sequence, such as strings, lists, or tuples.\n",
        "\n",
        "Examples:"
      ],
      "metadata": {
        "id": "sBlkb3IpQkRr"
      }
    },
    {
      "cell_type": "code",
      "source": [
        "message='Hello world'\n",
        "dict1={1:'a', 2:'b'}\n",
        "#check if 'H' is present in message string\n",
        "print('H' in message)  #prints True\n",
        "\n",
        "#check if 'hello' is present in message string\n",
        "print('hello' not in message) # prints True\n",
        "\n",
        "#check if '1' key is present in dict1\n",
        "print(1 in dict1) # prints True\n",
        "\n",
        "#check if 'a' key is present in dict1\n",
        "print('a' in dict1) #prints False"
      ],
      "metadata": {
        "colab": {
          "base_uri": "https://localhost:8080/"
        },
        "id": "5NHPUdivQ9H7",
        "outputId": "f0bca2e3-90e9-42e2-b5e9-96499ba77868"
      },
      "execution_count": null,
      "outputs": [
        {
          "output_type": "stream",
          "name": "stdout",
          "text": [
            "True\n",
            "True\n",
            "True\n",
            "False\n"
          ]
        }
      ]
    },
    {
      "cell_type": "code",
      "source": [
        "#Check if an element is in a list\n",
        "fruits=[\"apple\", \"banana\", \"cherry\"]\n",
        "result=\"banana\" in fruits\n",
        "print(result)"
      ],
      "metadata": {
        "colab": {
          "base_uri": "https://localhost:8080/"
        },
        "id": "TXYH6MFuQ9uR",
        "outputId": "af7a7f5c-05fa-47c0-91df-220e67bfab09"
      },
      "execution_count": null,
      "outputs": [
        {
          "output_type": "stream",
          "name": "stdout",
          "text": [
            "True\n"
          ]
        }
      ]
    },
    {
      "cell_type": "code",
      "source": [
        "#Check if an element is not in a list\n",
        "numbers=[1, 2, 3, 4, 5]\n",
        "result=6 not in numbers\n",
        "print(result)"
      ],
      "metadata": {
        "colab": {
          "base_uri": "https://localhost:8080/"
        },
        "id": "HflDWXqFQ9qM",
        "outputId": "db0bdf36-c0ff-4760-d47e-df804920f4e6"
      },
      "execution_count": null,
      "outputs": [
        {
          "output_type": "stream",
          "name": "stdout",
          "text": [
            "True\n"
          ]
        }
      ]
    },
    {
      "cell_type": "code",
      "source": [
        "my_tuple=(6, 7, 8, 9)\n",
        "y=7\n",
        "print(y in my_tuple)"
      ],
      "metadata": {
        "colab": {
          "base_uri": "https://localhost:8080/"
        },
        "id": "xbYUNSkOQ9lx",
        "outputId": "26b4f345-e5f7-462d-a299-0f5ac146e507"
      },
      "execution_count": null,
      "outputs": [
        {
          "output_type": "stream",
          "name": "stdout",
          "text": [
            "True\n"
          ]
        }
      ]
    },
    {
      "cell_type": "code",
      "source": [
        "my_dict={\"name\": \"Alice\", \"age\": 30}\n",
        "key =\"age\"\n",
        "print(key in my_dict)"
      ],
      "metadata": {
        "colab": {
          "base_uri": "https://localhost:8080/"
        },
        "id": "hn1h8G-WQ9ed",
        "outputId": "53559d15-737f-440c-8e50-a628f4aa10ee"
      },
      "execution_count": null,
      "outputs": [
        {
          "output_type": "stream",
          "name": "stdout",
          "text": [
            "True\n"
          ]
        }
      ]
    },
    {
      "cell_type": "markdown",
      "source": [
        "a)in Operator:The in operator is used to check if a character/substring/element exists in a sequence or not. Evaluate to True if it finds the specified element in a sequence otherwise False.\n",
        "\n",
        "Examples:\n",
        "  "
      ],
      "metadata": {
        "id": "Gd26il3jS3nV"
      }
    },
    {
      "cell_type": "code",
      "source": [
        "my_string=\"python programming\"\n",
        "substring=\"python\"\n",
        "print(substring in my_string)"
      ],
      "metadata": {
        "colab": {
          "base_uri": "https://localhost:8080/"
        },
        "id": "ZzfArh0fTNyI",
        "outputId": "280d7d1f-13ec-4937-e3f1-feabd0e49c6a"
      },
      "execution_count": null,
      "outputs": [
        {
          "output_type": "stream",
          "name": "stdout",
          "text": [
            "True\n"
          ]
        }
      ]
    },
    {
      "cell_type": "code",
      "source": [
        "#Check if an element is in a tuple\n",
        "numbers=(1, 2, 3, 4, 5)\n",
        "result=6 in numbers\n",
        "print(result)"
      ],
      "metadata": {
        "colab": {
          "base_uri": "https://localhost:8080/"
        },
        "id": "ezM0s0vtTOnv",
        "outputId": "b58dfed0-306c-4cce-af2d-bdc0aac6aba2"
      },
      "execution_count": null,
      "outputs": [
        {
          "output_type": "stream",
          "name": "stdout",
          "text": [
            "False\n"
          ]
        }
      ]
    },
    {
      "cell_type": "code",
      "source": [
        "#Check if an element is in a set\n",
        "colors={'red', 'green', 'blue'}\n",
        "result='green' in colors\n",
        "print(result)"
      ],
      "metadata": {
        "colab": {
          "base_uri": "https://localhost:8080/"
        },
        "id": "r-Vyhg1CTONZ",
        "outputId": "66c8e113-ac93-4c79-b75d-793d02bbbbc9"
      },
      "execution_count": null,
      "outputs": [
        {
          "output_type": "stream",
          "name": "stdout",
          "text": [
            "True\n"
          ]
        }
      ]
    },
    {
      "cell_type": "code",
      "source": [
        "my_string=\"hello world\"\n",
        "#Checking for substring\n",
        "print(\"hello\" in my_string)"
      ],
      "metadata": {
        "colab": {
          "base_uri": "https://localhost:8080/"
        },
        "id": "oXHFsMHZTOI-",
        "outputId": "124d3348-7a10-4f76-c2d6-cf30deacd84e"
      },
      "execution_count": null,
      "outputs": [
        {
          "output_type": "stream",
          "name": "stdout",
          "text": [
            "True\n"
          ]
        }
      ]
    },
    {
      "cell_type": "code",
      "source": [
        "my_tuple=(10,20,30)\n",
        "#Checking for element\n",
        "print((50) in my_tuple)"
      ],
      "metadata": {
        "colab": {
          "base_uri": "https://localhost:8080/"
        },
        "id": "XFFJiFdJTOEC",
        "outputId": "de5a26c9-99d4-4228-e3bc-b2cbbada60a2"
      },
      "execution_count": null,
      "outputs": [
        {
          "output_type": "stream",
          "name": "stdout",
          "text": [
            "False\n"
          ]
        }
      ]
    },
    {
      "cell_type": "markdown",
      "source": [
        "b)not in:The ‘not in’ Python operator evaluates to true if it does not find the variable in the specified sequence and false otherwise.\n",
        "\n",
        "Examples:"
      ],
      "metadata": {
        "id": "nGVk8vkaU0WG"
      }
    },
    {
      "cell_type": "code",
      "source": [
        "x=[\"apple\",\"banana\"]\n",
        "print(\"pineapple\" not in x)"
      ],
      "metadata": {
        "colab": {
          "base_uri": "https://localhost:8080/"
        },
        "id": "yPtjMHF2VL3I",
        "outputId": "862c7e79-7626-4346-e53d-08b9df467407"
      },
      "execution_count": null,
      "outputs": [
        {
          "output_type": "stream",
          "name": "stdout",
          "text": [
            "True\n"
          ]
        }
      ]
    },
    {
      "cell_type": "code",
      "source": [
        "num1 = 5\n",
        "num2 = 5\n",
        "lst1 = [1, 2, 3]\n",
        "lst2 = [1, 2, 3]\n",
        "print(num1 is not num2)\n",
        "print(lst1 is not lst2)"
      ],
      "metadata": {
        "colab": {
          "base_uri": "https://localhost:8080/"
        },
        "id": "LeV4KT3bVMaP",
        "outputId": "10936ded-0e98-4ec4-b406-8822e9ac1802"
      },
      "execution_count": null,
      "outputs": [
        {
          "output_type": "stream",
          "name": "stdout",
          "text": [
            "False\n",
            "True\n"
          ]
        }
      ]
    },
    {
      "cell_type": "code",
      "source": [
        "#Checking for a number in a list\n",
        "numbers = [1, 2, 3, 4, 5]\n",
        "print(7 not in numbers)"
      ],
      "metadata": {
        "colab": {
          "base_uri": "https://localhost:8080/"
        },
        "id": "CoTYZRiPVMVQ",
        "outputId": "ce89915a-1dd6-409f-d3b4-61eef0daa0cc"
      },
      "execution_count": null,
      "outputs": [
        {
          "output_type": "stream",
          "name": "stdout",
          "text": [
            "True\n"
          ]
        }
      ]
    },
    {
      "cell_type": "code",
      "source": [
        "#Check if a substring is not in a string\n",
        "sentence=\"Hello,world!\"\n",
        "result=\"world\" not in sentence\n",
        "print(result)"
      ],
      "metadata": {
        "colab": {
          "base_uri": "https://localhost:8080/"
        },
        "id": "vffibiahVMRo",
        "outputId": "187cdc55-8a88-408f-e743-d451c9468ad4"
      },
      "execution_count": null,
      "outputs": [
        {
          "output_type": "stream",
          "name": "stdout",
          "text": [
            "False\n"
          ]
        }
      ]
    },
    {
      "cell_type": "code",
      "source": [
        "#Check if an element is not in a set\n",
        "numbers_set={10, 20, 30}\n",
        "result=25 not in numbers_set\n",
        "print(result)"
      ],
      "metadata": {
        "colab": {
          "base_uri": "https://localhost:8080/"
        },
        "id": "sxaEfioGVMNW",
        "outputId": "790aa71f-ae44-40ed-bf23-6f424085e6b0"
      },
      "execution_count": null,
      "outputs": [
        {
          "output_type": "stream",
          "name": "stdout",
          "text": [
            "True\n"
          ]
        }
      ]
    },
    {
      "cell_type": "markdown",
      "source": [
        "7)Bitwise Operators:\n",
        "  Python bitwise operators are used to perform bitwise calculations on integers.\n",
        "  The integers are first converted into binary and then operations are performed on each bit or corresponding pair of bits, hence the name bitwise operators.\n",
        "  The result is then returned in decimal format.\n",
        "\n",
        "  Examples:"
      ],
      "metadata": {
        "id": "zMN9qSaLWYyG"
      }
    },
    {
      "cell_type": "code",
      "source": [
        "x=1\n",
        "y=0\n",
        "result=x & y #Bitwise AND\n",
        "print(bool(result))"
      ],
      "metadata": {
        "colab": {
          "base_uri": "https://localhost:8080/"
        },
        "id": "Cc0NaGgrX9_y",
        "outputId": "24763d0f-ea02-413c-8e65-8f0a2743275e"
      },
      "execution_count": null,
      "outputs": [
        {
          "output_type": "stream",
          "name": "stdout",
          "text": [
            "False\n"
          ]
        }
      ]
    },
    {
      "cell_type": "markdown",
      "source": [
        "a)Bitwise AND(&):Python Bitwise AND (&) operator takes two equal-length bit patterns as parameters. The two-bit integers are compared. If the bits in the compared positions of the bit patterns are 1, then the resulting bit is 1. If not, it is 0.\n",
        "  "
      ],
      "metadata": {
        "id": "j41upauQZOdt"
      }
    },
    {
      "cell_type": "code",
      "source": [
        "a=10\n",
        "b=4\n",
        "#Print bitwise AND operation\n",
        "print(\"a&b=\",a & b)\n"
      ],
      "metadata": {
        "colab": {
          "base_uri": "https://localhost:8080/"
        },
        "id": "97pk0SzpX91g",
        "outputId": "db30059c-19a2-482f-e141-435f2ff7e419"
      },
      "execution_count": null,
      "outputs": [
        {
          "output_type": "stream",
          "name": "stdout",
          "text": [
            "a&b= 0\n"
          ]
        }
      ]
    },
    {
      "cell_type": "markdown",
      "source": [
        "b)Bitwise OR(/):Python Bitwise OR (|) Operator takes two equivalent length bit designs as boundaries; if the two bits in the looked-at position are 0, the next bit is zero. If not, it is 1.\n",
        "\n",
        "Examples:"
      ],
      "metadata": {
        "id": "MH_n1cTkZvxw"
      }
    },
    {
      "cell_type": "code",
      "source": [
        "x=67\n",
        "y=32\n",
        "#Print bitwise OR operation\n",
        "print(\"a|b=\",a|b)\n"
      ],
      "metadata": {
        "colab": {
          "base_uri": "https://localhost:8080/"
        },
        "id": "-2fjmcdyX9r3",
        "outputId": "ccb75946-01d9-429f-ab6f-363ddf558133"
      },
      "execution_count": null,
      "outputs": [
        {
          "output_type": "stream",
          "name": "stdout",
          "text": [
            "a|b= 14\n"
          ]
        }
      ]
    },
    {
      "cell_type": "markdown",
      "source": [
        "c)Bitwise XOR(^): Python Bitwise XOR (^) Operator also known as the exclusive OR operator, is used to perform the XOR operation on two operands. XOR stands for “exclusive or”, and it returns true if and only if exactly one of the operands is true\n",
        "\n",
        "Examples:"
      ],
      "metadata": {
        "id": "E8emPvlRaGbn"
      }
    },
    {
      "cell_type": "code",
      "source": [
        "p=6 # 0110 in binary\n",
        "q=3 # 0011 in binary\n",
        "result=(p^q)\n",
        "print(result)"
      ],
      "metadata": {
        "colab": {
          "base_uri": "https://localhost:8080/"
        },
        "id": "ZJKpnet-X7_5",
        "outputId": "e5071b88-f366-4bdc-c96c-4e1d335b8089"
      },
      "execution_count": null,
      "outputs": [
        {
          "output_type": "stream",
          "name": "stdout",
          "text": [
            "5\n"
          ]
        }
      ]
    },
    {
      "cell_type": "markdown",
      "source": [
        "d)Bitwise NOT(~): This Operator works with a single value and returns its one’s complement. This means it toggles all bits in the value, transforming 0 bits to 1 and 1 bits to 0, resulting in the one’s complement of the binary number.\n",
        "\n",
        "Examples:"
      ],
      "metadata": {
        "id": "_jO0ggFEa9lk"
      }
    },
    {
      "cell_type": "code",
      "source": [
        "a=110\n",
        "b=40\n",
        "#Print bitwise NOT operation\n",
        "print(\"~a =\", ~a)"
      ],
      "metadata": {
        "colab": {
          "base_uri": "https://localhost:8080/"
        },
        "id": "ZZfG5Whzblep",
        "outputId": "46eda5b5-3f3d-40d0-c933-1682ddf4b9f0"
      },
      "execution_count": null,
      "outputs": [
        {
          "output_type": "stream",
          "name": "stdout",
          "text": [
            "~a = -111\n"
          ]
        }
      ]
    },
    {
      "cell_type": "markdown",
      "source": [
        "e)Bitwise Zero fill left shift(<<):Shifts the bits of the number to the left and fills 0 on voids right as a result. Similar effect as of multiplying the number with some power of two.\n",
        "\n",
        "Examples:"
      ],
      "metadata": {
        "id": "UwnoYgxPbxaT"
      }
    },
    {
      "cell_type": "code",
      "source": [
        "a=5\n",
        "b=-10\n",
        "#print bitwise left shift operator\n",
        "print(\"a<<1=\",a<<1)\n",
        "print(\"b<<1=\",b<<1)\n"
      ],
      "metadata": {
        "colab": {
          "base_uri": "https://localhost:8080/"
        },
        "id": "_RV8UtZrb_Qo",
        "outputId": "ef5a3f64-14ce-4c77-b02f-d95ae04f00e5"
      },
      "execution_count": null,
      "outputs": [
        {
          "output_type": "stream",
          "name": "stdout",
          "text": [
            "a<<1= 10\n",
            "b<<1= -20\n"
          ]
        }
      ]
    },
    {
      "cell_type": "markdown",
      "source": [
        "f)Bitwise signed right shift(>>):Shifts the bits of the number to the right and fills 0 on voids left( fills 1 in the case of a negative number) as a result. Similar effect as of dividing the number with some power of two.\n",
        "\n",
        "Examples:"
      ],
      "metadata": {
        "id": "POfaMpm0cQcN"
      }
    },
    {
      "cell_type": "code",
      "source": [
        "a=101\n",
        "b=-101\n",
        "#print bitwise right shift operator\n",
        "print(\"a>>1=\",a >> 1)\n",
        "print(\"b>>1=\",b >> 1)\n"
      ],
      "metadata": {
        "colab": {
          "base_uri": "https://localhost:8080/"
        },
        "id": "1Z6OLMfAcXgB",
        "outputId": "66ee4906-ecf9-42c0-c84d-054af6f6bc46"
      },
      "execution_count": null,
      "outputs": [
        {
          "output_type": "stream",
          "name": "stdout",
          "text": [
            "a>>1= 50\n",
            "b>>1= -51\n"
          ]
        }
      ]
    },
    {
      "cell_type": "markdown",
      "source": [
        "Precedence:Operator precedence describes the order in which operations are performed\n",
        "\n",
        "      Operator                                     Description\n",
        "\n",
        "         ()                        \t   Parentheses\n",
        "\n",
        "         **\t                           Exponentiation\n",
        "\n",
        "     +x  -x  ~x\t                    Unary plus, unary minus, and bitwise NOT\n",
        "\n",
        "     *  /  //  %\t                   Multiplication, division, floor division, and modulus\n",
        "\n",
        "        +  -\t                           Addition and subtraction\n",
        "\n",
        "       <<  >>                            Bitwise left and right shifts\n",
        "\n",
        "           &                               Bitwise AND\n",
        "\n",
        "           ^\t                           Bitwise XOR\n",
        "\n",
        "           |\t                           Bitwise OR\n",
        "\n",
        "     ==  !=  >  >=  <  <=            Comparisons, identity, and membership operators\n",
        "    is  is not  in  not in\n",
        "\n",
        "           not\t                           Logical NOT\n",
        "\n",
        "           and\t                            AND\n",
        "            or                                OR\n",
        "\n"
      ],
      "metadata": {
        "id": "UnOuevyIwibj"
      }
    }
  ]
}