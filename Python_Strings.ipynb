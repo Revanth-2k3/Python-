{
  "nbformat": 4,
  "nbformat_minor": 0,
  "metadata": {
    "colab": {
      "provenance": []
    },
    "kernelspec": {
      "name": "python3",
      "display_name": "Python 3"
    },
    "language_info": {
      "name": "python"
    }
  },
  "cells": [
    {
      "cell_type": "markdown",
      "source": [
        "**Python Strings**\n",
        "* In python,a string is a sequence of characters.\n",
        "* We use single quotes or double quotes to represent a string in python.\n",
        "* Strings are one of the most commonly used data types and they are used to represent text.\n",
        "* However, We can perform various operations and use methods to manipulate and work with strings\n",
        "* A String is a data structure in Python Programming.Also, an immutable data type, meaning that once you have created a string, you cannot change it.\n",
        "* Python Strings are used widely in many different applications, such as storing and manipulating text data, representing names, addresses, and other types of data that can be represented as text.\n",
        "\n",
        "Examples:\n"
      ],
      "metadata": {
        "id": "AJ4wxIQSR9QB"
      }
    },
    {
      "cell_type": "code",
      "source": [
        "string1 = \"Hello, World!\"\n",
        "string2 = 'Python Programming'\n",
        "string3 = \"\"\"This is a multi-line string in Python.\"\"\"\n",
        "print(string3)\n",
        "print(string1)\n",
        "print(string2)"
      ],
      "metadata": {
        "colab": {
          "base_uri": "https://localhost:8080/"
        },
        "id": "8rq-KN0NTmZM",
        "outputId": "6c4daa45-d601-4a5d-a503-9ad2017ff194"
      },
      "execution_count": null,
      "outputs": [
        {
          "output_type": "stream",
          "name": "stdout",
          "text": [
            "This is a multi-line string in Python.\n",
            "Hello, World!\n",
            "Python Programming\n"
          ]
        }
      ]
    },
    {
      "cell_type": "code",
      "source": [
        "print(type(string1))\n",
        "print(type(string2))\n",
        "print(type(string3))"
      ],
      "metadata": {
        "colab": {
          "base_uri": "https://localhost:8080/"
        },
        "id": "tYkZWyTCUeDh",
        "outputId": "2b984a2e-5cef-4773-e125-e3f53193f029"
      },
      "execution_count": null,
      "outputs": [
        {
          "output_type": "stream",
          "name": "stdout",
          "text": [
            "<class 'str'>\n",
            "<class 'str'>\n",
            "<class 'str'>\n"
          ]
        }
      ]
    },
    {
      "cell_type": "markdown",
      "source": [
        "**String Operations**:\n",
        "\n",
        "Python allows various operations on strings that make it easy to manipulate and work with textual data. Here are some common string operations:\n",
        "\n",
        "**1**) **Concatenation:**\n",
        "combining two or more strings\n",
        "\n",
        "**Example**:"
      ],
      "metadata": {
        "id": "IQRhCAs1U04G"
      }
    },
    {
      "cell_type": "code",
      "source": [
        "str1 = \"Hello\"\n",
        "str2 = \"World!\"\n",
        "result = str1 + \" \" + str2\n",
        "print(result)"
      ],
      "metadata": {
        "colab": {
          "base_uri": "https://localhost:8080/"
        },
        "id": "NlnXvXRPWZjF",
        "outputId": "c495a60e-794d-474e-cf36-0b6e0fbc87ae"
      },
      "execution_count": null,
      "outputs": [
        {
          "output_type": "stream",
          "name": "stdout",
          "text": [
            "Hello World!\n"
          ]
        }
      ]
    },
    {
      "cell_type": "markdown",
      "source": [
        "**2) Repetition:** Repeating a string multiple times.\n",
        "\n",
        "**Example**:"
      ],
      "metadata": {
        "id": "yKigzdc0Ws_e"
      }
    },
    {
      "cell_type": "code",
      "source": [
        "str1=\" Data Science \"\n",
        "result=str1 * 30\n",
        "print(result)"
      ],
      "metadata": {
        "colab": {
          "base_uri": "https://localhost:8080/"
        },
        "id": "bGuPiRrCXA7l",
        "outputId": "e9c396d7-5a8e-4e15-e2ba-8f20f7a57d5c"
      },
      "execution_count": null,
      "outputs": [
        {
          "output_type": "stream",
          "name": "stdout",
          "text": [
            " Data Science  Data Science  Data Science  Data Science  Data Science  Data Science  Data Science  Data Science  Data Science  Data Science  Data Science  Data Science  Data Science  Data Science  Data Science  Data Science  Data Science  Data Science  Data Science  Data Science  Data Science  Data Science  Data Science  Data Science  Data Science  Data Science  Data Science  Data Science  Data Science  Data Science \n"
          ]
        }
      ]
    },
    {
      "cell_type": "markdown",
      "source": [
        "**3) Indexing:** Accessing individual characters in a string.\n",
        "\n",
        "**Example:**"
      ],
      "metadata": {
        "id": "TjJV3k1BXbaD"
      }
    },
    {
      "cell_type": "code",
      "source": [
        "my_string=\"Python is so fun\"\n",
        "print(my_string[10])\n",
        "print(my_string[-5])"
      ],
      "metadata": {
        "colab": {
          "base_uri": "https://localhost:8080/"
        },
        "id": "PqSHYG9EXn5g",
        "outputId": "1394e809-c440-4f74-fccd-001d75af478d"
      },
      "execution_count": null,
      "outputs": [
        {
          "output_type": "stream",
          "name": "stdout",
          "text": [
            "s\n",
            "o\n"
          ]
        }
      ]
    },
    {
      "cell_type": "markdown",
      "source": [
        "**4)Slicing:** Extracting a substring from a string.\n",
        "\n",
        "**Example:**"
      ],
      "metadata": {
        "id": "l3Q_Kd-OX-qt"
      }
    },
    {
      "cell_type": "code",
      "source": [
        "my_string=\"Hello,World!\" #0123456789101112\n",
        "substring=my_string[3:12]\n",
        "print(substring)"
      ],
      "metadata": {
        "colab": {
          "base_uri": "https://localhost:8080/"
        },
        "id": "c8Os89OBYOIz",
        "outputId": "314b01f8-a0f1-4577-dc7a-41e9c651ea93"
      },
      "execution_count": null,
      "outputs": [
        {
          "output_type": "stream",
          "name": "stdout",
          "text": [
            "lo,World!\n"
          ]
        }
      ]
    },
    {
      "cell_type": "markdown",
      "source": [
        "**Python-Format Strings:** String formatting allows you to create dynamic strings by combining variables and values.\n",
        "\n",
        "**1)Old style formatting(%operator):** It uses the 1% operator and placeholders within a string.\n",
        "\n",
        "**Example:**"
      ],
      "metadata": {
        "id": "vsO6PuKrYlqc"
      }
    },
    {
      "cell_type": "code",
      "source": [
        "name=\"Revanth Reddy\"\n",
        "age=21\n",
        "weight=72\n",
        "print(\"My name is %s and I am %d years old.\" % (name, age))\n",
        "height=6.0\n",
        "print(\"My height is %.1f feet.\" % height)"
      ],
      "metadata": {
        "colab": {
          "base_uri": "https://localhost:8080/"
        },
        "id": "SognfzpxaHs9",
        "outputId": "88ed8380-9cd4-4614-e5b5-94a57a603b64"
      },
      "execution_count": null,
      "outputs": [
        {
          "output_type": "stream",
          "name": "stdout",
          "text": [
            "My name is Revanth Reddy and I am 21 years old.\n",
            "My height is 6.0 feet.\n"
          ]
        }
      ]
    },
    {
      "cell_type": "markdown",
      "source": [
        "**2)Format Method:** It uses the format() method with placeholders.\n",
        "\n",
        "**Example:**"
      ],
      "metadata": {
        "id": "Z6PVAOsKc815"
      }
    },
    {
      "cell_type": "code",
      "source": [
        "name = \"Revanth\"\n",
        "age = 21\n",
        "print(\"My name is {} and I am {} years old.\".format(name, age))\n",
        "\n",
        "print(\"Hello, {0}. You are {1} years old.\".format(name, age))\n",
        "print(\"Hello, {name}. You are {age} years old.\".format(name=\"kiran\", age=23))"
      ],
      "metadata": {
        "colab": {
          "base_uri": "https://localhost:8080/"
        },
        "id": "S7ZPT3f2dORl",
        "outputId": "40ce381a-c78f-48ab-efcd-2b0d7c2a2450"
      },
      "execution_count": null,
      "outputs": [
        {
          "output_type": "stream",
          "name": "stdout",
          "text": [
            "My name is Revanth and I am 21 years old.\n",
            "Hello, Revanth. You are 21 years old.\n",
            "Hello, kiran. You are 23 years old.\n"
          ]
        }
      ]
    },
    {
      "cell_type": "markdown",
      "source": [
        "**3)String Interpolation:** It uses f-strings where expressions inside curly braces{} are eevaluated and replaced.\n",
        "\n",
        "**Example:**"
      ],
      "metadata": {
        "id": "Z_5c9PRVeRGJ"
      }
    },
    {
      "cell_type": "code",
      "source": [
        "name = \"Revanth\"\n",
        "age = 21\n",
        "city = \"Hyderabad\"\n",
        "profession = \"Data Analyst\"\n",
        "company = \"Deloitte\"\n",
        "\n",
        "print(f\"My name is {name}, I am {age} years old, residing in {city}. Iam working as a {profession} at {company}.\")\n",
        "\n",
        "print(f\"Next year, I will be {age + 1} years old, still living in {city} and continuing my {profession} in {company}.\")\n",
        "\n",
        "print(f\"My name is {name}, I am {age} years old, living in {city} and working as {profession}.\")\n",
        "\n",
        "print(f\"Hello, my name is {name}. I am a {age}-year-old {profession} residing in {city}.\")"
      ],
      "metadata": {
        "colab": {
          "base_uri": "https://localhost:8080/"
        },
        "id": "iOYdhKGUeovr",
        "outputId": "6ab76b2f-3479-4074-d5ee-6d6051a5dfa6"
      },
      "execution_count": null,
      "outputs": [
        {
          "output_type": "stream",
          "name": "stdout",
          "text": [
            "My name is Revanth, I am 21 years old, residing in Hyderabad. Iam working as a Data Analyst at Deloitte.\n",
            "Next year, I will be 22 years old, still living in Hyderabad and continuing my Data Analyst in Deloitte.\n",
            "My name is Revanth, I am 21 years old, living in Hyderabad and working as Data Analyst.\n",
            "Hello, my name is Revanth. I am a 21-year-old Data Analyst residing in Hyderabad.\n"
          ]
        }
      ]
    },
    {
      "cell_type": "markdown",
      "source": [
        "**4)Using str.format() with Format Specification:** We can control formatting, such as padding, alignment, and number precision using format specifiers.\n",
        "\n",
        "**Example:**"
      ],
      "metadata": {
        "id": "gBYBezgWfKcg"
      }
    },
    {
      "cell_type": "code",
      "source": [
        "print(\"{:<10}\".format(\"Left\"))   # Left-align (default): \"Left      \"\n",
        "print(\"{:>10}\".format(\"Right\"))  # Right-align: \"     Right\"\n",
        "print(\"{:^10}\".format(\"Center\")) # Center-align: \" Center  \"\n",
        "\n",
        "# Number formatting\n",
        "number = 256.144288\n",
        "print(\"{:.2f}\".format(number))"
      ],
      "metadata": {
        "colab": {
          "base_uri": "https://localhost:8080/"
        },
        "id": "Wa2oEW4RfemC",
        "outputId": "eca486af-a9a7-4220-efbb-a17316d132fa"
      },
      "execution_count": null,
      "outputs": [
        {
          "output_type": "stream",
          "name": "stdout",
          "text": [
            "Left      \n",
            "     Right\n",
            "  Center  \n",
            "256.14\n"
          ]
        }
      ]
    },
    {
      "cell_type": "markdown",
      "source": [
        "**5)Advanced Formatting with f-strings:** You can also use format specifiers inside f-strings.\n",
        "\n",
        "**Example:**"
      ],
      "metadata": {
        "id": "FGMYRsf7f52P"
      }
    },
    {
      "cell_type": "code",
      "source": [
        "num = 244.765432\n",
        "print(f\"{num:.2f}\")\n",
        "# Padding and alignment with f-strings\n",
        "print(f\"{'Python':<10}\")\n",
        "print(f\"{'Python':>10}\")\n",
        "print(f\"{'Python':^10}\")"
      ],
      "metadata": {
        "colab": {
          "base_uri": "https://localhost:8080/"
        },
        "id": "3uPmXy_BgMsw",
        "outputId": "7fd8ea7c-9109-448e-e187-65ffeb2eb1d7"
      },
      "execution_count": null,
      "outputs": [
        {
          "output_type": "stream",
          "name": "stdout",
          "text": [
            "244.77\n",
            "Python    \n",
            "    Python\n",
            "  Python  \n"
          ]
        }
      ]
    },
    {
      "cell_type": "markdown",
      "source": [
        "**String Methods:** Python offers several built-in string methods that allow you to perform various operations on strings. Here’s a summary of some commonly used string methods:"
      ],
      "metadata": {
        "id": "XDQwb1THgf7s"
      }
    },
    {
      "cell_type": "markdown",
      "source": [
        "**1)len():** Returns the lenght of the string\n",
        "\n",
        "**Example:**"
      ],
      "metadata": {
        "id": "vqq1cVTvhnym"
      }
    },
    {
      "cell_type": "code",
      "source": [
        "my_string=\"python is so fun\"\n",
        "lenght=len(my_string)\n",
        "print(lenght)"
      ],
      "metadata": {
        "colab": {
          "base_uri": "https://localhost:8080/"
        },
        "id": "38Ocv6QkhxhJ",
        "outputId": "eea85d4a-0746-4553-f0ba-bd710d6c446b"
      },
      "execution_count": null,
      "outputs": [
        {
          "output_type": "stream",
          "name": "stdout",
          "text": [
            "16\n"
          ]
        }
      ]
    },
    {
      "cell_type": "markdown",
      "source": [
        "**2)lower()/upper():** Converts the string to lowercase/uppercase.\n",
        "\n",
        "**Example:**"
      ],
      "metadata": {
        "id": "vKquefrsiGaV"
      }
    },
    {
      "cell_type": "code",
      "source": [
        "text = \"Hello, World!\"\n",
        "print(text.lower())"
      ],
      "metadata": {
        "colab": {
          "base_uri": "https://localhost:8080/"
        },
        "id": "IEn9mI0WiS2f",
        "outputId": "e7c9eb1b-4b01-4764-adcf-4578a66b05b6"
      },
      "execution_count": null,
      "outputs": [
        {
          "output_type": "stream",
          "name": "stdout",
          "text": [
            "hello, world!\n"
          ]
        }
      ]
    },
    {
      "cell_type": "code",
      "source": [
        "text = \"Hello, World!\"\n",
        "print(text.upper())"
      ],
      "metadata": {
        "colab": {
          "base_uri": "https://localhost:8080/"
        },
        "id": "IrNSdu6UizX6",
        "outputId": "63a2f53d-eb9d-44a0-aece-d770afb9f2cc"
      },
      "execution_count": null,
      "outputs": [
        {
          "output_type": "stream",
          "name": "stdout",
          "text": [
            "HELLO, WORLD!\n"
          ]
        }
      ]
    },
    {
      "cell_type": "markdown",
      "source": [
        "**3)strip():** Removes leading and trailing whitespaces.\n",
        "\n",
        "**Example:**"
      ],
      "metadata": {
        "id": "lyf8clGCi6os"
      }
    },
    {
      "cell_type": "code",
      "source": [
        "my_string=\" PYTHON \"\n",
        "stripped_string=my_string.strip()\n",
        "print(stripped_string)"
      ],
      "metadata": {
        "colab": {
          "base_uri": "https://localhost:8080/"
        },
        "id": "YMI0h64XjFqj",
        "outputId": "15659f5e-7895-48bc-9607-2578affa8970"
      },
      "execution_count": null,
      "outputs": [
        {
          "output_type": "stream",
          "name": "stdout",
          "text": [
            "PYTHON\n"
          ]
        }
      ]
    },
    {
      "cell_type": "code",
      "source": [
        "text = \"***@Welcome to Future@***\"\n",
        "print(text.strip('*@'))"
      ],
      "metadata": {
        "colab": {
          "base_uri": "https://localhost:8080/"
        },
        "id": "SHnjxHgHjgW4",
        "outputId": "56a04d65-f2f2-428e-8ab7-a7a9d58b488e"
      },
      "execution_count": null,
      "outputs": [
        {
          "output_type": "stream",
          "name": "stdout",
          "text": [
            "Welcome to Future\n"
          ]
        }
      ]
    },
    {
      "cell_type": "markdown",
      "source": [
        "**4)Replace:** Replaces a substring with another substring.\n",
        "\n",
        "**Example:**"
      ],
      "metadata": {
        "id": "yPg0QZw0jncO"
      }
    },
    {
      "cell_type": "code",
      "source": [
        "text = \"Hello, world!\"\n",
        "new_text = text.replace(\"world\", \"Python\")\n",
        "print(new_text)"
      ],
      "metadata": {
        "colab": {
          "base_uri": "https://localhost:8080/"
        },
        "id": "LQhdQ5nDj0W-",
        "outputId": "c76e3598-64cf-434e-b22a-8e2fc8364f6f"
      },
      "execution_count": null,
      "outputs": [
        {
          "output_type": "stream",
          "name": "stdout",
          "text": [
            "Hello, Python!\n"
          ]
        }
      ]
    },
    {
      "cell_type": "markdown",
      "source": [
        "**5)Split():** Splits the string into a list of sub strings.\n",
        "\n",
        "**Example:**"
      ],
      "metadata": {
        "id": "YeRbnN0VkuY9"
      }
    },
    {
      "cell_type": "code",
      "source": [
        "my_string=\"Python is fun and python is good to learn\"\n",
        "words=my_string.split()\n",
        "print(words)"
      ],
      "metadata": {
        "colab": {
          "base_uri": "https://localhost:8080/"
        },
        "id": "P20hWsNSk99T",
        "outputId": "963d9278-f494-4906-e5fc-9ae1f99943c1"
      },
      "execution_count": null,
      "outputs": [
        {
          "output_type": "stream",
          "name": "stdout",
          "text": [
            "['Python', 'is', 'fun', 'and', 'python', 'is', 'good', 'to', 'learn']\n"
          ]
        }
      ]
    },
    {
      "cell_type": "markdown",
      "source": [
        "**6)join():** Joins a list of strings into a single string.\n",
        "\n",
        "**Example:**"
      ],
      "metadata": {
        "id": "G70VQsKclRFF"
      }
    },
    {
      "cell_type": "code",
      "source": [
        "words = ['Python', 'is', 'a', 'programming', 'language', 'and', 'python', 'is', 'easy', 'to', 'learn']\n",
        "joined_string = ' '.join(words)\n",
        "print(joined_string)"
      ],
      "metadata": {
        "colab": {
          "base_uri": "https://localhost:8080/"
        },
        "id": "hEtdv5vflfKu",
        "outputId": "4b8337c3-baaf-40da-f16e-9225e8871d28"
      },
      "execution_count": null,
      "outputs": [
        {
          "output_type": "stream",
          "name": "stdout",
          "text": [
            "Python is a programming language and python is easy to learn\n"
          ]
        }
      ]
    },
    {
      "cell_type": "markdown",
      "source": [
        "**7)Capitalize:** The capitalize() method returns a string where the first character is upper case, and the rest is lower case.\n",
        "\n",
        "**Example:**"
      ],
      "metadata": {
        "id": "0zEjlAq-mToK"
      }
    },
    {
      "cell_type": "code",
      "source": [
        "txt = \"hello, and welcome to my world.\"\n",
        "x = txt.capitalize()\n",
        "print (x)"
      ],
      "metadata": {
        "colab": {
          "base_uri": "https://localhost:8080/"
        },
        "id": "RIjEL7bim60Z",
        "outputId": "469ff3b1-ef33-49c8-f029-1b1e6444ff4c"
      },
      "execution_count": null,
      "outputs": [
        {
          "output_type": "stream",
          "name": "stdout",
          "text": [
            "Hello, and welcome to my world.\n"
          ]
        }
      ]
    },
    {
      "cell_type": "markdown",
      "source": [
        "**8)casefold:** The casefold() method returns a string where all the characters are lower case.\n",
        "\n",
        "**Example:**"
      ],
      "metadata": {
        "id": "ar888BqunBsp"
      }
    },
    {
      "cell_type": "code",
      "source": [
        "txt = \"Hello, This  is Revanth!\"\n",
        "x = txt.casefold()\n",
        "print(x)"
      ],
      "metadata": {
        "colab": {
          "base_uri": "https://localhost:8080/"
        },
        "id": "h13zCDn1nRD9",
        "outputId": "c5f4f8ca-2d44-423e-afaa-218ddd11fed4"
      },
      "execution_count": null,
      "outputs": [
        {
          "output_type": "stream",
          "name": "stdout",
          "text": [
            "hello, this  is revanth!\n"
          ]
        }
      ]
    },
    {
      "cell_type": "markdown",
      "source": [
        "**9)center():** The center() method will center align the string, using a specified character (space is default) as the fill character.\n",
        "\n",
        "**Example:**"
      ],
      "metadata": {
        "id": "56nrPlvAnkPM"
      }
    },
    {
      "cell_type": "code",
      "source": [
        "word = \"Nikhil\"\n",
        "x = word.center(20)\n",
        "print(x)"
      ],
      "metadata": {
        "colab": {
          "base_uri": "https://localhost:8080/"
        },
        "id": "vl1H2PxKnuZK",
        "outputId": "9738292e-eb0a-4b7e-e157-852b0036aea5"
      },
      "execution_count": null,
      "outputs": [
        {
          "output_type": "stream",
          "name": "stdout",
          "text": [
            "       Nikhil       \n"
          ]
        }
      ]
    },
    {
      "cell_type": "markdown",
      "source": [
        "**10)count:** The count() method returns the number of times a specified value appears in the string.\n",
        "\n",
        "**Example:**"
      ],
      "metadata": {
        "id": "rFxR3dgqn3Ip"
      }
    },
    {
      "cell_type": "code",
      "source": [
        "word = \"Hola amigos, let's go to the beach amigos.\"\n",
        "x = word.count(\"amigos\")\n",
        "print(x)"
      ],
      "metadata": {
        "colab": {
          "base_uri": "https://localhost:8080/"
        },
        "id": "kz573msRoJfH",
        "outputId": "bdde1d20-61fc-4ecd-eea0-cc59277b0677"
      },
      "execution_count": null,
      "outputs": [
        {
          "output_type": "stream",
          "name": "stdout",
          "text": [
            "2\n"
          ]
        }
      ]
    },
    {
      "cell_type": "markdown",
      "source": [
        "**11)encode():**\n",
        "* In Python, the encode() method is used to encode a string into bytes. It’s often used when you need to convert a string into a specific byte encoding, like UTF-8 or ASCII.\n",
        "* The encode() method encodes the string, using the specified encoding. If no encoding is specified, UTF-8 will be used.\n",
        "\n",
        "**Example:**"
      ],
      "metadata": {
        "id": "hrN6Rm0boalT"
      }
    },
    {
      "cell_type": "code",
      "source": [
        "text = \"Hello, world!\"\n",
        "encoded_text = text.encode(\"utf-8\")\n",
        "print(encoded_text)"
      ],
      "metadata": {
        "colab": {
          "base_uri": "https://localhost:8080/"
        },
        "id": "fwRfr3pqoqVb",
        "outputId": "974ad0c0-2255-4e03-b8ca-2b5fd7723d45"
      },
      "execution_count": null,
      "outputs": [
        {
          "output_type": "stream",
          "name": "stdout",
          "text": [
            "b'Hello, world!'\n"
          ]
        }
      ]
    },
    {
      "cell_type": "markdown",
      "source": [
        "**12)endswith():**\n",
        "* The endswith() method returns True if the string ends with the specified value, otherwise False.\n",
        "* The endswith() method in Python is a built-in string method used to check if a string ends with a specified suffix. It returns a boolean value: True if the string ends with the given suffix, otherwise False.\n",
        "\n",
        "**Example:**"
      ],
      "metadata": {
        "id": "Xpz-kQhXozce"
      }
    },
    {
      "cell_type": "code",
      "source": [
        "txt = \"Hello, welcome to TEKS.\"\n",
        "x = txt.endswith(\"TEKS.\")\n",
        "print(x)"
      ],
      "metadata": {
        "colab": {
          "base_uri": "https://localhost:8080/"
        },
        "id": "KlOBlbQPpQZc",
        "outputId": "0b729b24-5d32-4b02-9548-5995d1b57ca7"
      },
      "execution_count": null,
      "outputs": [
        {
          "output_type": "stream",
          "name": "stdout",
          "text": [
            "True\n"
          ]
        }
      ]
    },
    {
      "cell_type": "code",
      "source": [
        "txt = \"Hello, welcome to python.\"\n",
        "x = txt.endswith(\"python.\", 5, 11)\n",
        "print(x)"
      ],
      "metadata": {
        "colab": {
          "base_uri": "https://localhost:8080/"
        },
        "id": "WAMwzSRhpiNq",
        "outputId": "e0b797a6-90e1-4f99-cf4b-96183558c6aa"
      },
      "execution_count": null,
      "outputs": [
        {
          "output_type": "stream",
          "name": "stdout",
          "text": [
            "False\n"
          ]
        }
      ]
    },
    {
      "cell_type": "markdown",
      "source": [
        "**13)expandtabs:**\n",
        "\n",
        "* The expandtabs() method sets the tab size to the specified number of whitespaces.\n",
        "* The expandtabs() method in Python is used to replace all occurrences of tab characters (\\t) in a string with a specified number of spaces. It returns a new string with the expanded tabs.\n",
        "\n",
        "**Example:**"
      ],
      "metadata": {
        "id": "LALmSVq0pxb_"
      }
    },
    {
      "cell_type": "code",
      "source": [
        "text = \"This\\tis\\ta\\tstring\\twith\\ttabs\"\n",
        "expanded_text = text.expandtabs()\n",
        "print(expanded_text)\n",
        "expanded_text = text.expandtabs(4)\n",
        "print(expanded_text)"
      ],
      "metadata": {
        "colab": {
          "base_uri": "https://localhost:8080/"
        },
        "id": "X_KO1N_9qwpP",
        "outputId": "ddb0e7b7-2ea9-405d-f342-9e0408ac6810"
      },
      "execution_count": null,
      "outputs": [
        {
          "output_type": "stream",
          "name": "stdout",
          "text": [
            "This    is      a       string  with    tabs\n",
            "This    is  a   string  with    tabs\n"
          ]
        }
      ]
    },
    {
      "cell_type": "markdown",
      "source": [
        "**14)find():**\n",
        "\n",
        "* The find() method finds the first occurrence of the specified value.\n",
        "\n",
        "* The find() method returns -1 if the value is not found.\n",
        "\n",
        "* The find() method is almost the same as the index() method, the only  \n",
        " difference is that the index() method raises an exception if the value is not found.\n",
        "\n",
        "* The find() method in Python is used to locate the index of the first  \n",
        " occurrence of a specified substring within a given string. If the substring is\n",
        " not found, it returns -1\n",
        "\n",
        " **Example:**"
      ],
      "metadata": {
        "id": "hvEusLBhq4nq"
      }
    },
    {
      "cell_type": "code",
      "source": [
        "text = \"Hello, world!\"\n",
        "index = text.find(\"world\")\n",
        "print(index)\n",
        "index = text.find(\"hello\")\n",
        "print(index)"
      ],
      "metadata": {
        "colab": {
          "base_uri": "https://localhost:8080/"
        },
        "id": "kBRpMkgorhV2",
        "outputId": "1857649f-d85d-4c5b-ddf1-1ebca1b1e24e"
      },
      "execution_count": null,
      "outputs": [
        {
          "output_type": "stream",
          "name": "stdout",
          "text": [
            "7\n",
            "-1\n"
          ]
        }
      ]
    },
    {
      "cell_type": "markdown",
      "source": [
        "15)**format():**\n",
        "\n",
        "* The format() method formats the specified value(s) and insert them inside the string's placeholder.\n",
        "\n",
        "* The placeholder is defined using curly brackets: {}. Read more about the placeholders in the Placeholder section below.\n",
        "* The format() method returns the formatted string.\n",
        "\n",
        "**Example:**"
      ],
      "metadata": {
        "id": "z-Jv1MmXrmDW"
      }
    },
    {
      "cell_type": "code",
      "source": [
        "txt1 = \"My name is {fname}, I'm {age}\".format(fname = \"Revanth\", age = 21)\n",
        "txt2 = \"My name is {0}, I'm {1}\".format(\"Kiran\",23)\n",
        "txt3 = \"My name is {}, I'm {}\".format(\"Sai\",22)\n",
        "print(txt1)\n",
        "print(txt2)\n",
        "print(txt3)"
      ],
      "metadata": {
        "colab": {
          "base_uri": "https://localhost:8080/"
        },
        "id": "V3JPkjWer7WR",
        "outputId": "3dc37d96-4778-4794-dae9-b31d2f36cba1"
      },
      "execution_count": null,
      "outputs": [
        {
          "output_type": "stream",
          "name": "stdout",
          "text": [
            "My name is Revanth, I'm 21\n",
            "My name is Kiran, I'm 23\n",
            "My name is Sai, I'm 22\n"
          ]
        }
      ]
    },
    {
      "cell_type": "markdown",
      "source": [
        "**16) format_map:**\n",
        "* The format_map() method is used for string formatting in Python. It takes a dictionary as input and replaces placeholders within the string with corresponding values from the dictionary.\n",
        "\n",
        "**Example:**"
      ],
      "metadata": {
        "id": "7Si9qQhJsK9_"
      }
    },
    {
      "cell_type": "code",
      "source": [
        "person = {'name': 'Revanth', 'age': 21}\n",
        "text = \"Hello, {name}! You are {age} years old.\".format_map(person)\n",
        "print(text)"
      ],
      "metadata": {
        "colab": {
          "base_uri": "https://localhost:8080/"
        },
        "id": "nbE7qjJhsU6-",
        "outputId": "45e77c62-93d2-4659-98ba-d7edd1875f62"
      },
      "execution_count": null,
      "outputs": [
        {
          "output_type": "stream",
          "name": "stdout",
          "text": [
            "Hello, Revanth! You are 21 years old.\n"
          ]
        }
      ]
    },
    {
      "cell_type": "markdown",
      "source": [
        "**17)isalnum():**\n",
        "* The isalnum() method returns True if all the characters are alphanumeric, meaning alphabet letter (a-z) and numbers (0-9).\n",
        "* Example of characters that are not alphanumeric: (space)!#%&? etc.\n",
        "\n",
        "**Example:**"
      ],
      "metadata": {
        "id": "IBCfY1j0seQX"
      }
    },
    {
      "cell_type": "code",
      "source": [
        "text = \"hello123\"\n",
        "print(text.isalnum())\n",
        "text = \"hello world\"\n",
        "print(text.isalnum())"
      ],
      "metadata": {
        "colab": {
          "base_uri": "https://localhost:8080/"
        },
        "id": "ZM7MxbRusrej",
        "outputId": "ac8eb737-db87-4913-8892-7ee8b06f803b"
      },
      "execution_count": null,
      "outputs": [
        {
          "output_type": "stream",
          "name": "stdout",
          "text": [
            "True\n",
            "False\n"
          ]
        }
      ]
    },
    {
      "cell_type": "markdown",
      "source": [
        "**18)isalpha():**\n",
        "* The isalpha() method returns True if all the characters are alphabet letters (a-z).\n",
        "* Example of characters that are not alphabet letters: (space)!#%&? etc.\n",
        "\n",
        "**Example:**"
      ],
      "metadata": {
        "id": "R5hQrnIFtOWz"
      }
    },
    {
      "cell_type": "code",
      "source": [
        "text = \"hello\"\n",
        "print(text.isalpha())\n",
        "text = \"hello123\"\n",
        "print(text.isalpha())\n",
        "text = \"hello world\"\n",
        "print(text.isalpha())"
      ],
      "metadata": {
        "colab": {
          "base_uri": "https://localhost:8080/"
        },
        "id": "UnMCS5wdtnsr",
        "outputId": "a59b2e96-2407-4c37-b1b4-f3fdb4ad0f3d"
      },
      "execution_count": null,
      "outputs": [
        {
          "output_type": "stream",
          "name": "stdout",
          "text": [
            "True\n",
            "False\n",
            "False\n"
          ]
        }
      ]
    },
    {
      "cell_type": "markdown",
      "source": [
        "**19)isascii():**\n",
        "* The isascii() method returns True if all the characters are ascii characters (a-z).\n",
        "* The isascii() method in Python checks if all characters in a string are ASCII characters. It returns True if all characters are ASCII, otherwise it returns False.\n",
        "\n",
        "**Example:**"
      ],
      "metadata": {
        "id": "HEHBxI-at160"
      }
    },
    {
      "cell_type": "code",
      "source": [
        "xt = \"Revanth_12k3\"\n",
        "x = txt.isascii()\n",
        "print(x)"
      ],
      "metadata": {
        "colab": {
          "base_uri": "https://localhost:8080/"
        },
        "id": "0Bg9FZ8ruVw1",
        "outputId": "03a4365a-4f9a-457a-d4e8-a23aa3e1d073"
      },
      "execution_count": null,
      "outputs": [
        {
          "output_type": "stream",
          "name": "stdout",
          "text": [
            "True\n"
          ]
        }
      ]
    },
    {
      "cell_type": "markdown",
      "source": [
        "**20)isdecimal():**\n",
        "* The isdecimal() method returns True if all the characters are decimals (0-9).\n",
        "* This method can also be used on unicode objects.\n",
        "\n",
        "**Example:**"
      ],
      "metadata": {
        "id": "Qdfi4ksNuj3Q"
      }
    },
    {
      "cell_type": "code",
      "source": [
        "text = \"12345\"\n",
        "print(text.isdecimal())\n",
        "text = \"hello\"\n",
        "print(text.isdecimal())\n",
        "text = \"123.45\"\n",
        "print(text.isdecimal())"
      ],
      "metadata": {
        "colab": {
          "base_uri": "https://localhost:8080/"
        },
        "id": "dbDsa0UFu0Em",
        "outputId": "b52397b4-55e9-45ae-ed71-ded3560ba1b8"
      },
      "execution_count": null,
      "outputs": [
        {
          "output_type": "stream",
          "name": "stdout",
          "text": [
            "True\n",
            "False\n",
            "False\n"
          ]
        }
      ]
    },
    {
      "cell_type": "markdown",
      "source": [
        "21)**isdigit():**\n",
        "* The isdigit() method returns True if all the characters are digits, otherwise False.\n",
        "* Exponents, like ², are also considered to be a digit.\n",
        "\n",
        "**Example:**"
      ],
      "metadata": {
        "id": "yHzbbn_Bu8gc"
      }
    },
    {
      "cell_type": "code",
      "source": [
        "text = \"12345\"\n",
        "print(text.isdigit())\n",
        "text = \"hello\"\n",
        "print(text.isdigit())\n",
        "text = \"123.45\"\n",
        "print(text.isdigit())"
      ],
      "metadata": {
        "colab": {
          "base_uri": "https://localhost:8080/"
        },
        "id": "qkDh9jB1vJUy",
        "outputId": "082fb32e-4b4d-4750-a4fc-614768006f8f"
      },
      "execution_count": null,
      "outputs": [
        {
          "output_type": "stream",
          "name": "stdout",
          "text": [
            "True\n",
            "False\n",
            "False\n"
          ]
        }
      ]
    },
    {
      "cell_type": "markdown",
      "source": [
        "22)**isidentifier():**\n",
        "* The isidentifier() method returns True if the string is a valid identifier, otherwise False.\n",
        "* A string is considered a valid identifier if it only contains alphanumeric letters (a-z) and (0-9), or underscores (_). A valid identifier cannot start with a number, or contain any spaces.\n",
        "\n",
        "**Example:**"
      ],
      "metadata": {
        "id": "iREe8PUwvQRZ"
      }
    },
    {
      "cell_type": "code",
      "source": [
        "text = \"my_variable\"\n",
        "print(text.isidentifier())\n",
        "text = \"123\"\n",
        "print(text.isidentifier())\n",
        "text = \"my variable\"\n",
        "print(text.isidentifier())"
      ],
      "metadata": {
        "colab": {
          "base_uri": "https://localhost:8080/"
        },
        "id": "50ir5z3Ev8gu",
        "outputId": "b767e0d7-89fc-4977-d282-888f216ceb5f"
      },
      "execution_count": null,
      "outputs": [
        {
          "output_type": "stream",
          "name": "stdout",
          "text": [
            "True\n",
            "False\n",
            "False\n"
          ]
        }
      ]
    },
    {
      "cell_type": "markdown",
      "source": [
        "**23)isnumeric:**\n",
        "* The isnumeric() method returns True if all the characters are numeric (0-9), otherwise False.\n",
        "*Exponents, like ² and ¾ are also considered to be numeric value\n",
        "*\"-1\" and \"1.5\" are NOT considered numeric values, because all the characters in the string must be numeric, and the - and the . are not.not.\n",
        "\n",
        "**Example:**"
      ],
      "metadata": {
        "id": "lJnuIKN6wCbo"
      }
    },
    {
      "cell_type": "code",
      "source": [
        "text = \"12345\"\n",
        "print(text.isnumeric())\n",
        "text = \"hello\"\n",
        "print(text.isnumeric())\n",
        "text = \"012345\"\n",
        "print(text.isnumeric())"
      ],
      "metadata": {
        "colab": {
          "base_uri": "https://localhost:8080/"
        },
        "id": "XQ1zuYErwTDr",
        "outputId": "6d2716c4-d574-4ca6-8c6d-ba3f335b6888"
      },
      "execution_count": null,
      "outputs": [
        {
          "output_type": "stream",
          "name": "stdout",
          "text": [
            "True\n",
            "False\n",
            "True\n"
          ]
        }
      ]
    },
    {
      "cell_type": "markdown",
      "source": [
        "**24)issprintable():**\n",
        "* The isprintable() method returns True if all the characters are printable, otherwise False.\n",
        "* Example of none printable character can be carriage return and line feed.\n",
        "\n",
        "**Example:**"
      ],
      "metadata": {
        "id": "LQvrMlCpwfHK"
      }
    },
    {
      "cell_type": "code",
      "source": [
        "text = \"Hello, world!\"\n",
        "print(text.isprintable())\n",
        "text = \"\\t\"\n",
        "print(text.isprintable())\n",
        "text = \" \\n\"\n",
        "print(text.isprintable())"
      ],
      "metadata": {
        "colab": {
          "base_uri": "https://localhost:8080/"
        },
        "id": "ZKsAHNQCwtiA",
        "outputId": "0380f9ce-8017-4c80-ca2d-4f1ee81cfadd"
      },
      "execution_count": null,
      "outputs": [
        {
          "output_type": "stream",
          "name": "stdout",
          "text": [
            "True\n",
            "False\n",
            "False\n"
          ]
        }
      ]
    },
    {
      "cell_type": "markdown",
      "source": [
        "**25)isspace():**\n",
        "* The isspace() method returns True if all the characters in a string are whitespaces, otherwise False.\n",
        "\n",
        "**Example:**"
      ],
      "metadata": {
        "id": "ugDSXiZlw1CD"
      }
    },
    {
      "cell_type": "code",
      "source": [
        "txt = \"  M  \"\n",
        "x = txt.isspace()\n",
        "print(x)"
      ],
      "metadata": {
        "colab": {
          "base_uri": "https://localhost:8080/"
        },
        "id": "e6F0GJBRxBUs",
        "outputId": "5f67a3b4-26a1-4570-96f5-3a0a7adef601"
      },
      "execution_count": null,
      "outputs": [
        {
          "output_type": "stream",
          "name": "stdout",
          "text": [
            "False\n"
          ]
        }
      ]
    },
    {
      "cell_type": "markdown",
      "source": [
        "**26)istitle():**\n",
        "* The istitle() method returns True if all words in a text start with a upper case letter, AND the rest of the word are lower case letters, otherwise False.\n",
        "\n",
        "**Example:**\n"
      ],
      "metadata": {
        "id": "aLiUEYsfxNez"
      }
    },
    {
      "cell_type": "code",
      "source": [
        " a = \"HELLO, AND WELCOME TO MY WORLD\"\n",
        " b = \"Hello\"\n",
        " c = \"22 Names\"\n",
        " d = \"This Is %'!?\"\n",
        " print(a.istitle())\n",
        " print(b.istitle())\n",
        " print(c.istitle())\n",
        " print(d.istitle())"
      ],
      "metadata": {
        "colab": {
          "base_uri": "https://localhost:8080/"
        },
        "id": "9dFAUhIBxVoB",
        "outputId": "dbc0dbad-990f-4f77-ea50-09197cee2547"
      },
      "execution_count": null,
      "outputs": [
        {
          "output_type": "stream",
          "name": "stdout",
          "text": [
            "False\n",
            "True\n",
            "True\n",
            "True\n"
          ]
        }
      ]
    },
    {
      "cell_type": "markdown",
      "source": [
        "**27)ljust():**\n",
        "* The ljust() method will left align the string, using a specified character (space is default) as the fill character.\n",
        "\n",
        "**Example:**"
      ],
      "metadata": {
        "id": "ZIIVzPapxs8T"
      }
    },
    {
      "cell_type": "code",
      "source": [
        "txt = \"nikhil\"\n",
        "x = txt.ljust(20, \"u\")\n",
        "print(x)"
      ],
      "metadata": {
        "colab": {
          "base_uri": "https://localhost:8080/"
        },
        "id": "4Ik6n3lvx8ud",
        "outputId": "fa110bbb-64f2-45b4-f408-9a050d9b9911"
      },
      "execution_count": null,
      "outputs": [
        {
          "output_type": "stream",
          "name": "stdout",
          "text": [
            "nikhiluuuuuuuuuuuuuu\n"
          ]
        }
      ]
    },
    {
      "cell_type": "markdown",
      "source": [
        "**28)lstrip():**\n",
        "* The lstrip() method removes any leading characters (space is the default leading character to remove)\n",
        "\n",
        "**Example:**"
      ],
      "metadata": {
        "id": "DkHAahYwyJuM"
      }
    },
    {
      "cell_type": "code",
      "source": [
        "txt = \" mango \"\n",
        "x = txt.lstrip()\n",
        "print(\"among all fruits\", x, \"is my favorite\")"
      ],
      "metadata": {
        "colab": {
          "base_uri": "https://localhost:8080/"
        },
        "id": "m8f4h9p0yU7x",
        "outputId": "8bd748a4-476e-4356-d96c-9d0d339a535a"
      },
      "execution_count": null,
      "outputs": [
        {
          "output_type": "stream",
          "name": "stdout",
          "text": [
            "among all fruits mango  is my favorite\n"
          ]
        }
      ]
    },
    {
      "cell_type": "markdown",
      "source": [
        "**29)partition():**\n",
        "* The partition() method searches for a specified string, and splits the string into a tuple containing three elements.\n",
        "* The first element contains the part before the specified string.\n",
        "* The second element contains the specified string.\n",
        "* The third element contains the part after the string.\n",
        "\n",
        "**Example:**"
      ],
      "metadata": {
        "id": "0KiAXJVayj79"
      }
    },
    {
      "cell_type": "code",
      "source": [
        "txt = \"I can do this all day\"\n",
        "x = txt.partition(\"fighting\")\n",
        "print(x)"
      ],
      "metadata": {
        "colab": {
          "base_uri": "https://localhost:8080/"
        },
        "id": "opmAMmS2yz8e",
        "outputId": "1d32e4c8-0bf7-4e05-db37-40385f87ba51"
      },
      "execution_count": null,
      "outputs": [
        {
          "output_type": "stream",
          "name": "stdout",
          "text": [
            "('I can do this all day', '', '')\n"
          ]
        }
      ]
    },
    {
      "cell_type": "markdown",
      "source": [
        "**30)startswith():**\n",
        "* The startswith() method returns True if the string starts with the specified value, otherwise False.\n",
        "\n",
        "**Example:**"
      ],
      "metadata": {
        "id": "kWTVDz3-zVe6"
      }
    },
    {
      "cell_type": "code",
      "source": [
        "txt = \"Hello, welcome to data science.\"\n",
        "x = txt.startswith(\"wel\", 7, 20)\n",
        "print(x)"
      ],
      "metadata": {
        "colab": {
          "base_uri": "https://localhost:8080/"
        },
        "id": "pA1cSQ5fzjae",
        "outputId": "75904d2c-b7fd-4895-d78f-eb1b8ea45ad7"
      },
      "execution_count": null,
      "outputs": [
        {
          "output_type": "stream",
          "name": "stdout",
          "text": [
            "True\n"
          ]
        }
      ]
    },
    {
      "cell_type": "markdown",
      "source": [
        "**31)maketrans:**\n",
        "* The maketrans() method returns a mapping table that can be used with the translate() method to replace specified characters.\n",
        "\n",
        "**Example:**"
      ],
      "metadata": {
        "id": "sxDJWziy0v6N"
      }
    },
    {
      "cell_type": "code",
      "source": [
        "txt = \"Hello Jashwanth!\"\n",
        "mytable = str.maketrans(\"J\",\"Y\")\n",
        "print(txt.translate(mytable))"
      ],
      "metadata": {
        "colab": {
          "base_uri": "https://localhost:8080/"
        },
        "id": "B7dkrz2o05tU",
        "outputId": "45e758cf-fe67-4700-9878-d5e3cd6a3ad0"
      },
      "execution_count": null,
      "outputs": [
        {
          "output_type": "stream",
          "name": "stdout",
          "text": [
            "Hello Yashwanth!\n"
          ]
        }
      ]
    },
    {
      "cell_type": "markdown",
      "source": [
        "**32)translate():**\n",
        "* The translate() method returns a string where some specified characters are replaced with the character described in a dictionary, or in a mapping table.\n",
        "* Use the maketrans() method to create a mapping table.\n",
        "* If a character is not specified in the dictionary/table, the character will not be replaced.\n",
        "* If you use a dictionary, you must use ascii codes instead of characters.\n",
        "\n",
        "**Example:**"
      ],
      "metadata": {
        "id": "HVlSR4yn1K6-"
      }
    },
    {
      "cell_type": "code",
      "source": [
        "txt = \"Good night Sam!\"\n",
        "x = \"mSa\"\n",
        "y = \"eJo\"\n",
        "z = \"odnght\"\n",
        "mytable = str.maketrans(x, y, z)\n",
        "print(txt.translate(mytable))"
      ],
      "metadata": {
        "colab": {
          "base_uri": "https://localhost:8080/"
        },
        "id": "RaZSgkrZ1g4M",
        "outputId": "ae2ab393-260b-443f-9038-bb944c52e639"
      },
      "execution_count": null,
      "outputs": [
        {
          "output_type": "stream",
          "name": "stdout",
          "text": [
            "G i Joe!\n"
          ]
        }
      ]
    },
    {
      "cell_type": "markdown",
      "source": [
        "**33)title():**\n",
        "* The title() method returns a string where the first character in every word is upper case. Like a header, or a title.\n",
        "* If the word contains a number or a symbol, the first letter after that will be converted to upper case.\n",
        "\n",
        "**Example:**"
      ],
      "metadata": {
        "id": "9mDiOFSJ1_K6"
      }
    },
    {
      "cell_type": "code",
      "source": [
        "txt = \"i love my country india.\"\n",
        "x = txt.title()\n",
        "print(x)"
      ],
      "metadata": {
        "colab": {
          "base_uri": "https://localhost:8080/"
        },
        "id": "axiQ5Ed_2NUI",
        "outputId": "eaedab0c-36e8-45dd-ded4-160f9059e6f0"
      },
      "execution_count": null,
      "outputs": [
        {
          "output_type": "stream",
          "name": "stdout",
          "text": [
            "I Love My Country India.\n"
          ]
        }
      ]
    },
    {
      "cell_type": "markdown",
      "source": [
        "**34)swapcase():**\n",
        "* The swapcase() method returns a string where all the upper case letters are lower case and vice versa.\n",
        "\n",
        "**Example:**"
      ],
      "metadata": {
        "id": "iS9zeoq82aPu"
      }
    },
    {
      "cell_type": "code",
      "source": [
        "txt = \"Hello My Name Is Revanth\"\n",
        "x = txt.swapcase()\n",
        "print(x)"
      ],
      "metadata": {
        "colab": {
          "base_uri": "https://localhost:8080/"
        },
        "id": "bjatuu5U2mDu",
        "outputId": "7ddff778-bda1-46a8-f7f4-339a90654437"
      },
      "execution_count": null,
      "outputs": [
        {
          "output_type": "stream",
          "name": "stdout",
          "text": [
            "hELLO mY nAME iS rEVANTH\n"
          ]
        }
      ]
    },
    {
      "cell_type": "markdown",
      "source": [
        "**35)zfill():**\n",
        "* The zfill() method adds zeros (0) at the beginning of the string, until it reaches the specified length.\n",
        "* If the value of the len parameter is less than the length of the string, no filling is done.\n",
        "\n",
        "**Example:**"
      ],
      "metadata": {
        "id": "4rfhYlXE2uu4"
      }
    },
    {
      "cell_type": "code",
      "source": [
        "txt = \"50\"\n",
        "x = txt.zfill(10)\n",
        "print(x)"
      ],
      "metadata": {
        "colab": {
          "base_uri": "https://localhost:8080/"
        },
        "id": "d16JJ5hQ28j3",
        "outputId": "bb3ff596-2aa7-493d-ff16-94b92fb40779"
      },
      "execution_count": null,
      "outputs": [
        {
          "output_type": "stream",
          "name": "stdout",
          "text": [
            "0000000050\n"
          ]
        }
      ]
    }
  ]
}