{
  "nbformat": 4,
  "nbformat_minor": 0,
  "metadata": {
    "colab": {
      "provenance": []
    },
    "kernelspec": {
      "name": "python3",
      "display_name": "Python 3"
    },
    "language_info": {
      "name": "python"
    }
  },
  "cells": [
    {
      "cell_type": "markdown",
      "source": [
        "**Python Dictionaries:**\n",
        "* A Python Dictionary is a data structure that allows you to store and retrive data in a key:value pair format.\n",
        "* Dictionaries are also known as associative arrays or hash maps in other Programming Languages.\n",
        "* They are defined using curly braces {} and coonsist of key-value pairs seperated by colons.\n",
        "* A dictionary is a built-in data structure that stores data in key-value pairs.\n",
        "* Each key is unique, immutable (cannot be changed), and is associated with a specific value, which can be of any data type.\n",
        "* Dictionaries are unordered, meaning the elements do not have a defined sequence."
      ],
      "metadata": {
        "id": "_ZP6ZRtLRLhk"
      }
    },
    {
      "cell_type": "markdown",
      "source": [
        "**Examples:**"
      ],
      "metadata": {
        "id": "Mamx5ZSSSwgf"
      }
    },
    {
      "cell_type": "code",
      "source": [
        "# Empty dictionary\n",
        "empty_dict = {}\n",
        "# Dictionary with key-value pairs\n",
        "student = {'name' : 'Revanth','age' : 21,'grade' : 'A'}\n",
        "print(student)"
      ],
      "metadata": {
        "colab": {
          "base_uri": "https://localhost:8080/"
        },
        "id": "9ZbXqf1ZRzjU",
        "outputId": "e3087509-9c88-4931-a9da-a80dc24d48db"
      },
      "execution_count": 1,
      "outputs": [
        {
          "output_type": "stream",
          "name": "stdout",
          "text": [
            "{'name': 'Revanth', 'age': 21, 'grade': 'A'}\n"
          ]
        }
      ]
    },
    {
      "cell_type": "code",
      "source": [
        "# Dictionary with mixed data types\n",
        "mixed_dict = {\n",
        "'name' : 'Revanth',\n",
        "'age' : 21,\n",
        "'grade' : [85,90,92]\n",
        " }\n",
        "print(mixed_dict)"
      ],
      "metadata": {
        "colab": {
          "base_uri": "https://localhost:8080/"
        },
        "id": "GSq3jYsgSF3t",
        "outputId": "ccaab56f-b92c-4f9e-88b9-4ccb66606f9c"
      },
      "execution_count": 3,
      "outputs": [
        {
          "output_type": "stream",
          "name": "stdout",
          "text": [
            "{'name': 'Revanth', 'age': 21, 'grade': [85, 90, 92]}\n"
          ]
        }
      ]
    },
    {
      "cell_type": "code",
      "source": [
        "my_dict = dict(name=\"Revanth\", age=21, city=\"Nizamabad\")\n",
        "\n",
        "print(my_dict)"
      ],
      "metadata": {
        "colab": {
          "base_uri": "https://localhost:8080/"
        },
        "id": "VSeVVATBSXGH",
        "outputId": "636edbb1-af0c-4aa1-cefc-c4d593cd35f9"
      },
      "execution_count": 4,
      "outputs": [
        {
          "output_type": "stream",
          "name": "stdout",
          "text": [
            "{'name': 'Revanth', 'age': 21, 'city': 'Nizamabad'}\n"
          ]
        }
      ]
    },
    {
      "cell_type": "markdown",
      "source": [
        "**Accessing Values:**\n",
        "* We can access the values in a dictionary using the Keys.\n",
        "\n",
        "**Examples:**"
      ],
      "metadata": {
        "id": "PQDME3DNShCT"
      }
    },
    {
      "cell_type": "code",
      "source": [
        "# Dictionary with key-value pairs\n",
        "student = {'name' : 'Revanth', 'age' : 21,'grade' : 'A+'}\n",
        "print(student)"
      ],
      "metadata": {
        "colab": {
          "base_uri": "https://localhost:8080/"
        },
        "id": "eiwzKbY_SuNB",
        "outputId": "5394f97a-d5bf-4be3-c32a-f2669a50c32f"
      },
      "execution_count": 5,
      "outputs": [
        {
          "output_type": "stream",
          "name": "stdout",
          "text": [
            "{'name': 'Revanth', 'age': 21, 'grade': 'A+'}\n"
          ]
        }
      ]
    },
    {
      "cell_type": "code",
      "source": [
        "# Dictionary with mixed data types\n",
        "mixed_dict = {\n",
        "'name' : 'Revanth',\n",
        "'age' : 21,\n",
        "'grade' : [85,90,92]\n",
        "}\n",
        "print(mixed_dict)"
      ],
      "metadata": {
        "colab": {
          "base_uri": "https://localhost:8080/"
        },
        "id": "UWQEYW44TFR7",
        "outputId": "7dfc7d7f-8add-4852-9741-9d5915b48fda"
      },
      "execution_count": 6,
      "outputs": [
        {
          "output_type": "stream",
          "name": "stdout",
          "text": [
            "{'name': 'Revanth', 'age': 21, 'grade': [85, 90, 92]}\n"
          ]
        }
      ]
    },
    {
      "cell_type": "code",
      "source": [
        "# accessing elements\n",
        "print(student['name'])\n",
        "print(mixed_dict['grade'])"
      ],
      "metadata": {
        "colab": {
          "base_uri": "https://localhost:8080/"
        },
        "id": "apyK0bunTPWW",
        "outputId": "b4eead1a-7be3-4f15-f3ce-ae8a9aa27060"
      },
      "execution_count": 7,
      "outputs": [
        {
          "output_type": "stream",
          "name": "stdout",
          "text": [
            "Revanth\n",
            "[85, 90, 92]\n"
          ]
        }
      ]
    },
    {
      "cell_type": "code",
      "source": [
        "my_dict = {\"name\": \"Kiran\", \"age\": 24, \"city\": \"bangolore\"}\n",
        "print(my_dict[\"name\"])\n",
        "print(my_dict[\"age\"])"
      ],
      "metadata": {
        "colab": {
          "base_uri": "https://localhost:8080/"
        },
        "id": "b9DKAJlyTVZ3",
        "outputId": "36cefc12-6711-43bf-fca8-d3ae8341365f"
      },
      "execution_count": 9,
      "outputs": [
        {
          "output_type": "stream",
          "name": "stdout",
          "text": [
            "Kiran\n",
            "24\n"
          ]
        }
      ]
    },
    {
      "cell_type": "markdown",
      "source": [
        "**Modifying and adding entries:**\n",
        "* Dictionaries are Mutable, so you can modify existing entries or add new ones.\n",
        "\n",
        "**Examples:**"
      ],
      "metadata": {
        "id": "VNtB6-ZYTmvd"
      }
    },
    {
      "cell_type": "code",
      "source": [
        "# Dictionary with key_value pairs\n",
        "student = {\n",
        "'name' : 'Revanth',\n",
        "'age' : 21,\n",
        "'grade' : 'B',\n",
        "}\n",
        "student"
      ],
      "metadata": {
        "colab": {
          "base_uri": "https://localhost:8080/"
        },
        "id": "ploVDaBCT0Fn",
        "outputId": "0ed1d696-87a6-4dfe-ac25-4e2a764b413c"
      },
      "execution_count": 10,
      "outputs": [
        {
          "output_type": "execute_result",
          "data": {
            "text/plain": [
              "{'name': 'Revanth', 'age': 21, 'grade': 'B'}"
            ]
          },
          "metadata": {},
          "execution_count": 10
        }
      ]
    },
    {
      "cell_type": "code",
      "source": [
        "# Modifying an entry\n",
        "student['age'] = 25\n",
        "student"
      ],
      "metadata": {
        "colab": {
          "base_uri": "https://localhost:8080/"
        },
        "id": "NdzyB6kMT_61",
        "outputId": "7ff13227-d3a5-4581-8d06-b2607682ab90"
      },
      "execution_count": 11,
      "outputs": [
        {
          "output_type": "execute_result",
          "data": {
            "text/plain": [
              "{'name': 'Revanth', 'age': 25, 'grade': 'B'}"
            ]
          },
          "metadata": {},
          "execution_count": 11
        }
      ]
    },
    {
      "cell_type": "code",
      "source": [
        "# Adding a new entry\n",
        "student['gender'] = 'male'\n",
        "student['Qualification'] = 'B.Tech'\n",
        "student"
      ],
      "metadata": {
        "colab": {
          "base_uri": "https://localhost:8080/"
        },
        "id": "t8gh7PJMUEOA",
        "outputId": "4ca3b5e8-1c5d-4c53-b22a-ab52d5f50271"
      },
      "execution_count": 12,
      "outputs": [
        {
          "output_type": "execute_result",
          "data": {
            "text/plain": [
              "{'name': 'Revanth',\n",
              " 'age': 25,\n",
              " 'grade': 'B',\n",
              " 'gender': 'male',\n",
              " 'Qualification': 'B.Tech'}"
            ]
          },
          "metadata": {},
          "execution_count": 12
        }
      ]
    },
    {
      "cell_type": "code",
      "source": [
        "my_dict = {\"name\": \"Sai\", \"age\": 22, \"city\": \"siddipet\"}\n",
        "my_dict[\"age\"] = 30\n",
        "print(my_dict)"
      ],
      "metadata": {
        "colab": {
          "base_uri": "https://localhost:8080/"
        },
        "id": "vb5WsH-sUNWq",
        "outputId": "ab21ecb4-22e6-4902-c0e4-2ce559ed9be6"
      },
      "execution_count": 13,
      "outputs": [
        {
          "output_type": "stream",
          "name": "stdout",
          "text": [
            "{'name': 'Sai', 'age': 30, 'city': 'siddipet'}\n"
          ]
        }
      ]
    },
    {
      "cell_type": "markdown",
      "source": [
        "**Python Dictionary Methods:**\n",
        "\n",
        "**1) get():**\n",
        "* The get() method returns the value of the item with the specified key.\n",
        "* It allows you to provide a default value if the key in not found.\n",
        "\n",
        "**Example:**"
      ],
      "metadata": {
        "id": "vVKAaooGUX-Q"
      }
    },
    {
      "cell_type": "code",
      "source": [
        "g = student.get('grade','no grade')\n",
        "gender = student.get('gender','Not Specified')\n",
        "h = student.get('location','Location Not Found')\n",
        "print(g)\n",
        "print(gender)\n",
        "print(h)"
      ],
      "metadata": {
        "colab": {
          "base_uri": "https://localhost:8080/"
        },
        "id": "4w2L9C-FU087",
        "outputId": "f1fabda7-1aab-43d6-f4a7-96258e1cb8d1"
      },
      "execution_count": 15,
      "outputs": [
        {
          "output_type": "stream",
          "name": "stdout",
          "text": [
            "B\n",
            "male\n",
            "Location Not Found\n"
          ]
        }
      ]
    },
    {
      "cell_type": "markdown",
      "source": [
        "**2) Keys():**\n",
        "* The keys() method returns a view object. The view object contains the keys of the dictionary, as a list.\n",
        "* The view object will reflect any changes done to the dictionary.\n",
        "* It Returns a view of all the keys in the dictionary.\n",
        "\n",
        "**Example:**"
      ],
      "metadata": {
        "id": "ZSXtOKBYU-t1"
      }
    },
    {
      "cell_type": "code",
      "source": [
        "keys = student.keys()\n",
        "print(keys)\n"
      ],
      "metadata": {
        "colab": {
          "base_uri": "https://localhost:8080/"
        },
        "id": "5F3ClzdaVTzv",
        "outputId": "18f4d5fc-2a3b-4279-c24f-06068866b2b7"
      },
      "execution_count": 16,
      "outputs": [
        {
          "output_type": "stream",
          "name": "stdout",
          "text": [
            "dict_keys(['name', 'age', 'grade', 'gender', 'Qualification'])\n"
          ]
        }
      ]
    },
    {
      "cell_type": "markdown",
      "source": [
        "**3) Values():**\n",
        "* The values() method returns a view object. The view object contains the values of the dictionary, as a list.\n",
        "\n",
        "**Example:**"
      ],
      "metadata": {
        "id": "j-Hv6_KKVZf9"
      }
    },
    {
      "cell_type": "code",
      "source": [
        "values = student.values()\n",
        "print(values)"
      ],
      "metadata": {
        "colab": {
          "base_uri": "https://localhost:8080/"
        },
        "id": "2DByfPyRVprD",
        "outputId": "9f040223-f124-4d88-94a0-298cff8567ef"
      },
      "execution_count": 17,
      "outputs": [
        {
          "output_type": "stream",
          "name": "stdout",
          "text": [
            "dict_values(['Revanth', 25, 'B', 'male', 'B.Tech'])\n"
          ]
        }
      ]
    },
    {
      "cell_type": "markdown",
      "source": [
        "**4) Items:**\n",
        "* The items() method returns a view object. The view object contains the key-value pairs of the dictionary, as tuples in a list.\n",
        "\n",
        "**Example:**"
      ],
      "metadata": {
        "id": "ytta1hD5Vwaj"
      }
    },
    {
      "cell_type": "code",
      "source": [
        "items = student.items()\n",
        "items"
      ],
      "metadata": {
        "colab": {
          "base_uri": "https://localhost:8080/"
        },
        "id": "Fcfv74N0V9Sc",
        "outputId": "89cc197e-a690-440a-89e0-db43756c5e7f"
      },
      "execution_count": 18,
      "outputs": [
        {
          "output_type": "execute_result",
          "data": {
            "text/plain": [
              "dict_items([('name', 'Revanth'), ('age', 25), ('grade', 'B'), ('gender', 'male'), ('Qualification', 'B.Tech')])"
            ]
          },
          "metadata": {},
          "execution_count": 18
        }
      ]
    },
    {
      "cell_type": "markdown",
      "source": [
        "**5) pop():**\n",
        "* The pop() method removes the specified item from the dictionary.\n",
        "* The value of the removed item is the return value of the pop() method.\n",
        "* Remove and Returns the value for aspecified key.\n",
        "\n",
        "**Example:**"
      ],
      "metadata": {
        "id": "vPF666YjWDt-"
      }
    },
    {
      "cell_type": "code",
      "source": [
        "mixed_dict = {\n",
        "'name' : 'Revanth',\n",
        "'age' : 21,\n",
        "'grades' : [85,90,92]\n",
        "}\n",
        "mixed_dict"
      ],
      "metadata": {
        "colab": {
          "base_uri": "https://localhost:8080/"
        },
        "id": "tqNx1I4zWSP9",
        "outputId": "1a80be89-c020-4aeb-be89-b76470daa931"
      },
      "execution_count": 19,
      "outputs": [
        {
          "output_type": "execute_result",
          "data": {
            "text/plain": [
              "{'name': 'Revanth', 'age': 21, 'grades': [85, 90, 92]}"
            ]
          },
          "metadata": {},
          "execution_count": 19
        }
      ]
    },
    {
      "cell_type": "code",
      "source": [
        "age = mixed_dict.pop('age')\n",
        "print(age)"
      ],
      "metadata": {
        "colab": {
          "base_uri": "https://localhost:8080/"
        },
        "id": "GmY5ohipWjUc",
        "outputId": "7524cc15-ba66-4cd3-de5b-44a494dbcacd"
      },
      "execution_count": 20,
      "outputs": [
        {
          "output_type": "stream",
          "name": "stdout",
          "text": [
            "21\n"
          ]
        }
      ]
    },
    {
      "cell_type": "markdown",
      "source": [
        "**6)pop item():**\n",
        "* The popitem() method removes the item that was last inserted into the dictionary.\n",
        "\n",
        "**Example:**"
      ],
      "metadata": {
        "id": "xlVkeLfnWr0R"
      }
    },
    {
      "cell_type": "code",
      "source": [
        "last_item = student.popitem()\n",
        "print(last_item)\n",
        "print(student)"
      ],
      "metadata": {
        "colab": {
          "base_uri": "https://localhost:8080/"
        },
        "id": "4RFGByOUXG_N",
        "outputId": "9e7e36e3-c9a8-48da-d8cb-5e74b08be3a5"
      },
      "execution_count": 21,
      "outputs": [
        {
          "output_type": "stream",
          "name": "stdout",
          "text": [
            "('Qualification', 'B.Tech')\n",
            "{'name': 'Revanth', 'age': 25, 'grade': 'B', 'gender': 'male'}\n"
          ]
        }
      ]
    },
    {
      "cell_type": "markdown",
      "source": [
        "**7)Update:**\n",
        "* Update the dictionary with elements from another dictionary or from an iterable of key-value pairs.\n",
        "\n",
        "**Example:**"
      ],
      "metadata": {
        "id": "A6FoB8iXXNNU"
      }
    },
    {
      "cell_type": "code",
      "source": [
        "# Dictionary with key-value pairs.\n",
        "student = {\n",
        "    'name' : 'Revanth',\n",
        "    'age' : 21,\n",
        "    'grade' : 'A'\n",
        "}\n",
        "student"
      ],
      "metadata": {
        "colab": {
          "base_uri": "https://localhost:8080/"
        },
        "id": "4YvyRwq3Xf8r",
        "outputId": "ed6d98ee-b115-4d2a-d87b-dd87d86882e3"
      },
      "execution_count": 22,
      "outputs": [
        {
          "output_type": "execute_result",
          "data": {
            "text/plain": [
              "{'name': 'Revanth', 'age': 21, 'grade': 'A'}"
            ]
          },
          "metadata": {},
          "execution_count": 22
        }
      ]
    },
    {
      "cell_type": "code",
      "source": [
        "new_data = {'age' : 22, 'grade' : 'A+'}\n",
        "student.update(new_data)\n",
        "print(student)"
      ],
      "metadata": {
        "colab": {
          "base_uri": "https://localhost:8080/"
        },
        "id": "q_URvb-bXnK8",
        "outputId": "db833c9b-262e-4766-c8a8-360b7121ad85"
      },
      "execution_count": 23,
      "outputs": [
        {
          "output_type": "stream",
          "name": "stdout",
          "text": [
            "{'name': 'Revanth', 'age': 22, 'grade': 'A+'}\n"
          ]
        }
      ]
    },
    {
      "cell_type": "markdown",
      "source": [
        "**8)Clear():**\n",
        "* The clear() method removes all the elements from a dictionary.\n"
      ],
      "metadata": {
        "id": "gWdAd5EYXsIA"
      }
    },
    {
      "cell_type": "code",
      "source": [
        "student = {\n",
        "'name' : 'Revanth',\n",
        "'age' : 21,\n",
        "'grade' : 'A'\n",
        "}\n",
        "student.clear()\n",
        "print(student)"
      ],
      "metadata": {
        "colab": {
          "base_uri": "https://localhost:8080/"
        },
        "id": "0XQvlmTeXz6O",
        "outputId": "510a9e3a-9c60-427f-b685-93574e18317c"
      },
      "execution_count": 24,
      "outputs": [
        {
          "output_type": "stream",
          "name": "stdout",
          "text": [
            "{}\n"
          ]
        }
      ]
    },
    {
      "cell_type": "markdown",
      "source": [
        "**9)Copy():**\n",
        "* The copy() method returns a copy of the specified dictionary.\n",
        "\n",
        "**Example:**"
      ],
      "metadata": {
        "id": "qt8o7cwBYAID"
      }
    },
    {
      "cell_type": "code",
      "source": [
        "student = {\n",
        " 'name' : 'Revanth',\n",
        " 'age' : 21,\n",
        " 'grade' : 'A+'\n",
        "}\n",
        "student.copy()\n",
        "print(student)"
      ],
      "metadata": {
        "colab": {
          "base_uri": "https://localhost:8080/"
        },
        "id": "b13LujKFYNA0",
        "outputId": "c95fb41b-80dd-4f1e-ff4f-8b5425ca97f0"
      },
      "execution_count": 25,
      "outputs": [
        {
          "output_type": "stream",
          "name": "stdout",
          "text": [
            "{'name': 'Revanth', 'age': 21, 'grade': 'A+'}\n"
          ]
        }
      ]
    },
    {
      "cell_type": "markdown",
      "source": [
        "**10)from keys():**\n",
        "* The fromkeys() method returns a dictionary with the specified keys and the specified value.\n",
        "\n",
        "**Example:**"
      ],
      "metadata": {
        "id": "4QhxB9qhYZpS"
      }
    },
    {
      "cell_type": "code",
      "source": [
        "keys = ['x', 'y', 'z']\n",
        "my_dict = dict.fromkeys(keys, 3)\n",
        "print(my_dict)"
      ],
      "metadata": {
        "colab": {
          "base_uri": "https://localhost:8080/"
        },
        "id": "QF6NKZfVYhft",
        "outputId": "9a31093e-a1e8-4300-e2ed-a8d9bb9ac79e"
      },
      "execution_count": 27,
      "outputs": [
        {
          "output_type": "stream",
          "name": "stdout",
          "text": [
            "{'x': 3, 'y': 3, 'z': 3}\n"
          ]
        }
      ]
    },
    {
      "cell_type": "markdown",
      "source": [
        "**11)set default()::**\n",
        "* The setdefault() method returns the value of the item with the specified key.\n",
        "\n",
        "**Example:**"
      ],
      "metadata": {
        "id": "bUz2J6NmYuyE"
      }
    },
    {
      "cell_type": "code",
      "source": [
        "student = {\n",
        "'name' : 'Revanth',\n",
        "'age' : 21,\n",
        "'grade' : 'A+'\n",
        "}\n",
        "x = student.setdefault(\"City\" , 'Nizamabad')\n",
        "y = student.setdefault(\"name\", 'Revanth')\n",
        "print(x)\n",
        "print(y)"
      ],
      "metadata": {
        "colab": {
          "base_uri": "https://localhost:8080/"
        },
        "id": "3haGOdqyY30f",
        "outputId": "c958d802-9ae0-41f5-b3ad-1f0dd3ed65eb"
      },
      "execution_count": 28,
      "outputs": [
        {
          "output_type": "stream",
          "name": "stdout",
          "text": [
            "Nizamabad\n",
            "Revanth\n"
          ]
        }
      ]
    }
  ]
}