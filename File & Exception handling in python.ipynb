{
 "cells": [
  {
   "cell_type": "markdown",
   "id": "26f630e0-adfd-4c1b-8bf2-c02192c2e713",
   "metadata": {},
   "source": [
    "# File handling:"
   ]
  },
  {
   "cell_type": "raw",
   "id": "de54d90d-a381-4976-86fe-36c846261f91",
   "metadata": {},
   "source": [
    "- File handling in python involves performing operations like reading & writing to files.\n",
    "- Here's a brief overview of the basics:"
   ]
  },
  {
   "cell_type": "markdown",
   "id": "3439b190-1d3f-4066-8271-f232a93387ca",
   "metadata": {},
   "source": [
    "# Opening a file:"
   ]
  },
  {
   "cell_type": "raw",
   "id": "98cdc9ad-c0b6-4939-adeb-800bfb6d79ba",
   "metadata": {},
   "source": [
    "- To open a file, use the open() function.\n",
    "- This function requires atlast one argument:the name of the file to be opened.\n",
    "- We can also specify the mode in which the file should be opened.\n",
    "- common modes include:\n",
    "* 'r'-Read(default mode)\n",
    "* 'w'-Write(creates a new file or truncates the existing file).\n",
    "* 'a'-Append(adds content to the end of the file).\n",
    "* 'b'-Binary mode('rb or 'wb' for reading/writing binary files).\n",
    "* 't'-Text mode(default,'rb' or 'wt' for reading/writing text files)"
   ]
  },
  {
   "cell_type": "code",
   "execution_count": null,
   "id": "67e8bcc8-f7e9-47d9-8b56-a08174602b11",
   "metadata": {},
   "outputs": [],
   "source": [
    "#opening a file for reading\n",
    "file=open('python.txt','r')"
   ]
  },
  {
   "cell_type": "markdown",
   "id": "60b201d9-3ef4-4248-9fdd-4de4efc047b3",
   "metadata": {},
   "source": [
    "# Reading from a file:"
   ]
  },
  {
   "cell_type": "raw",
   "id": "5de4514a-2181-4399-8749-3c17807c50ab",
   "metadata": {},
   "source": [
    "- There are several methods to read from a file:\n",
    "* read()- Reads the entire file\n",
    "* readline()- Reads one line at a time.\n",
    "* readlines()- Reads all the lines & returns them as a list."
   ]
  },
  {
   "cell_type": "raw",
   "id": "320a0f2a-1726-42d0-adf7-b5e506253ad8",
   "metadata": {},
   "source": [
    "#Reading the entire file\n",
    "content=file.read()\n",
    "print(content)\n",
    "#Reading line by line\n",
    "line=file.readline()\n",
    "while line:\n",
    "    print(line,end='')\n",
    "    line=file.readline()\n",
    "#Reading all lines into a list\n",
    "lines=file.readlines()\n",
    "print(lines)"
   ]
  },
  {
   "cell_type": "markdown",
   "id": "72451fe1-13b9-4519-9d5a-d595360e09c3",
   "metadata": {},
   "source": [
    "# Writing to a file:"
   ]
  },
  {
   "cell_type": "raw",
   "id": "4a129661-58bd-4f9c-b1dd-74ecda8d2924",
   "metadata": {},
   "source": [
    "- to write to a file,open it in write('w),append('a') or binary write('wb') mode.Use the write() or writelines() method."
   ]
  },
  {
   "cell_type": "code",
   "execution_count": null,
   "id": "a6b18000-be1c-4eac-b5c2-48b1df541e7c",
   "metadata": {},
   "outputs": [],
   "source": [
    "#opening a file for writing\n",
    "file=open('python.txt','a')\n",
    "#writing a single line\n",
    "file.write('Hello,Reva say hi!\\n')\n",
    "#writing multiple lines\n",
    "lines=['First\\n','Second\\n','third\\n']\n",
    "file.writelines(lines)"
   ]
  },
  {
   "cell_type": "markdown",
   "id": "662b5922-7bb0-4f25-9e28-c2f0fc279410",
   "metadata": {},
   "source": [
    "# Closing a file:"
   ]
  },
  {
   "cell_type": "raw",
   "id": "a66867a4-7f34-4108-a097-47f67074179c",
   "metadata": {},
   "source": [
    "- Always close a file after completing operations to free up system resources."
   ]
  },
  {
   "cell_type": "code",
   "execution_count": null,
   "id": "cc7af267-376a-4802-8b39-d9de5b9c82cc",
   "metadata": {},
   "outputs": [],
   "source": [
    "file.close()"
   ]
  },
  {
   "cell_type": "markdown",
   "id": "f4a1a851-6da4-42e8-9b85-647c2f23f170",
   "metadata": {},
   "source": [
    "# Exception handling in files:"
   ]
  },
  {
   "cell_type": "code",
   "execution_count": null,
   "id": "6cdf0840-9af2-4535-9c9f-c1861f2b7b94",
   "metadata": {},
   "outputs": [],
   "source": [
    "- If an exception occrs when we are performing some operation with the file,the code exists without closing the file.\n",
    "- A safer way is to use a try .. finally block.\n",
    "The try... except block is used to handle exceptions in python.\n",
    "Here's the syntax of try... except block:\n",
    "try:\n",
    "    #code that may cause exception\n",
    "except:\n",
    "    #code to run when exception occurs"
   ]
  },
  {
   "cell_type": "code",
   "execution_count": null,
   "id": "c571cb6a-f9f1-4615-9a86-b88150789819",
   "metadata": {},
   "outputs": [],
   "source": [
    "try:\n",
    "    file1=open(\"python.txt\",\"r\")\n",
    "    read_content=file1.read()\n",
    "    print(read_content)\n",
    "finally:\n",
    "    #close the file\n",
    "    file1.close()"
   ]
  },
  {
   "cell_type": "markdown",
   "id": "66242af2-62f8-4347-be23-7be146f042d2",
   "metadata": {},
   "source": [
    "# Regualr Expressions:"
   ]
  },
  {
   "cell_type": "raw",
   "id": "5c8e2067-299d-41ab-b896-f97cf049cabf",
   "metadata": {},
   "source": [
    "- Regualr expressions(regex or regexp) are powerful tools for pattern matching and text manipulation in python.\n",
    "- They provide a concise and flexible way to search,match and manipulate strings based on specific patterns."
   ]
  },
  {
   "cell_type": "markdown",
   "id": "6f76fe9b-0e4d-4aba-a4ae-7f9fe3f28b62",
   "metadata": {},
   "source": [
    "# reg ex Functions:"
   ]
  },
  {
   "cell_type": "raw",
   "id": "8f119b3c-d5f8-4043-b754-991ec0e7e34c",
   "metadata": {},
   "source": [
    "- the re module offers a set of functions that allows us to search a string for a match:"
   ]
  },
  {
   "cell_type": "code",
   "execution_count": null,
   "id": "7d215c76-23f7-484e-91d8-4c33ca2c21cf",
   "metadata": {},
   "outputs": [],
   "source": [
    "Function                 Description\n",
    "findall    --   Returns a list containing all matches.\n",
    "search     --   Returns a match object if there is match anywhere in the string.\n",
    "split      --   Returns a list where the string has been split at each match.\n",
    "sub        --   Replaces one or many matches with a string."
   ]
  },
  {
   "cell_type": "markdown",
   "id": "94b18ae2-168e-4552-aacf-a799b25e14bd",
   "metadata": {},
   "source": [
    "# the findall() function:"
   ]
  },
  {
   "cell_type": "raw",
   "id": "360e52e9-4947-4e0a-be71-6a776ef73320",
   "metadata": {},
   "source": [
    "- The findall() function returns a list containing all matches."
   ]
  },
  {
   "cell_type": "code",
   "execution_count": 37,
   "id": "a9589041-d42b-40f4-b113-542d3f255267",
   "metadata": {},
   "outputs": [
    {
     "name": "stdin",
     "output_type": "stream",
     "text": [
      "enter your char: i\n"
     ]
    },
    {
     "name": "stdout",
     "output_type": "stream",
     "text": [
      "matched ['i', 'i', 'i']\n"
     ]
    }
   ],
   "source": [
    "#Match pattern\n",
    "import re \n",
    "#g=int(input(\"Enter your nnumber\")) #int---\n",
    "user=input(\"enter your char:\")\n",
    "txt=\"The rain in spain\"\n",
    "x=re.findall(user,txt)\n",
    "if x:\n",
    "    print(\"matched\",x)\n",
    "else:\n",
    "    print(\"not matched\",x)"
   ]
  },
  {
   "cell_type": "code",
   "execution_count": 43,
   "id": "b3c66b60-9e74-44be-855f-105b2d1311ed",
   "metadata": {},
   "outputs": [
    {
     "name": "stdout",
     "output_type": "stream",
     "text": [
      "[]\n"
     ]
    }
   ],
   "source": [
    "#not match pattern\n",
    "import re\n",
    "txt=\"The rain in spain\"\n",
    "x=re.findall(\"portugal\",txt)\n",
    "print(x)             "
   ]
  },
  {
   "cell_type": "markdown",
   "id": "d66083d8-eb74-4bc3-94d3-cf81e0bd85e3",
   "metadata": {},
   "source": [
    "# the search() funnction:"
   ]
  },
  {
   "cell_type": "code",
   "execution_count": null,
   "id": "4ebcc801-d888-41ee-8011-a9e82330d6a8",
   "metadata": {},
   "outputs": [],
   "source": [
    "- The search() function searches the string for a match and returns a match object if there is a match.\n",
    "- If there is more than one match only the first occurence of the match will be returned."
   ]
  },
  {
   "cell_type": "code",
   "execution_count": 50,
   "id": "ef4e6a86-eb6e-487b-a517-d9d38984bda4",
   "metadata": {},
   "outputs": [
    {
     "name": "stdout",
     "output_type": "stream",
     "text": [
      "The first white-space charcter is located in position: 6\n"
     ]
    }
   ],
   "source": [
    "txt=\"the rain in India and having a fun with rain\"\n",
    "x=re.search(\"i\",txt)\n",
    "print(\"The first white-space charcter is located in position:\",x.start())"
   ]
  },
  {
   "cell_type": "markdown",
   "id": "bdc5bf91-a3c7-4626-a6a2-65d2f2d93bdc",
   "metadata": {},
   "source": [
    "# The split() function:"
   ]
  },
  {
   "cell_type": "code",
   "execution_count": null,
   "id": "593056c5-5b86-4712-b7ee-5966164842e3",
   "metadata": {},
   "outputs": [],
   "source": [
    "* the split() function returns a list where the string has been split at each match:"
   ]
  },
  {
   "cell_type": "code",
   "execution_count": 55,
   "id": "011c0acb-31b9-4054-898d-11e2caef8763",
   "metadata": {},
   "outputs": [
    {
     "name": "stdout",
     "output_type": "stream",
     "text": [
      "['The', 'rain', 'in', 'India', 'and', 'having', 'a', 'fun', 'with', 'rain']\n"
     ]
    },
    {
     "name": "stderr",
     "output_type": "stream",
     "text": [
      "<>:4: SyntaxWarning: invalid escape sequence '\\s'\n",
      "<>:4: SyntaxWarning: invalid escape sequence '\\s'\n",
      "C:\\Users\\revan\\AppData\\Local\\Temp\\ipykernel_16108\\2789203112.py:4: SyntaxWarning: invalid escape sequence '\\s'\n",
      "  x=re.split(\"\\s\",txt)\n"
     ]
    }
   ],
   "source": [
    "#split at each white-space character\n",
    "import re\n",
    "txt=\"The rain in India and having a fun with rain\"\n",
    "x=re.split(\"\\s\",txt)\n",
    "print(x)"
   ]
  },
  {
   "cell_type": "code",
   "execution_count": 61,
   "id": "96c01a3c-ccd4-41ae-b294-effce1dbd86f",
   "metadata": {},
   "outputs": [
    {
     "name": "stdout",
     "output_type": "stream",
     "text": [
      "['The', 'rain', 'in spain and have a great climate here']\n"
     ]
    },
    {
     "name": "stderr",
     "output_type": "stream",
     "text": [
      "<>:4: SyntaxWarning: invalid escape sequence '\\s'\n",
      "<>:4: SyntaxWarning: invalid escape sequence '\\s'\n",
      "C:\\Users\\revan\\AppData\\Local\\Temp\\ipykernel_16108\\3959934753.py:4: SyntaxWarning: invalid escape sequence '\\s'\n",
      "  x=re.split(\"\\s\",txt,2)\n"
     ]
    }
   ],
   "source": [
    "#split the string only at the first occurence:\n",
    "import re\n",
    "txt=\"The rain in spain and have a great climate here\"\n",
    "x=re.split(\"\\s\",txt,2)\n",
    "print(x)"
   ]
  },
  {
   "cell_type": "markdown",
   "id": "ca4a3ce5-956f-42b8-b58e-a65a8ddd34fc",
   "metadata": {},
   "source": [
    "# The sub() function:"
   ]
  },
  {
   "cell_type": "raw",
   "id": "1f36db76-d562-4505-810b-8da03d6bdd07",
   "metadata": {},
   "source": [
    "- The sub(0 function replaces the matches with the text of your choice."
   ]
  },
  {
   "cell_type": "code",
   "execution_count": 73,
   "id": "8cc0b5da-ec9e-4617-946e-0285684de704",
   "metadata": {},
   "outputs": [
    {
     "name": "stdout",
     "output_type": "stream",
     "text": [
      "the rahellon hellon spahellon\n"
     ]
    }
   ],
   "source": [
    "# Replace every white-space character with the number 2\n",
    "import re\n",
    "txt=\"the rain in spain\"\n",
    "x=re.sub(\"i\",\"hello\",txt)\n",
    "print(x)"
   ]
  },
  {
   "cell_type": "markdown",
   "id": "5d4265f2-3101-467e-92fc-9d44bc020087",
   "metadata": {},
   "source": [
    "# Literal Charcters:"
   ]
  },
  {
   "cell_type": "raw",
   "id": "66a975c0-c464-454c-8287-a187e3c542c3",
   "metadata": {},
   "source": [
    "- Regualr characters match themselves."
   ]
  },
  {
   "cell_type": "code",
   "execution_count": 76,
   "id": "637d2440-ce62-4fb9-8b39-2576fcb8e12d",
   "metadata": {},
   "outputs": [
    {
     "name": "stdout",
     "output_type": "stream",
     "text": [
      "Match found: say\n"
     ]
    }
   ],
   "source": [
    "import re\n",
    "pattern=re.compile(r'say')\n",
    "match=pattern.search('say hello to regex!')\n",
    "if match:\n",
    "    print('Match found:',match.group())\n",
    "else:\n",
    "    print('Not Matched')"
   ]
  },
  {
   "cell_type": "markdown",
   "id": "c6cfcd2e-97ea-4d50-ac38-fc1d7f677fd4",
   "metadata": {},
   "source": [
    "# Dot(.) Wildcard:"
   ]
  },
  {
   "cell_type": "raw",
   "id": "a7ea04fc-7351-4df8-ae13-189130ed0ab9",
   "metadata": {},
   "source": [
    "- The dot matches any single character(except for a newline character)."
   ]
  },
  {
   "cell_type": "code",
   "execution_count": 85,
   "id": "6e46a2f7-2241-4bdd-89df-926e0aa3c668",
   "metadata": {},
   "outputs": [
    {
     "name": "stdout",
     "output_type": "stream",
     "text": [
      "Match found: cat\n"
     ]
    }
   ],
   "source": [
    "import re\n",
    "pattern=re.compile(r'c.t')\n",
    "match=pattern.search('cat,cot,cut,good,book,birk,board')\n",
    "if match:\n",
    "    print('Match found:',match.group())"
   ]
  },
  {
   "cell_type": "markdown",
   "id": "d6f52d2e-adcc-4018-afc7-ea27001470ba",
   "metadata": {},
   "source": [
    "# charcter classes:"
   ]
  },
  {
   "cell_type": "code",
   "execution_count": null,
   "id": "3e34574d-eda8-4931-8fd5-1e69a6faf468",
   "metadata": {},
   "outputs": [],
   "source": [
    "- square brackets[] define a charcter class and the regex will match any single character within brackets."
   ]
  },
  {
   "cell_type": "code",
   "execution_count": 88,
   "id": "7d50e2ea-b35a-400b-b7c8-7df0626779c6",
   "metadata": {},
   "outputs": [
    {
     "name": "stdout",
     "output_type": "stream",
     "text": [
      "Match found: x\n"
     ]
    }
   ],
   "source": [
    "import re\n",
    "pattern=re.compile(r'[x]')\n",
    "match=pattern.search('hello,regex!')\n",
    "if match:\n",
    "    print('Match found:',match.group())\n",
    "else:\n",
    "    print(\"Not found\")\n",
    "                   "
   ]
  }
 ],
 "metadata": {
  "kernelspec": {
   "display_name": "Python 3 (ipykernel)",
   "language": "python",
   "name": "python3"
  },
  "language_info": {
   "codemirror_mode": {
    "name": "ipython",
    "version": 3
   },
   "file_extension": ".py",
   "mimetype": "text/x-python",
   "name": "python",
   "nbconvert_exporter": "python",
   "pygments_lexer": "ipython3",
   "version": "3.12.4"
  }
 },
 "nbformat": 4,
 "nbformat_minor": 5
}
