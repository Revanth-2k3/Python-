{
  "nbformat": 4,
  "nbformat_minor": 0,
  "metadata": {
    "colab": {
      "provenance": []
    },
    "kernelspec": {
      "name": "python3",
      "display_name": "Python 3"
    },
    "language_info": {
      "name": "python"
    }
  },
  "cells": [
    {
      "cell_type": "markdown",
      "source": [
        "1) Write a program to provide a customer about his order and status regarding the order."
      ],
      "metadata": {
        "id": "3EraFAp_u-og"
      }
    },
    {
      "cell_type": "code",
      "source": [
        "order=input(\"enter your order:\")\n",
        "veg=[\"veg 1\",\"veg 2\",\"veg 3\",\"veg 4\",\"veg 5\"]\n",
        "non_veg=[\"non_veg 1\",\"non_veg 2\",\"non_veg 3\",\"non_veg 4\",\"non_veg 5\"]\n",
        "if order in veg:\n",
        "  print(order,\"your order veg item\")\n",
        "elif order in non_veg:\n",
        "  print(order,\"your order non veg\")\n",
        "else:\n",
        "  print(\"sorry\")\n"
      ],
      "metadata": {
        "colab": {
          "base_uri": "https://localhost:8080/"
        },
        "id": "cqT252jWvvjo",
        "outputId": "97062427-1360-4fc1-8506-fea98fcb8e3c"
      },
      "execution_count": 1,
      "outputs": [
        {
          "output_type": "stream",
          "name": "stdout",
          "text": [
            "enter your order:non_veg 4\n",
            "non_veg 4 your order non veg\n"
          ]
        }
      ]
    },
    {
      "cell_type": "markdown",
      "source": [
        "2) Write a program to help children to get line,circle,traingle upto decagon by using the numbers 1 to 10 including its slides."
      ],
      "metadata": {
        "id": "GScEHBdqu-wP"
      }
    },
    {
      "cell_type": "code",
      "source": [
        "slides=int(input(\"enter number of slides:\"))\n",
        "if slides==1:\n",
        "    print(\"line has 1 slide\")\n",
        "elif slides==2:\n",
        "    print (\"circle has 2 slides\")\n",
        "elif slides==3:\n",
        "    print (\"triangle has 3 slides\")\n",
        "elif slides==4:\n",
        "    print (\"square has 4 slides\")\n",
        "elif slides==5:\n",
        "    print (\"pentagon has 5 slides\")\n",
        "elif slides==6:\n",
        "    print (\"hexagon has 6 slides\")\n",
        "elif slides==7:\n",
        "    print (\"septagon has 7 slides\")\n",
        "elif slides==8:\n",
        "    print (\"octagon has 8 slides\")\n",
        "elif slides==9:\n",
        "    print (\"nanogon has 9 slides\")\n",
        "elif slides==10:\n",
        "    print (\"decogon has 10 slides\")\n",
        "else :\n",
        " print(\"sorry\")\n"
      ],
      "metadata": {
        "colab": {
          "base_uri": "https://localhost:8080/"
        },
        "id": "UwZfBXzSxI02",
        "outputId": "2aba78be-f8fb-4438-8d57-346149aa8060"
      },
      "execution_count": 3,
      "outputs": [
        {
          "output_type": "stream",
          "name": "stdout",
          "text": [
            "enter number of slides:6\n",
            "hexagon has 6 slides\n"
          ]
        }
      ]
    },
    {
      "cell_type": "markdown",
      "source": [
        "3)Write a python program to provide the number of days in a month to the user."
      ],
      "metadata": {
        "id": "rH4QPz-Vu-64"
      }
    },
    {
      "cell_type": "code",
      "source": [
        "m=input(\"Enter month:\")\n",
        "month=m.capitalize()\n",
        "A= [\"January\",\"March\",\"May\",\"July\",\"August\",\"October\",\"December\"]\n",
        "B= [\"April\",\"June\",\"September\",\"November\"]\n",
        "C= [\"Febuary\"]\n",
        "\n",
        "if month in A:\n",
        "    print(month,\"has 31 days\")\n",
        "elif month in B:\n",
        "    print(month,\"has 30 days\")\n",
        "elif month in C:\n",
        "    print(month,\"has 28 days\")\n",
        "else:\n",
        "    print(month,\" is invalid\")\n"
      ],
      "metadata": {
        "colab": {
          "base_uri": "https://localhost:8080/"
        },
        "id": "RV0PVeGfzwvS",
        "outputId": "f2374858-91b3-4b50-ab89-91a7cc86ac51"
      },
      "execution_count": 4,
      "outputs": [
        {
          "output_type": "stream",
          "name": "stdout",
          "text": [
            "Enter month:august\n",
            "August has 31 days\n"
          ]
        }
      ]
    },
    {
      "cell_type": "markdown",
      "source": [
        "4)Write a python program to find leap year or not."
      ],
      "metadata": {
        "id": "tjIipq3I1JJn"
      }
    },
    {
      "cell_type": "code",
      "source": [
        "year=int(input(\"Enter the year:\"))\n",
        "if (year%400 == 0) or (year%4==0 and year%100!=0):\n",
        "    print(year,\"is Leap Year\")\n",
        "else:\n",
        "    print(year,\"is Not a Leap Year\")"
      ],
      "metadata": {
        "colab": {
          "base_uri": "https://localhost:8080/"
        },
        "id": "T7-MPHBb1HT5",
        "outputId": "75e82b4b-4422-41cd-aeea-bb1602291b1d"
      },
      "execution_count": 5,
      "outputs": [
        {
          "output_type": "stream",
          "name": "stdout",
          "text": [
            "Enter the year:2019\n",
            "2019 is Not a Leap Year\n"
          ]
        }
      ]
    },
    {
      "cell_type": "markdown",
      "source": [
        "5)Write a python program to find the maximum number among the three numbers."
      ],
      "metadata": {
        "id": "cuMRlwuL1sZj"
      }
    },
    {
      "cell_type": "code",
      "source": [
        "a = int (input(\"Enter a \"));\n",
        "b = int (input(\"Enter b \"));\n",
        "c = int (input(\"Enter c \"));\n",
        "if a>b and a>c:\n",
        "    print (\"From the above three numbers a is largest\");\n",
        "if b>a and b>c:\n",
        "    print (\"From the above three numbers b is largest\");\n",
        "if c>a and c>b:\n",
        "    print (\"From the above three numbers c is largest\");"
      ],
      "metadata": {
        "colab": {
          "base_uri": "https://localhost:8080/"
        },
        "id": "uzv3G4TM135o",
        "outputId": "c9738c21-a4d1-4c23-9539-84027ae1290c"
      },
      "execution_count": 6,
      "outputs": [
        {
          "output_type": "stream",
          "name": "stdout",
          "text": [
            "Enter a 56\n",
            "Enter b 96\n",
            "Enter c 76\n",
            "From the above three numbers b is largest\n"
          ]
        }
      ]
    },
    {
      "cell_type": "markdown",
      "source": [
        "6)Write a python program for traffic signals."
      ],
      "metadata": {
        "id": "WaZfS-Ie2N4H"
      }
    },
    {
      "cell_type": "code",
      "source": [
        "m=input(\"Enter the colour:\")\n",
        "c=m.capitalize()\n",
        "if c==\"Red\":\n",
        "    print(c,\":STOP\")\n",
        "elif c==\"Yellow\":\n",
        "    print(c,\":Get READY\")\n",
        "elif c==\"Green\":\n",
        "    print(c,\":GO\")\n",
        "else:\n",
        "    print(c,\"invalid colour\")"
      ],
      "metadata": {
        "colab": {
          "base_uri": "https://localhost:8080/"
        },
        "id": "X3ivcF_X2Wdp",
        "outputId": "97cde333-70f8-4bff-b9de-7b70aa56e44d"
      },
      "execution_count": 14,
      "outputs": [
        {
          "output_type": "stream",
          "name": "stdout",
          "text": [
            "Enter the colour:yellow\n",
            "Yellow :Get READY\n"
          ]
        }
      ]
    },
    {
      "cell_type": "markdown",
      "source": [
        "7)Write a python program to find given character is vowel or consonant."
      ],
      "metadata": {
        "id": "QYdOr4wu269t"
      }
    },
    {
      "cell_type": "code",
      "source": [
        "a=input(\"Character =\")\n",
        "Vowels=[\"A\",\"E\",\"I\",\"O\",\"U\",\"a\",\"e\",\"i\",\"o\",\"u\"]\n",
        "if a in Vowels:\n",
        "    print(a, \"is a Vowel\")\n",
        "else:\n",
        "    print(a, \"is a consonant\")"
      ],
      "metadata": {
        "colab": {
          "base_uri": "https://localhost:8080/"
        },
        "id": "x5gH5qEI3FCb",
        "outputId": "a6d92f3a-feb0-465a-abb8-1ce9143a5e73"
      },
      "execution_count": 19,
      "outputs": [
        {
          "output_type": "stream",
          "name": "stdout",
          "text": [
            "Character =y\n",
            "y is a consonant\n"
          ]
        }
      ]
    },
    {
      "cell_type": "markdown",
      "source": [
        "8)Write a python program to reverse a string."
      ],
      "metadata": {
        "id": "5_wM6N4E4jaU"
      }
    },
    {
      "cell_type": "code",
      "source": [
        "c=input(\"Enter a String:\")\n",
        "d=c[::-1]\n",
        "print(\"Reverse String :\",d)"
      ],
      "metadata": {
        "colab": {
          "base_uri": "https://localhost:8080/"
        },
        "id": "lpyv5pJO4pwm",
        "outputId": "d9c9055a-d1c1-4e2b-d752-eae374981f48"
      },
      "execution_count": 20,
      "outputs": [
        {
          "output_type": "stream",
          "name": "stdout",
          "text": [
            "Enter a String:yaskin\n",
            "Reverse String : niksay\n"
          ]
        }
      ]
    },
    {
      "cell_type": "markdown",
      "source": [
        "9)Write a python program to remove duplicates in a list."
      ],
      "metadata": {
        "id": "pTFzE5Ec4_4B"
      }
    },
    {
      "cell_type": "code",
      "source": [
        "def remove_duplicates(input_list):\n",
        "    unique_list = []\n",
        "    seen = set()\n",
        "    for item in input_list:\n",
        "        if item not in seen:\n",
        "            unique_list.append(item)\n",
        "            seen.add(item)\n",
        "    return unique_list\n",
        "my_list = [1, 2, 3, 2, 4, 3, 5, 1]\n",
        "print(\"Original List:\", my_list)\n",
        "\n",
        "# Removing duplicates while preserving order\n",
        "result = remove_duplicates(my_list)\n",
        "print(\"List after removing duplicates:\", result)"
      ],
      "metadata": {
        "colab": {
          "base_uri": "https://localhost:8080/"
        },
        "id": "3bc8i5wK5LkR",
        "outputId": "0ad1dd1f-7108-4022-bc12-e8d8334b85b9"
      },
      "execution_count": 22,
      "outputs": [
        {
          "output_type": "stream",
          "name": "stdout",
          "text": [
            "Original List: [1, 2, 3, 2, 4, 3, 5, 1]\n",
            "List after removing duplicates: [1, 2, 3, 4, 5]\n"
          ]
        }
      ]
    },
    {
      "cell_type": "markdown",
      "source": [
        "10)Write a python program for the swapping of two numbers without using temporary variable."
      ],
      "metadata": {
        "id": "R0Q6Bib46QUL"
      }
    },
    {
      "cell_type": "code",
      "source": [
        "x=int(input(\"Enter the first number: a=\"))\n",
        "y=int(input(\"Enter the second number: b=\"))\n",
        "x,y=y,x\n",
        "print(\"After Swapping:\",\"a:\",x,\"b:\",y)"
      ],
      "metadata": {
        "colab": {
          "base_uri": "https://localhost:8080/"
        },
        "id": "PagjANuN6PqG",
        "outputId": "3458cbda-1bb8-4fb1-9298-2ebc3a6d8138"
      },
      "execution_count": 23,
      "outputs": [
        {
          "output_type": "stream",
          "name": "stdout",
          "text": [
            "Enter the first number: a=67\n",
            "Enter the second number: b=97\n",
            "After Swapping: a: 97 b: 67\n"
          ]
        }
      ]
    }
  ]
}